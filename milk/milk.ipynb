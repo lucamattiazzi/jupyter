{
 "cells": [
  {
   "cell_type": "code",
   "execution_count": 1,
   "id": "32109ad7-cd12-4c43-b1ae-7abd1d237667",
   "metadata": {},
   "outputs": [],
   "source": [
    "import json\n",
    "from PIL import Image, ImageFilter\n",
    "import os\n",
    "import numpy as np"
   ]
  },
  {
   "cell_type": "code",
   "execution_count": 2,
   "id": "4960f984-f17d-46d1-8668-77edc4bbf406",
   "metadata": {},
   "outputs": [],
   "source": [
    "all_pics = [f\"./pics/{pic}\" for pic in os.listdir(\"./pics\")]\n",
    "\n",
    "with open(\"./colors.json\", \"r\") as color_file:\n",
    "    manual_colors = json.load(color_file)"
   ]
  },
  {
   "cell_type": "code",
   "execution_count": 3,
   "id": "483f0227-1703-4506-adc6-35249c867484",
   "metadata": {},
   "outputs": [],
   "source": [
    "def hex_to_rgb(hex_color):\n",
    "    rgb_color = tuple(int(hex_color[i:i+2], 16) for i in (0, 2, 4))\n",
    "    return [v / 255.0 for v in rgb_color]\n",
    "\n",
    "def hex_to_hsl(hex_color):\n",
    "    rgb_color = hex_to_rgb(hex_color)\n",
    "    h, l, s = colorsys.rgb_to_hls(*rgb_color)\n",
    "    h = h * 360 if h is not None else 0\n",
    "    s = s * 100\n",
    "    l = l * 100\n",
    "    return [h, s, l]\n",
    "\n",
    "def find_non_white_colors(path, white_threshold, saturation_threshold):\n",
    "    name = path.split(\"/\")[-1].split(\".\")[0]\n",
    "    brand, treatment, fat_content = name.split(\"_\")\n",
    "    manual_color = manual_colors[name]\n",
    "    img = Image.open(path)\n",
    "    img.convert(\"RGB\")\n",
    "    img_array = np.array(img)\n",
    "    pixels = img_array.reshape(-1, 3)\n",
    "    \n",
    "    img_hsv = img.convert('HSV')\n",
    "    hsv_array = np.array(img_hsv).reshape(-1, 3)\n",
    "    \n",
    "    \n",
    "    mask = (\n",
    "        (np.max(pixels, axis=1) < white_threshold) &\n",
    "        (hsv_array[:, 1] > saturation_threshold)\n",
    "    )\n",
    "    \n",
    "    filtered_pixels = pixels[mask]\n",
    "\n",
    "    if len(filtered_pixels) == 0:\n",
    "        return (0, 0, 0)\n",
    "    \n",
    "    unique_colors, counts = np.unique(filtered_pixels, axis=0, return_counts=True)\n",
    "    most_common_idx = np.argmax(counts)\n",
    "    rgb_tuple = unique_colors[most_common_idx]\n",
    "    auto_color = \"{:02x}{:02x}{:02x}\".format(rgb_tuple[0], rgb_tuple[1], rgb_tuple[2])\n",
    "    datum = {\n",
    "        \"name\": name,\n",
    "        \"brand\": brand,\n",
    "        \"treatment\": treatment,\n",
    "        \"fat_content\": fat_content,\n",
    "        \"manual_color\": manual_color,\n",
    "        \"manual_hsl\": hex_to_hsl(manual_color),\n",
    "        \"auto_color\": auto_color,\n",
    "        \"auto_hsl\": hex_to_hsl(auto_color),\n",
    "    }\n",
    "    return datum"
   ]
  },
  {
   "cell_type": "code",
   "execution_count": 4,
   "id": "046fc9d3-49a5-4bbb-90b6-a6042cf374a1",
   "metadata": {},
   "outputs": [],
   "source": [
    "data = [find_non_white_colors(path, 200, 30) for path in all_pics]"
   ]
  },
  {
   "cell_type": "code",
   "execution_count": 12,
   "id": "06319b15-f0db-4057-91d4-6e22e1024652",
   "metadata": {},
   "outputs": [
    {
     "data": {
      "application/vnd.plotly.v1+json": {
       "config": {
        "plotlyServerURL": "https://plot.ly"
       },
       "data": [
        {
         "marker": {
          "color": [
           "#6a1b1f",
           "#002170",
           "#ca003b",
           "#330203",
           "#74d9ed",
           "#da0009",
           "#0042c0",
           "#75e3fb",
           "#e10f14",
           "#027de8",
           "#4f1521",
           "#e5c2c9",
           "#dc0100",
           "#083b85",
           "#022da3",
           "#45c4e5",
           "#e4e4e2",
           "#001a6e",
           "#ac9100",
           "#e0afb0",
           "#009dbe",
           "#c0002c",
           "#066d46",
           "#edece6",
           "#01a0d2",
           "#edbab9",
           "#c90036",
           "#02af95",
           "#0470c9",
           "#c70200",
           "#5bbed3",
           "#c5dee5"
          ],
          "line": {
           "color": "black",
           "width": 1
          },
          "size": 30,
          "symbol": [
           "diamond",
           "circle",
           "circle",
           "diamond",
           "diamond",
           "circle",
           "circle",
           "diamond",
           "circle",
           "diamond",
           "diamond",
           "circle",
           "circle",
           "circle",
           "circle",
           "circle",
           "diamond",
           "diamond",
           "diamond",
           "circle",
           "circle",
           "diamond",
           "diamond",
           "diamond",
           "circle",
           "circle",
           "diamond",
           "diamond",
           "diamond",
           "circle",
           "diamond",
           "diamond"
          ]
         },
         "mode": "markers",
         "type": "scatter",
         "x": {
          "bdata": "vwXy27nJ3r+kPDJI9ajEv++Gtmc0TuG/lJm7C8PH4r/Hxa5XIvjiPzE1TFNSMOa/iFeenjVdwz+pFhNfew3lPx8n7CypF+S/gt/oLT692j+iNlvjGzbev5juEYW4cdY/iO5r8br25r9AVBNQ7zSkv0Cppb5TMIo/i/NTkNCL4T+bymijpFzgP2w/dnhkvMe/UarqcxSO079crNhCC+rNPwyUIrq2nNg/tDE1Zmpv4r9EkoBp4rO1v7UjUTAdMeE/Eq4v/gmw3D+E84VWGNjRP9M1S6EjvOG/zpidYdMh1D9O2D7ztdvSP3gvDYRxZ+a/ZitHkBXV3T9J9vdGy9TgPw==",
          "dtype": "f8"
         },
         "y": {
          "bdata": "HDq69y92u7+RZmiPBiHgv/yO/sdy6sw/ygYnjovJ1b+YcPXJJLm/P+LApxDobtI/rxk6rgY03r9YzKUVb6LBP+xEmBsrHdU/mcuKI/zS2b+y5HBSQZrLv53KSVG54uA/6F8e7egA0z84ioBEYJ3cvzsiucsVE9+/UJmPZU1Ss79dIliymOLhP4xjJG7xXOC/mJ9gwG0e0T/uixPkj1XfPwjFYNi7Dti/EKnr21glyD/Gfn9HkJbZv32cygsSPeM/Joi6cQyo178rnVpbjpnhP8jgeaQydMw/A5o1f2FF1r9XpYcMuibav2REiw9T/cs/AGCFLUMYXz8iyktJiN3bPw==",
          "dtype": "f8"
         }
        }
       ],
       "layout": {
        "height": 900,
        "shapes": [
         {
          "fillcolor": "#000000",
          "layer": "below",
          "line": {
           "width": 0
          },
          "type": "rect",
          "x0": -0.8551698563084486,
          "x1": -0.7891451756496158,
          "y0": -0.6226006402364064,
          "y1": -0.5691982169201427
         },
         {
          "fillcolor": "#000000",
          "layer": "below",
          "line": {
           "width": 0
          },
          "type": "rect",
          "x0": -0.7891451756496158,
          "x1": -0.723120494990783,
          "y0": -0.6226006402364064,
          "y1": -0.5691982169201427
         },
         {
          "fillcolor": "#000000",
          "layer": "below",
          "line": {
           "width": 0
          },
          "type": "rect",
          "x0": -0.723120494990783,
          "x1": -0.6570958143319503,
          "y0": -0.6226006402364064,
          "y1": -0.5691982169201427
         },
         {
          "fillcolor": "#00000d",
          "layer": "below",
          "line": {
           "width": 0
          },
          "type": "rect",
          "x0": -0.6570958143319503,
          "x1": -0.5910711336731176,
          "y0": -0.6226006402364064,
          "y1": -0.5691982169201427
         },
         {
          "fillcolor": "#000019",
          "layer": "below",
          "line": {
           "width": 0
          },
          "type": "rect",
          "x0": -0.5910711336731176,
          "x1": -0.5250464530142848,
          "y0": -0.6226006402364064,
          "y1": -0.5691982169201427
         },
         {
          "fillcolor": "#000026",
          "layer": "below",
          "line": {
           "width": 0
          },
          "type": "rect",
          "x0": -0.5250464530142848,
          "x1": -0.45902177235545205,
          "y0": -0.6226006402364064,
          "y1": -0.5691982169201427
         },
         {
          "fillcolor": "#000032",
          "layer": "below",
          "line": {
           "width": 0
          },
          "type": "rect",
          "x0": -0.45902177235545205,
          "x1": -0.3929970916966193,
          "y0": -0.6226006402364064,
          "y1": -0.5691982169201427
         },
         {
          "fillcolor": "#00003f",
          "layer": "below",
          "line": {
           "width": 0
          },
          "type": "rect",
          "x0": -0.3929970916966193,
          "x1": -0.3269724110377865,
          "y0": -0.6226006402364064,
          "y1": -0.5691982169201427
         },
         {
          "fillcolor": "#00094c",
          "layer": "below",
          "line": {
           "width": 0
          },
          "type": "rect",
          "x0": -0.3269724110377865,
          "x1": -0.2609477303789538,
          "y0": -0.6226006402364064,
          "y1": -0.5691982169201427
         },
         {
          "fillcolor": "#001558",
          "layer": "below",
          "line": {
           "width": 0
          },
          "type": "rect",
          "x0": -0.2609477303789538,
          "x1": -0.19492304972012098,
          "y0": -0.6226006402364064,
          "y1": -0.5691982169201427
         },
         {
          "fillcolor": "#002165",
          "layer": "below",
          "line": {
           "width": 0
          },
          "type": "rect",
          "x0": -0.19492304972012098,
          "x1": -0.12889836906128826,
          "y0": -0.6226006402364064,
          "y1": -0.5691982169201427
         },
         {
          "fillcolor": "#002d72",
          "layer": "below",
          "line": {
           "width": 0
          },
          "type": "rect",
          "x0": -0.12889836906128826,
          "x1": -0.06287368840245555,
          "y0": -0.6226006402364064,
          "y1": -0.5691982169201427
         },
         {
          "fillcolor": "#00387e",
          "layer": "below",
          "line": {
           "width": 0
          },
          "type": "rect",
          "x0": -0.06287368840245555,
          "x1": 0.003150992256377272,
          "y0": -0.6226006402364064,
          "y1": -0.5691982169201427
         },
         {
          "fillcolor": "#00448b",
          "layer": "below",
          "line": {
           "width": 0
          },
          "type": "rect",
          "x0": 0.003150992256377272,
          "x1": 0.06917567291520998,
          "y0": -0.6226006402364064,
          "y1": -0.5691982169201427
         },
         {
          "fillcolor": "#005098",
          "layer": "below",
          "line": {
           "width": 0
          },
          "type": "rect",
          "x0": 0.06917567291520998,
          "x1": 0.1352003535740428,
          "y0": -0.6226006402364064,
          "y1": -0.5691982169201427
         },
         {
          "fillcolor": "#005ca4",
          "layer": "below",
          "line": {
           "width": 0
          },
          "type": "rect",
          "x0": 0.1352003535740428,
          "x1": 0.20122503423287552,
          "y0": -0.6226006402364064,
          "y1": -0.5691982169201427
         },
         {
          "fillcolor": "#0067b1",
          "layer": "below",
          "line": {
           "width": 0
          },
          "type": "rect",
          "x0": 0.20122503423287552,
          "x1": 0.26724971489170823,
          "y0": -0.6226006402364064,
          "y1": -0.5691982169201427
         },
         {
          "fillcolor": "#0073bd",
          "layer": "below",
          "line": {
           "width": 0
          },
          "type": "rect",
          "x0": 0.26724971489170823,
          "x1": 0.33327439555054095,
          "y0": -0.6226006402364064,
          "y1": -0.5691982169201427
         },
         {
          "fillcolor": "#007fca",
          "layer": "below",
          "line": {
           "width": 0
          },
          "type": "rect",
          "x0": 0.33327439555054095,
          "x1": 0.3992990762093739,
          "y0": -0.6226006402364064,
          "y1": -0.5691982169201427
         },
         {
          "fillcolor": "#008bd7",
          "layer": "below",
          "line": {
           "width": 0
          },
          "type": "rect",
          "x0": 0.3992990762093739,
          "x1": 0.4653237568682066,
          "y0": -0.6226006402364064,
          "y1": -0.5691982169201427
         },
         {
          "fillcolor": "#0096e3",
          "layer": "below",
          "line": {
           "width": 0
          },
          "type": "rect",
          "x0": 0.4653237568682066,
          "x1": 0.5313484375270393,
          "y0": -0.6226006402364064,
          "y1": -0.5691982169201427
         },
         {
          "fillcolor": "#00a2f0",
          "layer": "below",
          "line": {
           "width": 0
          },
          "type": "rect",
          "x0": 0.5313484375270393,
          "x1": 0.597373118185872,
          "y0": -0.6226006402364064,
          "y1": -0.5691982169201427
         },
         {
          "fillcolor": "#00aefd",
          "layer": "below",
          "line": {
           "width": 0
          },
          "type": "rect",
          "x0": 0.597373118185872,
          "x1": 0.6633977988447047,
          "y0": -0.6226006402364064,
          "y1": -0.5691982169201427
         },
         {
          "fillcolor": "#00baff",
          "layer": "below",
          "line": {
           "width": 0
          },
          "type": "rect",
          "x0": 0.6633977988447047,
          "x1": 0.7294224795035374,
          "y0": -0.6226006402364064,
          "y1": -0.5691982169201427
         },
         {
          "fillcolor": "#00c5ff",
          "layer": "below",
          "line": {
           "width": 0
          },
          "type": "rect",
          "x0": 0.7294224795035374,
          "x1": 0.7954471601623704,
          "y0": -0.6226006402364064,
          "y1": -0.5691982169201427
         },
         {
          "fillcolor": "#0d0000",
          "layer": "below",
          "line": {
           "width": 0
          },
          "type": "rect",
          "x0": -0.8551698563084486,
          "x1": -0.7891451756496158,
          "y0": -0.5691982169201427,
          "y1": -0.5157957936038791
         },
         {
          "fillcolor": "#0a0000",
          "layer": "below",
          "line": {
           "width": 0
          },
          "type": "rect",
          "x0": -0.7891451756496158,
          "x1": -0.723120494990783,
          "y0": -0.5691982169201427,
          "y1": -0.5157957936038791
         },
         {
          "fillcolor": "#070000",
          "layer": "below",
          "line": {
           "width": 0
          },
          "type": "rect",
          "x0": -0.723120494990783,
          "x1": -0.6570958143319503,
          "y0": -0.5691982169201427,
          "y1": -0.5157957936038791
         },
         {
          "fillcolor": "#04000c",
          "layer": "below",
          "line": {
           "width": 0
          },
          "type": "rect",
          "x0": -0.6570958143319503,
          "x1": -0.5910711336731176,
          "y0": -0.5691982169201427,
          "y1": -0.5157957936038791
         },
         {
          "fillcolor": "#010019",
          "layer": "below",
          "line": {
           "width": 0
          },
          "type": "rect",
          "x0": -0.5910711336731176,
          "x1": -0.5250464530142848,
          "y0": -0.5691982169201427,
          "y1": -0.5157957936038791
         },
         {
          "fillcolor": "#000026",
          "layer": "below",
          "line": {
           "width": 0
          },
          "type": "rect",
          "x0": -0.5250464530142848,
          "x1": -0.45902177235545205,
          "y0": -0.5691982169201427,
          "y1": -0.5157957936038791
         },
         {
          "fillcolor": "#000032",
          "layer": "below",
          "line": {
           "width": 0
          },
          "type": "rect",
          "x0": -0.45902177235545205,
          "x1": -0.3929970916966193,
          "y0": -0.5691982169201427,
          "y1": -0.5157957936038791
         },
         {
          "fillcolor": "#00023f",
          "layer": "below",
          "line": {
           "width": 0
          },
          "type": "rect",
          "x0": -0.3929970916966193,
          "x1": -0.3269724110377865,
          "y0": -0.5691982169201427,
          "y1": -0.5157957936038791
         },
         {
          "fillcolor": "#000d4c",
          "layer": "below",
          "line": {
           "width": 0
          },
          "type": "rect",
          "x0": -0.3269724110377865,
          "x1": -0.2609477303789538,
          "y0": -0.5691982169201427,
          "y1": -0.5157957936038791
         },
         {
          "fillcolor": "#001958",
          "layer": "below",
          "line": {
           "width": 0
          },
          "type": "rect",
          "x0": -0.2609477303789538,
          "x1": -0.19492304972012098,
          "y0": -0.5691982169201427,
          "y1": -0.5157957936038791
         },
         {
          "fillcolor": "#002565",
          "layer": "below",
          "line": {
           "width": 0
          },
          "type": "rect",
          "x0": -0.19492304972012098,
          "x1": -0.12889836906128826,
          "y0": -0.5691982169201427,
          "y1": -0.5157957936038791
         },
         {
          "fillcolor": "#003172",
          "layer": "below",
          "line": {
           "width": 0
          },
          "type": "rect",
          "x0": -0.12889836906128826,
          "x1": -0.06287368840245555,
          "y0": -0.5691982169201427,
          "y1": -0.5157957936038791
         },
         {
          "fillcolor": "#003c7e",
          "layer": "below",
          "line": {
           "width": 0
          },
          "type": "rect",
          "x0": -0.06287368840245555,
          "x1": 0.003150992256377272,
          "y0": -0.5691982169201427,
          "y1": -0.5157957936038791
         },
         {
          "fillcolor": "#00488b",
          "layer": "below",
          "line": {
           "width": 0
          },
          "type": "rect",
          "x0": 0.003150992256377272,
          "x1": 0.06917567291520998,
          "y0": -0.5691982169201427,
          "y1": -0.5157957936038791
         },
         {
          "fillcolor": "#005497",
          "layer": "below",
          "line": {
           "width": 0
          },
          "type": "rect",
          "x0": 0.06917567291520998,
          "x1": 0.1352003535740428,
          "y0": -0.5691982169201427,
          "y1": -0.5157957936038791
         },
         {
          "fillcolor": "#005fa4",
          "layer": "below",
          "line": {
           "width": 0
          },
          "type": "rect",
          "x0": 0.1352003535740428,
          "x1": 0.20122503423287552,
          "y0": -0.5691982169201427,
          "y1": -0.5157957936038791
         },
         {
          "fillcolor": "#006bb1",
          "layer": "below",
          "line": {
           "width": 0
          },
          "type": "rect",
          "x0": 0.20122503423287552,
          "x1": 0.26724971489170823,
          "y0": -0.5691982169201427,
          "y1": -0.5157957936038791
         },
         {
          "fillcolor": "#0077bd",
          "layer": "below",
          "line": {
           "width": 0
          },
          "type": "rect",
          "x0": 0.26724971489170823,
          "x1": 0.33327439555054095,
          "y0": -0.5691982169201427,
          "y1": -0.5157957936038791
         },
         {
          "fillcolor": "#0083ca",
          "layer": "below",
          "line": {
           "width": 0
          },
          "type": "rect",
          "x0": 0.33327439555054095,
          "x1": 0.3992990762093739,
          "y0": -0.5691982169201427,
          "y1": -0.5157957936038791
         },
         {
          "fillcolor": "#008ed7",
          "layer": "below",
          "line": {
           "width": 0
          },
          "type": "rect",
          "x0": 0.3992990762093739,
          "x1": 0.4653237568682066,
          "y0": -0.5691982169201427,
          "y1": -0.5157957936038791
         },
         {
          "fillcolor": "#009ae3",
          "layer": "below",
          "line": {
           "width": 0
          },
          "type": "rect",
          "x0": 0.4653237568682066,
          "x1": 0.5313484375270393,
          "y0": -0.5691982169201427,
          "y1": -0.5157957936038791
         },
         {
          "fillcolor": "#00a6f0",
          "layer": "below",
          "line": {
           "width": 0
          },
          "type": "rect",
          "x0": 0.5313484375270393,
          "x1": 0.597373118185872,
          "y0": -0.5691982169201427,
          "y1": -0.5157957936038791
         },
         {
          "fillcolor": "#00b2fd",
          "layer": "below",
          "line": {
           "width": 0
          },
          "type": "rect",
          "x0": 0.597373118185872,
          "x1": 0.6633977988447047,
          "y0": -0.5691982169201427,
          "y1": -0.5157957936038791
         },
         {
          "fillcolor": "#00bdff",
          "layer": "below",
          "line": {
           "width": 0
          },
          "type": "rect",
          "x0": 0.6633977988447047,
          "x1": 0.7294224795035374,
          "y0": -0.5691982169201427,
          "y1": -0.5157957936038791
         },
         {
          "fillcolor": "#00c9ff",
          "layer": "below",
          "line": {
           "width": 0
          },
          "type": "rect",
          "x0": 0.7294224795035374,
          "x1": 0.7954471601623704,
          "y0": -0.5691982169201427,
          "y1": -0.5157957936038791
         },
         {
          "fillcolor": "#1b0000",
          "layer": "below",
          "line": {
           "width": 0
          },
          "type": "rect",
          "x0": -0.8551698563084486,
          "x1": -0.7891451756496158,
          "y0": -0.5157957936038791,
          "y1": -0.46239337028761546
         },
         {
          "fillcolor": "#180000",
          "layer": "below",
          "line": {
           "width": 0
          },
          "type": "rect",
          "x0": -0.7891451756496158,
          "x1": -0.723120494990783,
          "y0": -0.5157957936038791,
          "y1": -0.46239337028761546
         },
         {
          "fillcolor": "#150000",
          "layer": "below",
          "line": {
           "width": 0
          },
          "type": "rect",
          "x0": -0.723120494990783,
          "x1": -0.6570958143319503,
          "y0": -0.5157957936038791,
          "y1": -0.46239337028761546
         },
         {
          "fillcolor": "#11000c",
          "layer": "below",
          "line": {
           "width": 0
          },
          "type": "rect",
          "x0": -0.6570958143319503,
          "x1": -0.5910711336731176,
          "y0": -0.5157957936038791,
          "y1": -0.46239337028761546
         },
         {
          "fillcolor": "#0e0019",
          "layer": "below",
          "line": {
           "width": 0
          },
          "type": "rect",
          "x0": -0.5910711336731176,
          "x1": -0.5250464530142848,
          "y0": -0.5157957936038791,
          "y1": -0.46239337028761546
         },
         {
          "fillcolor": "#0b0026",
          "layer": "below",
          "line": {
           "width": 0
          },
          "type": "rect",
          "x0": -0.5250464530142848,
          "x1": -0.45902177235545205,
          "y0": -0.5157957936038791,
          "y1": -0.46239337028761546
         },
         {
          "fillcolor": "#080032",
          "layer": "below",
          "line": {
           "width": 0
          },
          "type": "rect",
          "x0": -0.45902177235545205,
          "x1": -0.3929970916966193,
          "y0": -0.5157957936038791,
          "y1": -0.46239337028761546
         },
         {
          "fillcolor": "#05053f",
          "layer": "below",
          "line": {
           "width": 0
          },
          "type": "rect",
          "x0": -0.3929970916966193,
          "x1": -0.3269724110377865,
          "y0": -0.5157957936038791,
          "y1": -0.46239337028761546
         },
         {
          "fillcolor": "#02114c",
          "layer": "below",
          "line": {
           "width": 0
          },
          "type": "rect",
          "x0": -0.3269724110377865,
          "x1": -0.2609477303789538,
          "y0": -0.5157957936038791,
          "y1": -0.46239337028761546
         },
         {
          "fillcolor": "#001d58",
          "layer": "below",
          "line": {
           "width": 0
          },
          "type": "rect",
          "x0": -0.2609477303789538,
          "x1": -0.19492304972012098,
          "y0": -0.5157957936038791,
          "y1": -0.46239337028761546
         },
         {
          "fillcolor": "#002965",
          "layer": "below",
          "line": {
           "width": 0
          },
          "type": "rect",
          "x0": -0.19492304972012098,
          "x1": -0.12889836906128826,
          "y0": -0.5157957936038791,
          "y1": -0.46239337028761546
         },
         {
          "fillcolor": "#003471",
          "layer": "below",
          "line": {
           "width": 0
          },
          "type": "rect",
          "x0": -0.12889836906128826,
          "x1": -0.06287368840245555,
          "y0": -0.5157957936038791,
          "y1": -0.46239337028761546
         },
         {
          "fillcolor": "#00407e",
          "layer": "below",
          "line": {
           "width": 0
          },
          "type": "rect",
          "x0": -0.06287368840245555,
          "x1": 0.003150992256377272,
          "y0": -0.5157957936038791,
          "y1": -0.46239337028761546
         },
         {
          "fillcolor": "#004c8b",
          "layer": "below",
          "line": {
           "width": 0
          },
          "type": "rect",
          "x0": 0.003150992256377272,
          "x1": 0.06917567291520998,
          "y0": -0.5157957936038791,
          "y1": -0.46239337028761546
         },
         {
          "fillcolor": "#005897",
          "layer": "below",
          "line": {
           "width": 0
          },
          "type": "rect",
          "x0": 0.06917567291520998,
          "x1": 0.1352003535740428,
          "y0": -0.5157957936038791,
          "y1": -0.46239337028761546
         },
         {
          "fillcolor": "#0063a4",
          "layer": "below",
          "line": {
           "width": 0
          },
          "type": "rect",
          "x0": 0.1352003535740428,
          "x1": 0.20122503423287552,
          "y0": -0.5157957936038791,
          "y1": -0.46239337028761546
         },
         {
          "fillcolor": "#006fb1",
          "layer": "below",
          "line": {
           "width": 0
          },
          "type": "rect",
          "x0": 0.20122503423287552,
          "x1": 0.26724971489170823,
          "y0": -0.5157957936038791,
          "y1": -0.46239337028761546
         },
         {
          "fillcolor": "#007bbd",
          "layer": "below",
          "line": {
           "width": 0
          },
          "type": "rect",
          "x0": 0.26724971489170823,
          "x1": 0.33327439555054095,
          "y0": -0.5157957936038791,
          "y1": -0.46239337028761546
         },
         {
          "fillcolor": "#0087ca",
          "layer": "below",
          "line": {
           "width": 0
          },
          "type": "rect",
          "x0": 0.33327439555054095,
          "x1": 0.3992990762093739,
          "y0": -0.5157957936038791,
          "y1": -0.46239337028761546
         },
         {
          "fillcolor": "#0092d7",
          "layer": "below",
          "line": {
           "width": 0
          },
          "type": "rect",
          "x0": 0.3992990762093739,
          "x1": 0.4653237568682066,
          "y0": -0.5157957936038791,
          "y1": -0.46239337028761546
         },
         {
          "fillcolor": "#009ee3",
          "layer": "below",
          "line": {
           "width": 0
          },
          "type": "rect",
          "x0": 0.4653237568682066,
          "x1": 0.5313484375270393,
          "y0": -0.5157957936038791,
          "y1": -0.46239337028761546
         },
         {
          "fillcolor": "#00aaf0",
          "layer": "below",
          "line": {
           "width": 0
          },
          "type": "rect",
          "x0": 0.5313484375270393,
          "x1": 0.597373118185872,
          "y0": -0.5157957936038791,
          "y1": -0.46239337028761546
         },
         {
          "fillcolor": "#00b5fc",
          "layer": "below",
          "line": {
           "width": 0
          },
          "type": "rect",
          "x0": 0.597373118185872,
          "x1": 0.6633977988447047,
          "y0": -0.5157957936038791,
          "y1": -0.46239337028761546
         },
         {
          "fillcolor": "#00c1ff",
          "layer": "below",
          "line": {
           "width": 0
          },
          "type": "rect",
          "x0": 0.6633977988447047,
          "x1": 0.7294224795035374,
          "y0": -0.5157957936038791,
          "y1": -0.46239337028761546
         },
         {
          "fillcolor": "#00cdff",
          "layer": "below",
          "line": {
           "width": 0
          },
          "type": "rect",
          "x0": 0.7294224795035374,
          "x1": 0.7954471601623704,
          "y0": -0.5157957936038791,
          "y1": -0.46239337028761546
         },
         {
          "fillcolor": "#290000",
          "layer": "below",
          "line": {
           "width": 0
          },
          "type": "rect",
          "x0": -0.8551698563084486,
          "x1": -0.7891451756496158,
          "y0": -0.46239337028761546,
          "y1": -0.40899094697135185
         },
         {
          "fillcolor": "#250000",
          "layer": "below",
          "line": {
           "width": 0
          },
          "type": "rect",
          "x0": -0.7891451756496158,
          "x1": -0.723120494990783,
          "y0": -0.46239337028761546,
          "y1": -0.40899094697135185
         },
         {
          "fillcolor": "#220000",
          "layer": "below",
          "line": {
           "width": 0
          },
          "type": "rect",
          "x0": -0.723120494990783,
          "x1": -0.6570958143319503,
          "y0": -0.46239337028761546,
          "y1": -0.40899094697135185
         },
         {
          "fillcolor": "#1f000c",
          "layer": "below",
          "line": {
           "width": 0
          },
          "type": "rect",
          "x0": -0.6570958143319503,
          "x1": -0.5910711336731176,
          "y0": -0.46239337028761546,
          "y1": -0.40899094697135185
         },
         {
          "fillcolor": "#1c0019",
          "layer": "below",
          "line": {
           "width": 0
          },
          "type": "rect",
          "x0": -0.5910711336731176,
          "x1": -0.5250464530142848,
          "y0": -0.46239337028761546,
          "y1": -0.40899094697135185
         },
         {
          "fillcolor": "#190025",
          "layer": "below",
          "line": {
           "width": 0
          },
          "type": "rect",
          "x0": -0.5250464530142848,
          "x1": -0.45902177235545205,
          "y0": -0.46239337028761546,
          "y1": -0.40899094697135185
         },
         {
          "fillcolor": "#160032",
          "layer": "below",
          "line": {
           "width": 0
          },
          "type": "rect",
          "x0": -0.45902177235545205,
          "x1": -0.3929970916966193,
          "y0": -0.46239337028761546,
          "y1": -0.40899094697135185
         },
         {
          "fillcolor": "#12093f",
          "layer": "below",
          "line": {
           "width": 0
          },
          "type": "rect",
          "x0": -0.3929970916966193,
          "x1": -0.3269724110377865,
          "y0": -0.46239337028761546,
          "y1": -0.40899094697135185
         },
         {
          "fillcolor": "#0f154b",
          "layer": "below",
          "line": {
           "width": 0
          },
          "type": "rect",
          "x0": -0.3269724110377865,
          "x1": -0.2609477303789538,
          "y0": -0.46239337028761546,
          "y1": -0.40899094697135185
         },
         {
          "fillcolor": "#0c2158",
          "layer": "below",
          "line": {
           "width": 0
          },
          "type": "rect",
          "x0": -0.2609477303789538,
          "x1": -0.19492304972012098,
          "y0": -0.46239337028761546,
          "y1": -0.40899094697135185
         },
         {
          "fillcolor": "#092c65",
          "layer": "below",
          "line": {
           "width": 0
          },
          "type": "rect",
          "x0": -0.19492304972012098,
          "x1": -0.12889836906128826,
          "y0": -0.46239337028761546,
          "y1": -0.40899094697135185
         },
         {
          "fillcolor": "#063871",
          "layer": "below",
          "line": {
           "width": 0
          },
          "type": "rect",
          "x0": -0.12889836906128826,
          "x1": -0.06287368840245555,
          "y0": -0.46239337028761546,
          "y1": -0.40899094697135185
         },
         {
          "fillcolor": "#03447e",
          "layer": "below",
          "line": {
           "width": 0
          },
          "type": "rect",
          "x0": -0.06287368840245555,
          "x1": 0.003150992256377272,
          "y0": -0.46239337028761546,
          "y1": -0.40899094697135185
         },
         {
          "fillcolor": "#00508b",
          "layer": "below",
          "line": {
           "width": 0
          },
          "type": "rect",
          "x0": 0.003150992256377272,
          "x1": 0.06917567291520998,
          "y0": -0.46239337028761546,
          "y1": -0.40899094697135185
         },
         {
          "fillcolor": "#005b97",
          "layer": "below",
          "line": {
           "width": 0
          },
          "type": "rect",
          "x0": 0.06917567291520998,
          "x1": 0.1352003535740428,
          "y0": -0.46239337028761546,
          "y1": -0.40899094697135185
         },
         {
          "fillcolor": "#0067a4",
          "layer": "below",
          "line": {
           "width": 0
          },
          "type": "rect",
          "x0": 0.1352003535740428,
          "x1": 0.20122503423287552,
          "y0": -0.46239337028761546,
          "y1": -0.40899094697135185
         },
         {
          "fillcolor": "#0073b0",
          "layer": "below",
          "line": {
           "width": 0
          },
          "type": "rect",
          "x0": 0.20122503423287552,
          "x1": 0.26724971489170823,
          "y0": -0.46239337028761546,
          "y1": -0.40899094697135185
         },
         {
          "fillcolor": "#007fbd",
          "layer": "below",
          "line": {
           "width": 0
          },
          "type": "rect",
          "x0": 0.26724971489170823,
          "x1": 0.33327439555054095,
          "y0": -0.46239337028761546,
          "y1": -0.40899094697135185
         },
         {
          "fillcolor": "#008aca",
          "layer": "below",
          "line": {
           "width": 0
          },
          "type": "rect",
          "x0": 0.33327439555054095,
          "x1": 0.3992990762093739,
          "y0": -0.46239337028761546,
          "y1": -0.40899094697135185
         },
         {
          "fillcolor": "#0096d6",
          "layer": "below",
          "line": {
           "width": 0
          },
          "type": "rect",
          "x0": 0.3992990762093739,
          "x1": 0.4653237568682066,
          "y0": -0.46239337028761546,
          "y1": -0.40899094697135185
         },
         {
          "fillcolor": "#00a2e3",
          "layer": "below",
          "line": {
           "width": 0
          },
          "type": "rect",
          "x0": 0.4653237568682066,
          "x1": 0.5313484375270393,
          "y0": -0.46239337028761546,
          "y1": -0.40899094697135185
         },
         {
          "fillcolor": "#00aef0",
          "layer": "below",
          "line": {
           "width": 0
          },
          "type": "rect",
          "x0": 0.5313484375270393,
          "x1": 0.597373118185872,
          "y0": -0.46239337028761546,
          "y1": -0.40899094697135185
         },
         {
          "fillcolor": "#00b9fc",
          "layer": "below",
          "line": {
           "width": 0
          },
          "type": "rect",
          "x0": 0.597373118185872,
          "x1": 0.6633977988447047,
          "y0": -0.46239337028761546,
          "y1": -0.40899094697135185
         },
         {
          "fillcolor": "#00c5ff",
          "layer": "below",
          "line": {
           "width": 0
          },
          "type": "rect",
          "x0": 0.6633977988447047,
          "x1": 0.7294224795035374,
          "y0": -0.46239337028761546,
          "y1": -0.40899094697135185
         },
         {
          "fillcolor": "#00d1ff",
          "layer": "below",
          "line": {
           "width": 0
          },
          "type": "rect",
          "x0": 0.7294224795035374,
          "x1": 0.7954471601623704,
          "y0": -0.46239337028761546,
          "y1": -0.40899094697135185
         },
         {
          "fillcolor": "#360000",
          "layer": "below",
          "line": {
           "width": 0
          },
          "type": "rect",
          "x0": -0.8551698563084486,
          "x1": -0.7891451756496158,
          "y0": -0.40899094697135185,
          "y1": -0.3555885236550882
         },
         {
          "fillcolor": "#330000",
          "layer": "below",
          "line": {
           "width": 0
          },
          "type": "rect",
          "x0": -0.7891451756496158,
          "x1": -0.723120494990783,
          "y0": -0.40899094697135185,
          "y1": -0.3555885236550882
         },
         {
          "fillcolor": "#300000",
          "layer": "below",
          "line": {
           "width": 0
          },
          "type": "rect",
          "x0": -0.723120494990783,
          "x1": -0.6570958143319503,
          "y0": -0.40899094697135185,
          "y1": -0.3555885236550882
         },
         {
          "fillcolor": "#2d000c",
          "layer": "below",
          "line": {
           "width": 0
          },
          "type": "rect",
          "x0": -0.6570958143319503,
          "x1": -0.5910711336731176,
          "y0": -0.40899094697135185,
          "y1": -0.3555885236550882
         },
         {
          "fillcolor": "#2a0019",
          "layer": "below",
          "line": {
           "width": 0
          },
          "type": "rect",
          "x0": -0.5910711336731176,
          "x1": -0.5250464530142848,
          "y0": -0.40899094697135185,
          "y1": -0.3555885236550882
         },
         {
          "fillcolor": "#260025",
          "layer": "below",
          "line": {
           "width": 0
          },
          "type": "rect",
          "x0": -0.5250464530142848,
          "x1": -0.45902177235545205,
          "y0": -0.40899094697135185,
          "y1": -0.3555885236550882
         },
         {
          "fillcolor": "#230132",
          "layer": "below",
          "line": {
           "width": 0
          },
          "type": "rect",
          "x0": -0.45902177235545205,
          "x1": -0.3929970916966193,
          "y0": -0.40899094697135185,
          "y1": -0.3555885236550882
         },
         {
          "fillcolor": "#200d3f",
          "layer": "below",
          "line": {
           "width": 0
          },
          "type": "rect",
          "x0": -0.3929970916966193,
          "x1": -0.3269724110377865,
          "y0": -0.40899094697135185,
          "y1": -0.3555885236550882
         },
         {
          "fillcolor": "#1d194b",
          "layer": "below",
          "line": {
           "width": 0
          },
          "type": "rect",
          "x0": -0.3269724110377865,
          "x1": -0.2609477303789538,
          "y0": -0.40899094697135185,
          "y1": -0.3555885236550882
         },
         {
          "fillcolor": "#1a2458",
          "layer": "below",
          "line": {
           "width": 0
          },
          "type": "rect",
          "x0": -0.2609477303789538,
          "x1": -0.19492304972012098,
          "y0": -0.40899094697135185,
          "y1": -0.3555885236550882
         },
         {
          "fillcolor": "#173065",
          "layer": "below",
          "line": {
           "width": 0
          },
          "type": "rect",
          "x0": -0.19492304972012098,
          "x1": -0.12889836906128826,
          "y0": -0.40899094697135185,
          "y1": -0.3555885236550882
         },
         {
          "fillcolor": "#133c71",
          "layer": "below",
          "line": {
           "width": 0
          },
          "type": "rect",
          "x0": -0.12889836906128826,
          "x1": -0.06287368840245555,
          "y0": -0.40899094697135185,
          "y1": -0.3555885236550882
         },
         {
          "fillcolor": "#10487e",
          "layer": "below",
          "line": {
           "width": 0
          },
          "type": "rect",
          "x0": -0.06287368840245555,
          "x1": 0.003150992256377272,
          "y0": -0.40899094697135185,
          "y1": -0.3555885236550882
         },
         {
          "fillcolor": "#0d538a",
          "layer": "below",
          "line": {
           "width": 0
          },
          "type": "rect",
          "x0": 0.003150992256377272,
          "x1": 0.06917567291520998,
          "y0": -0.40899094697135185,
          "y1": -0.3555885236550882
         },
         {
          "fillcolor": "#0a5f97",
          "layer": "below",
          "line": {
           "width": 0
          },
          "type": "rect",
          "x0": 0.06917567291520998,
          "x1": 0.1352003535740428,
          "y0": -0.40899094697135185,
          "y1": -0.3555885236550882
         },
         {
          "fillcolor": "#076ba4",
          "layer": "below",
          "line": {
           "width": 0
          },
          "type": "rect",
          "x0": 0.1352003535740428,
          "x1": 0.20122503423287552,
          "y0": -0.40899094697135185,
          "y1": -0.3555885236550882
         },
         {
          "fillcolor": "#0477b0",
          "layer": "below",
          "line": {
           "width": 0
          },
          "type": "rect",
          "x0": 0.20122503423287552,
          "x1": 0.26724971489170823,
          "y0": -0.40899094697135185,
          "y1": -0.3555885236550882
         },
         {
          "fillcolor": "#0082bd",
          "layer": "below",
          "line": {
           "width": 0
          },
          "type": "rect",
          "x0": 0.26724971489170823,
          "x1": 0.33327439555054095,
          "y0": -0.40899094697135185,
          "y1": -0.3555885236550882
         },
         {
          "fillcolor": "#008eca",
          "layer": "below",
          "line": {
           "width": 0
          },
          "type": "rect",
          "x0": 0.33327439555054095,
          "x1": 0.3992990762093739,
          "y0": -0.40899094697135185,
          "y1": -0.3555885236550882
         },
         {
          "fillcolor": "#009ad6",
          "layer": "below",
          "line": {
           "width": 0
          },
          "type": "rect",
          "x0": 0.3992990762093739,
          "x1": 0.4653237568682066,
          "y0": -0.40899094697135185,
          "y1": -0.3555885236550882
         },
         {
          "fillcolor": "#00a6e3",
          "layer": "below",
          "line": {
           "width": 0
          },
          "type": "rect",
          "x0": 0.4653237568682066,
          "x1": 0.5313484375270393,
          "y0": -0.40899094697135185,
          "y1": -0.3555885236550882
         },
         {
          "fillcolor": "#00b1f0",
          "layer": "below",
          "line": {
           "width": 0
          },
          "type": "rect",
          "x0": 0.5313484375270393,
          "x1": 0.597373118185872,
          "y0": -0.40899094697135185,
          "y1": -0.3555885236550882
         },
         {
          "fillcolor": "#00bdfc",
          "layer": "below",
          "line": {
           "width": 0
          },
          "type": "rect",
          "x0": 0.597373118185872,
          "x1": 0.6633977988447047,
          "y0": -0.40899094697135185,
          "y1": -0.3555885236550882
         },
         {
          "fillcolor": "#00c9ff",
          "layer": "below",
          "line": {
           "width": 0
          },
          "type": "rect",
          "x0": 0.6633977988447047,
          "x1": 0.7294224795035374,
          "y0": -0.40899094697135185,
          "y1": -0.3555885236550882
         },
         {
          "fillcolor": "#00d5ff",
          "layer": "below",
          "line": {
           "width": 0
          },
          "type": "rect",
          "x0": 0.7294224795035374,
          "x1": 0.7954471601623704,
          "y0": -0.40899094697135185,
          "y1": -0.3555885236550882
         },
         {
          "fillcolor": "#440000",
          "layer": "below",
          "line": {
           "width": 0
          },
          "type": "rect",
          "x0": -0.8551698563084486,
          "x1": -0.7891451756496158,
          "y0": -0.3555885236550882,
          "y1": -0.30218610033882454
         },
         {
          "fillcolor": "#410000",
          "layer": "below",
          "line": {
           "width": 0
          },
          "type": "rect",
          "x0": -0.7891451756496158,
          "x1": -0.723120494990783,
          "y0": -0.3555885236550882,
          "y1": -0.30218610033882454
         },
         {
          "fillcolor": "#3e0000",
          "layer": "below",
          "line": {
           "width": 0
          },
          "type": "rect",
          "x0": -0.723120494990783,
          "x1": -0.6570958143319503,
          "y0": -0.3555885236550882,
          "y1": -0.30218610033882454
         },
         {
          "fillcolor": "#3a000c",
          "layer": "below",
          "line": {
           "width": 0
          },
          "type": "rect",
          "x0": -0.6570958143319503,
          "x1": -0.5910711336731176,
          "y0": -0.3555885236550882,
          "y1": -0.30218610033882454
         },
         {
          "fillcolor": "#370019",
          "layer": "below",
          "line": {
           "width": 0
          },
          "type": "rect",
          "x0": -0.5910711336731176,
          "x1": -0.5250464530142848,
          "y0": -0.3555885236550882,
          "y1": -0.30218610033882454
         },
         {
          "fillcolor": "#340025",
          "layer": "below",
          "line": {
           "width": 0
          },
          "type": "rect",
          "x0": -0.5250464530142848,
          "x1": -0.45902177235545205,
          "y0": -0.3555885236550882,
          "y1": -0.30218610033882454
         },
         {
          "fillcolor": "#310532",
          "layer": "below",
          "line": {
           "width": 0
          },
          "type": "rect",
          "x0": -0.45902177235545205,
          "x1": -0.3929970916966193,
          "y0": -0.3555885236550882,
          "y1": -0.30218610033882454
         },
         {
          "fillcolor": "#2e113f",
          "layer": "below",
          "line": {
           "width": 0
          },
          "type": "rect",
          "x0": -0.3929970916966193,
          "x1": -0.3269724110377865,
          "y0": -0.3555885236550882,
          "y1": -0.30218610033882454
         },
         {
          "fillcolor": "#2b1d4b",
          "layer": "below",
          "line": {
           "width": 0
          },
          "type": "rect",
          "x0": -0.3269724110377865,
          "x1": -0.2609477303789538,
          "y0": -0.3555885236550882,
          "y1": -0.30218610033882454
         },
         {
          "fillcolor": "#272858",
          "layer": "below",
          "line": {
           "width": 0
          },
          "type": "rect",
          "x0": -0.2609477303789538,
          "x1": -0.19492304972012098,
          "y0": -0.3555885236550882,
          "y1": -0.30218610033882454
         },
         {
          "fillcolor": "#243464",
          "layer": "below",
          "line": {
           "width": 0
          },
          "type": "rect",
          "x0": -0.19492304972012098,
          "x1": -0.12889836906128826,
          "y0": -0.3555885236550882,
          "y1": -0.30218610033882454
         },
         {
          "fillcolor": "#214071",
          "layer": "below",
          "line": {
           "width": 0
          },
          "type": "rect",
          "x0": -0.12889836906128826,
          "x1": -0.06287368840245555,
          "y0": -0.3555885236550882,
          "y1": -0.30218610033882454
         },
         {
          "fillcolor": "#1e4c7e",
          "layer": "below",
          "line": {
           "width": 0
          },
          "type": "rect",
          "x0": -0.06287368840245555,
          "x1": 0.003150992256377272,
          "y0": -0.3555885236550882,
          "y1": -0.30218610033882454
         },
         {
          "fillcolor": "#1b578a",
          "layer": "below",
          "line": {
           "width": 0
          },
          "type": "rect",
          "x0": 0.003150992256377272,
          "x1": 0.06917567291520998,
          "y0": -0.3555885236550882,
          "y1": -0.30218610033882454
         },
         {
          "fillcolor": "#186397",
          "layer": "below",
          "line": {
           "width": 0
          },
          "type": "rect",
          "x0": 0.06917567291520998,
          "x1": 0.1352003535740428,
          "y0": -0.3555885236550882,
          "y1": -0.30218610033882454
         },
         {
          "fillcolor": "#146fa4",
          "layer": "below",
          "line": {
           "width": 0
          },
          "type": "rect",
          "x0": 0.1352003535740428,
          "x1": 0.20122503423287552,
          "y0": -0.3555885236550882,
          "y1": -0.30218610033882454
         },
         {
          "fillcolor": "#117ab0",
          "layer": "below",
          "line": {
           "width": 0
          },
          "type": "rect",
          "x0": 0.20122503423287552,
          "x1": 0.26724971489170823,
          "y0": -0.3555885236550882,
          "y1": -0.30218610033882454
         },
         {
          "fillcolor": "#0e86bd",
          "layer": "below",
          "line": {
           "width": 0
          },
          "type": "rect",
          "x0": 0.26724971489170823,
          "x1": 0.33327439555054095,
          "y0": -0.3555885236550882,
          "y1": -0.30218610033882454
         },
         {
          "fillcolor": "#0b92ca",
          "layer": "below",
          "line": {
           "width": 0
          },
          "type": "rect",
          "x0": 0.33327439555054095,
          "x1": 0.3992990762093739,
          "y0": -0.3555885236550882,
          "y1": -0.30218610033882454
         },
         {
          "fillcolor": "#089ed6",
          "layer": "below",
          "line": {
           "width": 0
          },
          "type": "rect",
          "x0": 0.3992990762093739,
          "x1": 0.4653237568682066,
          "y0": -0.3555885236550882,
          "y1": -0.30218610033882454
         },
         {
          "fillcolor": "#05a9e3",
          "layer": "below",
          "line": {
           "width": 0
          },
          "type": "rect",
          "x0": 0.4653237568682066,
          "x1": 0.5313484375270393,
          "y0": -0.3555885236550882,
          "y1": -0.30218610033882454
         },
         {
          "fillcolor": "#01b5ef",
          "layer": "below",
          "line": {
           "width": 0
          },
          "type": "rect",
          "x0": 0.5313484375270393,
          "x1": 0.597373118185872,
          "y0": -0.3555885236550882,
          "y1": -0.30218610033882454
         },
         {
          "fillcolor": "#00c1fc",
          "layer": "below",
          "line": {
           "width": 0
          },
          "type": "rect",
          "x0": 0.597373118185872,
          "x1": 0.6633977988447047,
          "y0": -0.3555885236550882,
          "y1": -0.30218610033882454
         },
         {
          "fillcolor": "#00cdff",
          "layer": "below",
          "line": {
           "width": 0
          },
          "type": "rect",
          "x0": 0.6633977988447047,
          "x1": 0.7294224795035374,
          "y0": -0.3555885236550882,
          "y1": -0.30218610033882454
         },
         {
          "fillcolor": "#00d8ff",
          "layer": "below",
          "line": {
           "width": 0
          },
          "type": "rect",
          "x0": 0.7294224795035374,
          "x1": 0.7954471601623704,
          "y0": -0.3555885236550882,
          "y1": -0.30218610033882454
         },
         {
          "fillcolor": "#520000",
          "layer": "below",
          "line": {
           "width": 0
          },
          "type": "rect",
          "x0": -0.8551698563084486,
          "x1": -0.7891451756496158,
          "y0": -0.30218610033882454,
          "y1": -0.24878367702256093
         },
         {
          "fillcolor": "#4e0000",
          "layer": "below",
          "line": {
           "width": 0
          },
          "type": "rect",
          "x0": -0.7891451756496158,
          "x1": -0.723120494990783,
          "y0": -0.30218610033882454,
          "y1": -0.24878367702256093
         },
         {
          "fillcolor": "#4b0000",
          "layer": "below",
          "line": {
           "width": 0
          },
          "type": "rect",
          "x0": -0.723120494990783,
          "x1": -0.6570958143319503,
          "y0": -0.30218610033882454,
          "y1": -0.24878367702256093
         },
         {
          "fillcolor": "#48000c",
          "layer": "below",
          "line": {
           "width": 0
          },
          "type": "rect",
          "x0": -0.6570958143319503,
          "x1": -0.5910711336731176,
          "y0": -0.30218610033882454,
          "y1": -0.24878367702256093
         },
         {
          "fillcolor": "#450018",
          "layer": "below",
          "line": {
           "width": 0
          },
          "type": "rect",
          "x0": -0.5910711336731176,
          "x1": -0.5250464530142848,
          "y0": -0.30218610033882454,
          "y1": -0.24878367702256093
         },
         {
          "fillcolor": "#420025",
          "layer": "below",
          "line": {
           "width": 0
          },
          "type": "rect",
          "x0": -0.5250464530142848,
          "x1": -0.45902177235545205,
          "y0": -0.30218610033882454,
          "y1": -0.24878367702256093
         },
         {
          "fillcolor": "#3f0932",
          "layer": "below",
          "line": {
           "width": 0
          },
          "type": "rect",
          "x0": -0.45902177235545205,
          "x1": -0.3929970916966193,
          "y0": -0.30218610033882454,
          "y1": -0.24878367702256093
         },
         {
          "fillcolor": "#3b153e",
          "layer": "below",
          "line": {
           "width": 0
          },
          "type": "rect",
          "x0": -0.3929970916966193,
          "x1": -0.3269724110377865,
          "y0": -0.30218610033882454,
          "y1": -0.24878367702256093
         },
         {
          "fillcolor": "#38204b",
          "layer": "below",
          "line": {
           "width": 0
          },
          "type": "rect",
          "x0": -0.3269724110377865,
          "x1": -0.2609477303789538,
          "y0": -0.30218610033882454,
          "y1": -0.24878367702256093
         },
         {
          "fillcolor": "#352c58",
          "layer": "below",
          "line": {
           "width": 0
          },
          "type": "rect",
          "x0": -0.2609477303789538,
          "x1": -0.19492304972012098,
          "y0": -0.30218610033882454,
          "y1": -0.24878367702256093
         },
         {
          "fillcolor": "#323864",
          "layer": "below",
          "line": {
           "width": 0
          },
          "type": "rect",
          "x0": -0.19492304972012098,
          "x1": -0.12889836906128826,
          "y0": -0.30218610033882454,
          "y1": -0.24878367702256093
         },
         {
          "fillcolor": "#2f4471",
          "layer": "below",
          "line": {
           "width": 0
          },
          "type": "rect",
          "x0": -0.12889836906128826,
          "x1": -0.06287368840245555,
          "y0": -0.30218610033882454,
          "y1": -0.24878367702256093
         },
         {
          "fillcolor": "#2c4f7e",
          "layer": "below",
          "line": {
           "width": 0
          },
          "type": "rect",
          "x0": -0.06287368840245555,
          "x1": 0.003150992256377272,
          "y0": -0.30218610033882454,
          "y1": -0.24878367702256093
         },
         {
          "fillcolor": "#285b8a",
          "layer": "below",
          "line": {
           "width": 0
          },
          "type": "rect",
          "x0": 0.003150992256377272,
          "x1": 0.06917567291520998,
          "y0": -0.30218610033882454,
          "y1": -0.24878367702256093
         },
         {
          "fillcolor": "#256797",
          "layer": "below",
          "line": {
           "width": 0
          },
          "type": "rect",
          "x0": 0.06917567291520998,
          "x1": 0.1352003535740428,
          "y0": -0.30218610033882454,
          "y1": -0.24878367702256093
         },
         {
          "fillcolor": "#2273a3",
          "layer": "below",
          "line": {
           "width": 0
          },
          "type": "rect",
          "x0": 0.1352003535740428,
          "x1": 0.20122503423287552,
          "y0": -0.30218610033882454,
          "y1": -0.24878367702256093
         },
         {
          "fillcolor": "#1f7eb0",
          "layer": "below",
          "line": {
           "width": 0
          },
          "type": "rect",
          "x0": 0.20122503423287552,
          "x1": 0.26724971489170823,
          "y0": -0.30218610033882454,
          "y1": -0.24878367702256093
         },
         {
          "fillcolor": "#1c8abd",
          "layer": "below",
          "line": {
           "width": 0
          },
          "type": "rect",
          "x0": 0.26724971489170823,
          "x1": 0.33327439555054095,
          "y0": -0.30218610033882454,
          "y1": -0.24878367702256093
         },
         {
          "fillcolor": "#1996c9",
          "layer": "below",
          "line": {
           "width": 0
          },
          "type": "rect",
          "x0": 0.33327439555054095,
          "x1": 0.3992990762093739,
          "y0": -0.30218610033882454,
          "y1": -0.24878367702256093
         },
         {
          "fillcolor": "#15a2d6",
          "layer": "below",
          "line": {
           "width": 0
          },
          "type": "rect",
          "x0": 0.3992990762093739,
          "x1": 0.4653237568682066,
          "y0": -0.30218610033882454,
          "y1": -0.24878367702256093
         },
         {
          "fillcolor": "#12ade3",
          "layer": "below",
          "line": {
           "width": 0
          },
          "type": "rect",
          "x0": 0.4653237568682066,
          "x1": 0.5313484375270393,
          "y0": -0.30218610033882454,
          "y1": -0.24878367702256093
         },
         {
          "fillcolor": "#0fb9ef",
          "layer": "below",
          "line": {
           "width": 0
          },
          "type": "rect",
          "x0": 0.5313484375270393,
          "x1": 0.597373118185872,
          "y0": -0.30218610033882454,
          "y1": -0.24878367702256093
         },
         {
          "fillcolor": "#0cc5fc",
          "layer": "below",
          "line": {
           "width": 0
          },
          "type": "rect",
          "x0": 0.597373118185872,
          "x1": 0.6633977988447047,
          "y0": -0.30218610033882454,
          "y1": -0.24878367702256093
         },
         {
          "fillcolor": "#09d0ff",
          "layer": "below",
          "line": {
           "width": 0
          },
          "type": "rect",
          "x0": 0.6633977988447047,
          "x1": 0.7294224795035374,
          "y0": -0.30218610033882454,
          "y1": -0.24878367702256093
         },
         {
          "fillcolor": "#06dcff",
          "layer": "below",
          "line": {
           "width": 0
          },
          "type": "rect",
          "x0": 0.7294224795035374,
          "x1": 0.7954471601623704,
          "y0": -0.30218610033882454,
          "y1": -0.24878367702256093
         },
         {
          "fillcolor": "#5f0000",
          "layer": "below",
          "line": {
           "width": 0
          },
          "type": "rect",
          "x0": -0.8551698563084486,
          "x1": -0.7891451756496158,
          "y0": -0.24878367702256093,
          "y1": -0.19538125370629728
         },
         {
          "fillcolor": "#5c0000",
          "layer": "below",
          "line": {
           "width": 0
          },
          "type": "rect",
          "x0": -0.7891451756496158,
          "x1": -0.723120494990783,
          "y0": -0.24878367702256093,
          "y1": -0.19538125370629728
         },
         {
          "fillcolor": "#590000",
          "layer": "below",
          "line": {
           "width": 0
          },
          "type": "rect",
          "x0": -0.723120494990783,
          "x1": -0.6570958143319503,
          "y0": -0.24878367702256093,
          "y1": -0.19538125370629728
         },
         {
          "fillcolor": "#56000c",
          "layer": "below",
          "line": {
           "width": 0
          },
          "type": "rect",
          "x0": -0.6570958143319503,
          "x1": -0.5910711336731176,
          "y0": -0.24878367702256093,
          "y1": -0.19538125370629728
         },
         {
          "fillcolor": "#530018",
          "layer": "below",
          "line": {
           "width": 0
          },
          "type": "rect",
          "x0": -0.5910711336731176,
          "x1": -0.5250464530142848,
          "y0": -0.24878367702256093,
          "y1": -0.19538125370629728
         },
         {
          "fillcolor": "#4f0125",
          "layer": "below",
          "line": {
           "width": 0
          },
          "type": "rect",
          "x0": -0.5250464530142848,
          "x1": -0.45902177235545205,
          "y0": -0.24878367702256093,
          "y1": -0.19538125370629728
         },
         {
          "fillcolor": "#4c0d32",
          "layer": "below",
          "line": {
           "width": 0
          },
          "type": "rect",
          "x0": -0.45902177235545205,
          "x1": -0.3929970916966193,
          "y0": -0.24878367702256093,
          "y1": -0.19538125370629728
         },
         {
          "fillcolor": "#49183e",
          "layer": "below",
          "line": {
           "width": 0
          },
          "type": "rect",
          "x0": -0.3929970916966193,
          "x1": -0.3269724110377865,
          "y0": -0.24878367702256093,
          "y1": -0.19538125370629728
         },
         {
          "fillcolor": "#46244b",
          "layer": "below",
          "line": {
           "width": 0
          },
          "type": "rect",
          "x0": -0.3269724110377865,
          "x1": -0.2609477303789538,
          "y0": -0.24878367702256093,
          "y1": -0.19538125370629728
         },
         {
          "fillcolor": "#433058",
          "layer": "below",
          "line": {
           "width": 0
          },
          "type": "rect",
          "x0": -0.2609477303789538,
          "x1": -0.19492304972012098,
          "y0": -0.24878367702256093,
          "y1": -0.19538125370629728
         },
         {
          "fillcolor": "#403c64",
          "layer": "below",
          "line": {
           "width": 0
          },
          "type": "rect",
          "x0": -0.19492304972012098,
          "x1": -0.12889836906128826,
          "y0": -0.24878367702256093,
          "y1": -0.19538125370629728
         },
         {
          "fillcolor": "#3c4771",
          "layer": "below",
          "line": {
           "width": 0
          },
          "type": "rect",
          "x0": -0.12889836906128826,
          "x1": -0.06287368840245555,
          "y0": -0.24878367702256093,
          "y1": -0.19538125370629728
         },
         {
          "fillcolor": "#39537d",
          "layer": "below",
          "line": {
           "width": 0
          },
          "type": "rect",
          "x0": -0.06287368840245555,
          "x1": 0.003150992256377272,
          "y0": -0.24878367702256093,
          "y1": -0.19538125370629728
         },
         {
          "fillcolor": "#365f8a",
          "layer": "below",
          "line": {
           "width": 0
          },
          "type": "rect",
          "x0": 0.003150992256377272,
          "x1": 0.06917567291520998,
          "y0": -0.24878367702256093,
          "y1": -0.19538125370629728
         },
         {
          "fillcolor": "#336b97",
          "layer": "below",
          "line": {
           "width": 0
          },
          "type": "rect",
          "x0": 0.06917567291520998,
          "x1": 0.1352003535740428,
          "y0": -0.24878367702256093,
          "y1": -0.19538125370629728
         },
         {
          "fillcolor": "#3076a3",
          "layer": "below",
          "line": {
           "width": 0
          },
          "type": "rect",
          "x0": 0.1352003535740428,
          "x1": 0.20122503423287552,
          "y0": -0.24878367702256093,
          "y1": -0.19538125370629728
         },
         {
          "fillcolor": "#2d82b0",
          "layer": "below",
          "line": {
           "width": 0
          },
          "type": "rect",
          "x0": 0.20122503423287552,
          "x1": 0.26724971489170823,
          "y0": -0.24878367702256093,
          "y1": -0.19538125370629728
         },
         {
          "fillcolor": "#298ebd",
          "layer": "below",
          "line": {
           "width": 0
          },
          "type": "rect",
          "x0": 0.26724971489170823,
          "x1": 0.33327439555054095,
          "y0": -0.24878367702256093,
          "y1": -0.19538125370629728
         },
         {
          "fillcolor": "#269ac9",
          "layer": "below",
          "line": {
           "width": 0
          },
          "type": "rect",
          "x0": 0.33327439555054095,
          "x1": 0.3992990762093739,
          "y0": -0.24878367702256093,
          "y1": -0.19538125370629728
         },
         {
          "fillcolor": "#23a5d6",
          "layer": "below",
          "line": {
           "width": 0
          },
          "type": "rect",
          "x0": 0.3992990762093739,
          "x1": 0.4653237568682066,
          "y0": -0.24878367702256093,
          "y1": -0.19538125370629728
         },
         {
          "fillcolor": "#20b1e3",
          "layer": "below",
          "line": {
           "width": 0
          },
          "type": "rect",
          "x0": 0.4653237568682066,
          "x1": 0.5313484375270393,
          "y0": -0.24878367702256093,
          "y1": -0.19538125370629728
         },
         {
          "fillcolor": "#1dbdef",
          "layer": "below",
          "line": {
           "width": 0
          },
          "type": "rect",
          "x0": 0.5313484375270393,
          "x1": 0.597373118185872,
          "y0": -0.24878367702256093,
          "y1": -0.19538125370629728
         },
         {
          "fillcolor": "#1ac9fc",
          "layer": "below",
          "line": {
           "width": 0
          },
          "type": "rect",
          "x0": 0.597373118185872,
          "x1": 0.6633977988447047,
          "y0": -0.24878367702256093,
          "y1": -0.19538125370629728
         },
         {
          "fillcolor": "#16d4ff",
          "layer": "below",
          "line": {
           "width": 0
          },
          "type": "rect",
          "x0": 0.6633977988447047,
          "x1": 0.7294224795035374,
          "y0": -0.24878367702256093,
          "y1": -0.19538125370629728
         },
         {
          "fillcolor": "#13e0ff",
          "layer": "below",
          "line": {
           "width": 0
          },
          "type": "rect",
          "x0": 0.7294224795035374,
          "x1": 0.7954471601623704,
          "y0": -0.24878367702256093,
          "y1": -0.19538125370629728
         },
         {
          "fillcolor": "#6d0000",
          "layer": "below",
          "line": {
           "width": 0
          },
          "type": "rect",
          "x0": -0.8551698563084486,
          "x1": -0.7891451756496158,
          "y0": -0.19538125370629728,
          "y1": -0.14197883039003362
         },
         {
          "fillcolor": "#6a0000",
          "layer": "below",
          "line": {
           "width": 0
          },
          "type": "rect",
          "x0": -0.7891451756496158,
          "x1": -0.723120494990783,
          "y0": -0.19538125370629728,
          "y1": -0.14197883039003362
         },
         {
          "fillcolor": "#670000",
          "layer": "below",
          "line": {
           "width": 0
          },
          "type": "rect",
          "x0": -0.723120494990783,
          "x1": -0.6570958143319503,
          "y0": -0.19538125370629728,
          "y1": -0.14197883039003362
         },
         {
          "fillcolor": "#63000c",
          "layer": "below",
          "line": {
           "width": 0
          },
          "type": "rect",
          "x0": -0.6570958143319503,
          "x1": -0.5910711336731176,
          "y0": -0.19538125370629728,
          "y1": -0.14197883039003362
         },
         {
          "fillcolor": "#600018",
          "layer": "below",
          "line": {
           "width": 0
          },
          "type": "rect",
          "x0": -0.5910711336731176,
          "x1": -0.5250464530142848,
          "y0": -0.19538125370629728,
          "y1": -0.14197883039003362
         },
         {
          "fillcolor": "#5d0525",
          "layer": "below",
          "line": {
           "width": 0
          },
          "type": "rect",
          "x0": -0.5250464530142848,
          "x1": -0.45902177235545205,
          "y0": -0.19538125370629728,
          "y1": -0.14197883039003362
         },
         {
          "fillcolor": "#5a1032",
          "layer": "below",
          "line": {
           "width": 0
          },
          "type": "rect",
          "x0": -0.45902177235545205,
          "x1": -0.3929970916966193,
          "y0": -0.19538125370629728,
          "y1": -0.14197883039003362
         },
         {
          "fillcolor": "#571c3e",
          "layer": "below",
          "line": {
           "width": 0
          },
          "type": "rect",
          "x0": -0.3929970916966193,
          "x1": -0.3269724110377865,
          "y0": -0.19538125370629728,
          "y1": -0.14197883039003362
         },
         {
          "fillcolor": "#54284b",
          "layer": "below",
          "line": {
           "width": 0
          },
          "type": "rect",
          "x0": -0.3269724110377865,
          "x1": -0.2609477303789538,
          "y0": -0.19538125370629728,
          "y1": -0.14197883039003362
         },
         {
          "fillcolor": "#503457",
          "layer": "below",
          "line": {
           "width": 0
          },
          "type": "rect",
          "x0": -0.2609477303789538,
          "x1": -0.19492304972012098,
          "y0": -0.19538125370629728,
          "y1": -0.14197883039003362
         },
         {
          "fillcolor": "#4d3f64",
          "layer": "below",
          "line": {
           "width": 0
          },
          "type": "rect",
          "x0": -0.19492304972012098,
          "x1": -0.12889836906128826,
          "y0": -0.19538125370629728,
          "y1": -0.14197883039003362
         },
         {
          "fillcolor": "#4a4b71",
          "layer": "below",
          "line": {
           "width": 0
          },
          "type": "rect",
          "x0": -0.12889836906128826,
          "x1": -0.06287368840245555,
          "y0": -0.19538125370629728,
          "y1": -0.14197883039003362
         },
         {
          "fillcolor": "#47577d",
          "layer": "below",
          "line": {
           "width": 0
          },
          "type": "rect",
          "x0": -0.06287368840245555,
          "x1": 0.003150992256377272,
          "y0": -0.19538125370629728,
          "y1": -0.14197883039003362
         },
         {
          "fillcolor": "#44638a",
          "layer": "below",
          "line": {
           "width": 0
          },
          "type": "rect",
          "x0": 0.003150992256377272,
          "x1": 0.06917567291520998,
          "y0": -0.19538125370629728,
          "y1": -0.14197883039003362
         },
         {
          "fillcolor": "#416e97",
          "layer": "below",
          "line": {
           "width": 0
          },
          "type": "rect",
          "x0": 0.06917567291520998,
          "x1": 0.1352003535740428,
          "y0": -0.19538125370629728,
          "y1": -0.14197883039003362
         },
         {
          "fillcolor": "#3d7aa3",
          "layer": "below",
          "line": {
           "width": 0
          },
          "type": "rect",
          "x0": 0.1352003535740428,
          "x1": 0.20122503423287552,
          "y0": -0.19538125370629728,
          "y1": -0.14197883039003362
         },
         {
          "fillcolor": "#3a86b0",
          "layer": "below",
          "line": {
           "width": 0
          },
          "type": "rect",
          "x0": 0.20122503423287552,
          "x1": 0.26724971489170823,
          "y0": -0.19538125370629728,
          "y1": -0.14197883039003362
         },
         {
          "fillcolor": "#3792bd",
          "layer": "below",
          "line": {
           "width": 0
          },
          "type": "rect",
          "x0": 0.26724971489170823,
          "x1": 0.33327439555054095,
          "y0": -0.19538125370629728,
          "y1": -0.14197883039003362
         },
         {
          "fillcolor": "#349dc9",
          "layer": "below",
          "line": {
           "width": 0
          },
          "type": "rect",
          "x0": 0.33327439555054095,
          "x1": 0.3992990762093739,
          "y0": -0.19538125370629728,
          "y1": -0.14197883039003362
         },
         {
          "fillcolor": "#31a9d6",
          "layer": "below",
          "line": {
           "width": 0
          },
          "type": "rect",
          "x0": 0.3992990762093739,
          "x1": 0.4653237568682066,
          "y0": -0.19538125370629728,
          "y1": -0.14197883039003362
         },
         {
          "fillcolor": "#2eb5e2",
          "layer": "below",
          "line": {
           "width": 0
          },
          "type": "rect",
          "x0": 0.4653237568682066,
          "x1": 0.5313484375270393,
          "y0": -0.19538125370629728,
          "y1": -0.14197883039003362
         },
         {
          "fillcolor": "#2ac1ef",
          "layer": "below",
          "line": {
           "width": 0
          },
          "type": "rect",
          "x0": 0.5313484375270393,
          "x1": 0.597373118185872,
          "y0": -0.19538125370629728,
          "y1": -0.14197883039003362
         },
         {
          "fillcolor": "#27ccfc",
          "layer": "below",
          "line": {
           "width": 0
          },
          "type": "rect",
          "x0": 0.597373118185872,
          "x1": 0.6633977988447047,
          "y0": -0.19538125370629728,
          "y1": -0.14197883039003362
         },
         {
          "fillcolor": "#24d8ff",
          "layer": "below",
          "line": {
           "width": 0
          },
          "type": "rect",
          "x0": 0.6633977988447047,
          "x1": 0.7294224795035374,
          "y0": -0.19538125370629728,
          "y1": -0.14197883039003362
         },
         {
          "fillcolor": "#21e4ff",
          "layer": "below",
          "line": {
           "width": 0
          },
          "type": "rect",
          "x0": 0.7294224795035374,
          "x1": 0.7954471601623704,
          "y0": -0.19538125370629728,
          "y1": -0.14197883039003362
         },
         {
          "fillcolor": "#7b0000",
          "layer": "below",
          "line": {
           "width": 0
          },
          "type": "rect",
          "x0": -0.8551698563084486,
          "x1": -0.7891451756496158,
          "y0": -0.14197883039003362,
          "y1": -0.08857640707377001
         },
         {
          "fillcolor": "#770000",
          "layer": "below",
          "line": {
           "width": 0
          },
          "type": "rect",
          "x0": -0.7891451756496158,
          "x1": -0.723120494990783,
          "y0": -0.14197883039003362,
          "y1": -0.08857640707377001
         },
         {
          "fillcolor": "#740000",
          "layer": "below",
          "line": {
           "width": 0
          },
          "type": "rect",
          "x0": -0.723120494990783,
          "x1": -0.6570958143319503,
          "y0": -0.14197883039003362,
          "y1": -0.08857640707377001
         },
         {
          "fillcolor": "#71000b",
          "layer": "below",
          "line": {
           "width": 0
          },
          "type": "rect",
          "x0": -0.6570958143319503,
          "x1": -0.5910711336731176,
          "y0": -0.14197883039003362,
          "y1": -0.08857640707377001
         },
         {
          "fillcolor": "#6e0018",
          "layer": "below",
          "line": {
           "width": 0
          },
          "type": "rect",
          "x0": -0.5910711336731176,
          "x1": -0.5250464530142848,
          "y0": -0.14197883039003362,
          "y1": -0.08857640707377001
         },
         {
          "fillcolor": "#6b0925",
          "layer": "below",
          "line": {
           "width": 0
          },
          "type": "rect",
          "x0": -0.5250464530142848,
          "x1": -0.45902177235545205,
          "y0": -0.14197883039003362,
          "y1": -0.08857640707377001
         },
         {
          "fillcolor": "#681431",
          "layer": "below",
          "line": {
           "width": 0
          },
          "type": "rect",
          "x0": -0.45902177235545205,
          "x1": -0.3929970916966193,
          "y0": -0.14197883039003362,
          "y1": -0.08857640707377001
         },
         {
          "fillcolor": "#64203e",
          "layer": "below",
          "line": {
           "width": 0
          },
          "type": "rect",
          "x0": -0.3929970916966193,
          "x1": -0.3269724110377865,
          "y0": -0.14197883039003362,
          "y1": -0.08857640707377001
         },
         {
          "fillcolor": "#612c4b",
          "layer": "below",
          "line": {
           "width": 0
          },
          "type": "rect",
          "x0": -0.3269724110377865,
          "x1": -0.2609477303789538,
          "y0": -0.14197883039003362,
          "y1": -0.08857640707377001
         },
         {
          "fillcolor": "#5e3857",
          "layer": "below",
          "line": {
           "width": 0
          },
          "type": "rect",
          "x0": -0.2609477303789538,
          "x1": -0.19492304972012098,
          "y0": -0.14197883039003362,
          "y1": -0.08857640707377001
         },
         {
          "fillcolor": "#5b4364",
          "layer": "below",
          "line": {
           "width": 0
          },
          "type": "rect",
          "x0": -0.19492304972012098,
          "x1": -0.12889836906128826,
          "y0": -0.14197883039003362,
          "y1": -0.08857640707377001
         },
         {
          "fillcolor": "#584f71",
          "layer": "below",
          "line": {
           "width": 0
          },
          "type": "rect",
          "x0": -0.12889836906128826,
          "x1": -0.06287368840245555,
          "y0": -0.14197883039003362,
          "y1": -0.08857640707377001
         },
         {
          "fillcolor": "#555b7d",
          "layer": "below",
          "line": {
           "width": 0
          },
          "type": "rect",
          "x0": -0.06287368840245555,
          "x1": 0.003150992256377272,
          "y0": -0.14197883039003362,
          "y1": -0.08857640707377001
         },
         {
          "fillcolor": "#51678a",
          "layer": "below",
          "line": {
           "width": 0
          },
          "type": "rect",
          "x0": 0.003150992256377272,
          "x1": 0.06917567291520998,
          "y0": -0.14197883039003362,
          "y1": -0.08857640707377001
         },
         {
          "fillcolor": "#4e7296",
          "layer": "below",
          "line": {
           "width": 0
          },
          "type": "rect",
          "x0": 0.06917567291520998,
          "x1": 0.1352003535740428,
          "y0": -0.14197883039003362,
          "y1": -0.08857640707377001
         },
         {
          "fillcolor": "#4b7ea3",
          "layer": "below",
          "line": {
           "width": 0
          },
          "type": "rect",
          "x0": 0.1352003535740428,
          "x1": 0.20122503423287552,
          "y0": -0.14197883039003362,
          "y1": -0.08857640707377001
         },
         {
          "fillcolor": "#488ab0",
          "layer": "below",
          "line": {
           "width": 0
          },
          "type": "rect",
          "x0": 0.20122503423287552,
          "x1": 0.26724971489170823,
          "y0": -0.14197883039003362,
          "y1": -0.08857640707377001
         },
         {
          "fillcolor": "#4595bc",
          "layer": "below",
          "line": {
           "width": 0
          },
          "type": "rect",
          "x0": 0.26724971489170823,
          "x1": 0.33327439555054095,
          "y0": -0.14197883039003362,
          "y1": -0.08857640707377001
         },
         {
          "fillcolor": "#42a1c9",
          "layer": "below",
          "line": {
           "width": 0
          },
          "type": "rect",
          "x0": 0.33327439555054095,
          "x1": 0.3992990762093739,
          "y0": -0.14197883039003362,
          "y1": -0.08857640707377001
         },
         {
          "fillcolor": "#3eadd6",
          "layer": "below",
          "line": {
           "width": 0
          },
          "type": "rect",
          "x0": 0.3992990762093739,
          "x1": 0.4653237568682066,
          "y0": -0.14197883039003362,
          "y1": -0.08857640707377001
         },
         {
          "fillcolor": "#3bb9e2",
          "layer": "below",
          "line": {
           "width": 0
          },
          "type": "rect",
          "x0": 0.4653237568682066,
          "x1": 0.5313484375270393,
          "y0": -0.14197883039003362,
          "y1": -0.08857640707377001
         },
         {
          "fillcolor": "#38c4ef",
          "layer": "below",
          "line": {
           "width": 0
          },
          "type": "rect",
          "x0": 0.5313484375270393,
          "x1": 0.597373118185872,
          "y0": -0.14197883039003362,
          "y1": -0.08857640707377001
         },
         {
          "fillcolor": "#35d0fc",
          "layer": "below",
          "line": {
           "width": 0
          },
          "type": "rect",
          "x0": 0.597373118185872,
          "x1": 0.6633977988447047,
          "y0": -0.14197883039003362,
          "y1": -0.08857640707377001
         },
         {
          "fillcolor": "#32dcff",
          "layer": "below",
          "line": {
           "width": 0
          },
          "type": "rect",
          "x0": 0.6633977988447047,
          "x1": 0.7294224795035374,
          "y0": -0.14197883039003362,
          "y1": -0.08857640707377001
         },
         {
          "fillcolor": "#2fe8ff",
          "layer": "below",
          "line": {
           "width": 0
          },
          "type": "rect",
          "x0": 0.7294224795035374,
          "x1": 0.7954471601623704,
          "y0": -0.14197883039003362,
          "y1": -0.08857640707377001
         },
         {
          "fillcolor": "#880000",
          "layer": "below",
          "line": {
           "width": 0
          },
          "type": "rect",
          "x0": -0.8551698563084486,
          "x1": -0.7891451756496158,
          "y0": -0.08857640707377001,
          "y1": -0.035173983757506355
         },
         {
          "fillcolor": "#850000",
          "layer": "below",
          "line": {
           "width": 0
          },
          "type": "rect",
          "x0": -0.7891451756496158,
          "x1": -0.723120494990783,
          "y0": -0.08857640707377001,
          "y1": -0.035173983757506355
         },
         {
          "fillcolor": "#820000",
          "layer": "below",
          "line": {
           "width": 0
          },
          "type": "rect",
          "x0": -0.723120494990783,
          "x1": -0.6570958143319503,
          "y0": -0.08857640707377001,
          "y1": -0.035173983757506355
         },
         {
          "fillcolor": "#7f000b",
          "layer": "below",
          "line": {
           "width": 0
          },
          "type": "rect",
          "x0": -0.6570958143319503,
          "x1": -0.5910711336731176,
          "y0": -0.08857640707377001,
          "y1": -0.035173983757506355
         },
         {
          "fillcolor": "#7c0118",
          "layer": "below",
          "line": {
           "width": 0
          },
          "type": "rect",
          "x0": -0.5910711336731176,
          "x1": -0.5250464530142848,
          "y0": -0.08857640707377001,
          "y1": -0.035173983757506355
         },
         {
          "fillcolor": "#780c25",
          "layer": "below",
          "line": {
           "width": 0
          },
          "type": "rect",
          "x0": -0.5250464530142848,
          "x1": -0.45902177235545205,
          "y0": -0.08857640707377001,
          "y1": -0.035173983757506355
         },
         {
          "fillcolor": "#751831",
          "layer": "below",
          "line": {
           "width": 0
          },
          "type": "rect",
          "x0": -0.45902177235545205,
          "x1": -0.3929970916966193,
          "y0": -0.08857640707377001,
          "y1": -0.035173983757506355
         },
         {
          "fillcolor": "#72243e",
          "layer": "below",
          "line": {
           "width": 0
          },
          "type": "rect",
          "x0": -0.3929970916966193,
          "x1": -0.3269724110377865,
          "y0": -0.08857640707377001,
          "y1": -0.035173983757506355
         },
         {
          "fillcolor": "#6f304b",
          "layer": "below",
          "line": {
           "width": 0
          },
          "type": "rect",
          "x0": -0.3269724110377865,
          "x1": -0.2609477303789538,
          "y0": -0.08857640707377001,
          "y1": -0.035173983757506355
         },
         {
          "fillcolor": "#6c3b57",
          "layer": "below",
          "line": {
           "width": 0
          },
          "type": "rect",
          "x0": -0.2609477303789538,
          "x1": -0.19492304972012098,
          "y0": -0.08857640707377001,
          "y1": -0.035173983757506355
         },
         {
          "fillcolor": "#694764",
          "layer": "below",
          "line": {
           "width": 0
          },
          "type": "rect",
          "x0": -0.19492304972012098,
          "x1": -0.12889836906128826,
          "y0": -0.08857640707377001,
          "y1": -0.035173983757506355
         },
         {
          "fillcolor": "#655370",
          "layer": "below",
          "line": {
           "width": 0
          },
          "type": "rect",
          "x0": -0.12889836906128826,
          "x1": -0.06287368840245555,
          "y0": -0.08857640707377001,
          "y1": -0.035173983757506355
         },
         {
          "fillcolor": "#625f7d",
          "layer": "below",
          "line": {
           "width": 0
          },
          "type": "rect",
          "x0": -0.06287368840245555,
          "x1": 0.003150992256377272,
          "y0": -0.08857640707377001,
          "y1": -0.035173983757506355
         },
         {
          "fillcolor": "#5f6a8a",
          "layer": "below",
          "line": {
           "width": 0
          },
          "type": "rect",
          "x0": 0.003150992256377272,
          "x1": 0.06917567291520998,
          "y0": -0.08857640707377001,
          "y1": -0.035173983757506355
         },
         {
          "fillcolor": "#5c7696",
          "layer": "below",
          "line": {
           "width": 0
          },
          "type": "rect",
          "x0": 0.06917567291520998,
          "x1": 0.1352003535740428,
          "y0": -0.08857640707377001,
          "y1": -0.035173983757506355
         },
         {
          "fillcolor": "#5982a3",
          "layer": "below",
          "line": {
           "width": 0
          },
          "type": "rect",
          "x0": 0.1352003535740428,
          "x1": 0.20122503423287552,
          "y0": -0.08857640707377001,
          "y1": -0.035173983757506355
         },
         {
          "fillcolor": "#568eb0",
          "layer": "below",
          "line": {
           "width": 0
          },
          "type": "rect",
          "x0": 0.20122503423287552,
          "x1": 0.26724971489170823,
          "y0": -0.08857640707377001,
          "y1": -0.035173983757506355
         },
         {
          "fillcolor": "#5299bc",
          "layer": "below",
          "line": {
           "width": 0
          },
          "type": "rect",
          "x0": 0.26724971489170823,
          "x1": 0.33327439555054095,
          "y0": -0.08857640707377001,
          "y1": -0.035173983757506355
         },
         {
          "fillcolor": "#4fa5c9",
          "layer": "below",
          "line": {
           "width": 0
          },
          "type": "rect",
          "x0": 0.33327439555054095,
          "x1": 0.3992990762093739,
          "y0": -0.08857640707377001,
          "y1": -0.035173983757506355
         },
         {
          "fillcolor": "#4cb1d6",
          "layer": "below",
          "line": {
           "width": 0
          },
          "type": "rect",
          "x0": 0.3992990762093739,
          "x1": 0.4653237568682066,
          "y0": -0.08857640707377001,
          "y1": -0.035173983757506355
         },
         {
          "fillcolor": "#49bde2",
          "layer": "below",
          "line": {
           "width": 0
          },
          "type": "rect",
          "x0": 0.4653237568682066,
          "x1": 0.5313484375270393,
          "y0": -0.08857640707377001,
          "y1": -0.035173983757506355
         },
         {
          "fillcolor": "#46c8ef",
          "layer": "below",
          "line": {
           "width": 0
          },
          "type": "rect",
          "x0": 0.5313484375270393,
          "x1": 0.597373118185872,
          "y0": -0.08857640707377001,
          "y1": -0.035173983757506355
         },
         {
          "fillcolor": "#43d4fb",
          "layer": "below",
          "line": {
           "width": 0
          },
          "type": "rect",
          "x0": 0.597373118185872,
          "x1": 0.6633977988447047,
          "y0": -0.08857640707377001,
          "y1": -0.035173983757506355
         },
         {
          "fillcolor": "#3fe0ff",
          "layer": "below",
          "line": {
           "width": 0
          },
          "type": "rect",
          "x0": 0.6633977988447047,
          "x1": 0.7294224795035374,
          "y0": -0.08857640707377001,
          "y1": -0.035173983757506355
         },
         {
          "fillcolor": "#3cebff",
          "layer": "below",
          "line": {
           "width": 0
          },
          "type": "rect",
          "x0": 0.7294224795035374,
          "x1": 0.7954471601623704,
          "y0": -0.08857640707377001,
          "y1": -0.035173983757506355
         },
         {
          "fillcolor": "#960000",
          "layer": "below",
          "line": {
           "width": 0
          },
          "type": "rect",
          "x0": -0.8551698563084486,
          "x1": -0.7891451756496158,
          "y0": -0.035173983757506355,
          "y1": 0.018228439558757303
         },
         {
          "fillcolor": "#930000",
          "layer": "below",
          "line": {
           "width": 0
          },
          "type": "rect",
          "x0": -0.7891451756496158,
          "x1": -0.723120494990783,
          "y0": -0.035173983757506355,
          "y1": 0.018228439558757303
         },
         {
          "fillcolor": "#8f0000",
          "layer": "below",
          "line": {
           "width": 0
          },
          "type": "rect",
          "x0": -0.723120494990783,
          "x1": -0.6570958143319503,
          "y0": -0.035173983757506355,
          "y1": 0.018228439558757303
         },
         {
          "fillcolor": "#8c000b",
          "layer": "below",
          "line": {
           "width": 0
          },
          "type": "rect",
          "x0": -0.6570958143319503,
          "x1": -0.5910711336731176,
          "y0": -0.035173983757506355,
          "y1": 0.018228439558757303
         },
         {
          "fillcolor": "#890418",
          "layer": "below",
          "line": {
           "width": 0
          },
          "type": "rect",
          "x0": -0.5910711336731176,
          "x1": -0.5250464530142848,
          "y0": -0.035173983757506355,
          "y1": 0.018228439558757303
         },
         {
          "fillcolor": "#861025",
          "layer": "below",
          "line": {
           "width": 0
          },
          "type": "rect",
          "x0": -0.5250464530142848,
          "x1": -0.45902177235545205,
          "y0": -0.035173983757506355,
          "y1": 0.018228439558757303
         },
         {
          "fillcolor": "#831c31",
          "layer": "below",
          "line": {
           "width": 0
          },
          "type": "rect",
          "x0": -0.45902177235545205,
          "x1": -0.3929970916966193,
          "y0": -0.035173983757506355,
          "y1": 0.018228439558757303
         },
         {
          "fillcolor": "#80283e",
          "layer": "below",
          "line": {
           "width": 0
          },
          "type": "rect",
          "x0": -0.3929970916966193,
          "x1": -0.3269724110377865,
          "y0": -0.035173983757506355,
          "y1": 0.018228439558757303
         },
         {
          "fillcolor": "#7d334a",
          "layer": "below",
          "line": {
           "width": 0
          },
          "type": "rect",
          "x0": -0.3269724110377865,
          "x1": -0.2609477303789538,
          "y0": -0.035173983757506355,
          "y1": 0.018228439558757303
         },
         {
          "fillcolor": "#793f57",
          "layer": "below",
          "line": {
           "width": 0
          },
          "type": "rect",
          "x0": -0.2609477303789538,
          "x1": -0.19492304972012098,
          "y0": -0.035173983757506355,
          "y1": 0.018228439558757303
         },
         {
          "fillcolor": "#764b64",
          "layer": "below",
          "line": {
           "width": 0
          },
          "type": "rect",
          "x0": -0.19492304972012098,
          "x1": -0.12889836906128826,
          "y0": -0.035173983757506355,
          "y1": 0.018228439558757303
         },
         {
          "fillcolor": "#735770",
          "layer": "below",
          "line": {
           "width": 0
          },
          "type": "rect",
          "x0": -0.12889836906128826,
          "x1": -0.06287368840245555,
          "y0": -0.035173983757506355,
          "y1": 0.018228439558757303
         },
         {
          "fillcolor": "#70627d",
          "layer": "below",
          "line": {
           "width": 0
          },
          "type": "rect",
          "x0": -0.06287368840245555,
          "x1": 0.003150992256377272,
          "y0": -0.035173983757506355,
          "y1": 0.018228439558757303
         },
         {
          "fillcolor": "#6d6e8a",
          "layer": "below",
          "line": {
           "width": 0
          },
          "type": "rect",
          "x0": 0.003150992256377272,
          "x1": 0.06917567291520998,
          "y0": -0.035173983757506355,
          "y1": 0.018228439558757303
         },
         {
          "fillcolor": "#6a7a96",
          "layer": "below",
          "line": {
           "width": 0
          },
          "type": "rect",
          "x0": 0.06917567291520998,
          "x1": 0.1352003535740428,
          "y0": -0.035173983757506355,
          "y1": 0.018228439558757303
         },
         {
          "fillcolor": "#6686a3",
          "layer": "below",
          "line": {
           "width": 0
          },
          "type": "rect",
          "x0": 0.1352003535740428,
          "x1": 0.20122503423287552,
          "y0": -0.035173983757506355,
          "y1": 0.018228439558757303
         },
         {
          "fillcolor": "#6391b0",
          "layer": "below",
          "line": {
           "width": 0
          },
          "type": "rect",
          "x0": 0.20122503423287552,
          "x1": 0.26724971489170823,
          "y0": -0.035173983757506355,
          "y1": 0.018228439558757303
         },
         {
          "fillcolor": "#609dbc",
          "layer": "below",
          "line": {
           "width": 0
          },
          "type": "rect",
          "x0": 0.26724971489170823,
          "x1": 0.33327439555054095,
          "y0": -0.035173983757506355,
          "y1": 0.018228439558757303
         },
         {
          "fillcolor": "#5da9c9",
          "layer": "below",
          "line": {
           "width": 0
          },
          "type": "rect",
          "x0": 0.33327439555054095,
          "x1": 0.3992990762093739,
          "y0": -0.035173983757506355,
          "y1": 0.018228439558757303
         },
         {
          "fillcolor": "#5ab5d5",
          "layer": "below",
          "line": {
           "width": 0
          },
          "type": "rect",
          "x0": 0.3992990762093739,
          "x1": 0.4653237568682066,
          "y0": -0.035173983757506355,
          "y1": 0.018228439558757303
         },
         {
          "fillcolor": "#57c0e2",
          "layer": "below",
          "line": {
           "width": 0
          },
          "type": "rect",
          "x0": 0.4653237568682066,
          "x1": 0.5313484375270393,
          "y0": -0.035173983757506355,
          "y1": 0.018228439558757303
         },
         {
          "fillcolor": "#53ccef",
          "layer": "below",
          "line": {
           "width": 0
          },
          "type": "rect",
          "x0": 0.5313484375270393,
          "x1": 0.597373118185872,
          "y0": -0.035173983757506355,
          "y1": 0.018228439558757303
         },
         {
          "fillcolor": "#50d8fb",
          "layer": "below",
          "line": {
           "width": 0
          },
          "type": "rect",
          "x0": 0.597373118185872,
          "x1": 0.6633977988447047,
          "y0": -0.035173983757506355,
          "y1": 0.018228439558757303
         },
         {
          "fillcolor": "#4de4ff",
          "layer": "below",
          "line": {
           "width": 0
          },
          "type": "rect",
          "x0": 0.6633977988447047,
          "x1": 0.7294224795035374,
          "y0": -0.035173983757506355,
          "y1": 0.018228439558757303
         },
         {
          "fillcolor": "#4aefff",
          "layer": "below",
          "line": {
           "width": 0
          },
          "type": "rect",
          "x0": 0.7294224795035374,
          "x1": 0.7954471601623704,
          "y0": -0.035173983757506355,
          "y1": 0.018228439558757303
         },
         {
          "fillcolor": "#a30000",
          "layer": "below",
          "line": {
           "width": 0
          },
          "type": "rect",
          "x0": -0.8551698563084486,
          "x1": -0.7891451756496158,
          "y0": 0.018228439558757303,
          "y1": 0.07163086287502096
         },
         {
          "fillcolor": "#a00000",
          "layer": "below",
          "line": {
           "width": 0
          },
          "type": "rect",
          "x0": -0.7891451756496158,
          "x1": -0.723120494990783,
          "y0": 0.018228439558757303,
          "y1": 0.07163086287502096
         },
         {
          "fillcolor": "#9d0000",
          "layer": "below",
          "line": {
           "width": 0
          },
          "type": "rect",
          "x0": -0.723120494990783,
          "x1": -0.6570958143319503,
          "y0": 0.018228439558757303,
          "y1": 0.07163086287502096
         },
         {
          "fillcolor": "#9a000b",
          "layer": "below",
          "line": {
           "width": 0
          },
          "type": "rect",
          "x0": -0.6570958143319503,
          "x1": -0.5910711336731176,
          "y0": 0.018228439558757303,
          "y1": 0.07163086287502096
         },
         {
          "fillcolor": "#970818",
          "layer": "below",
          "line": {
           "width": 0
          },
          "type": "rect",
          "x0": -0.5910711336731176,
          "x1": -0.5250464530142848,
          "y0": 0.018228439558757303,
          "y1": 0.07163086287502096
         },
         {
          "fillcolor": "#941424",
          "layer": "below",
          "line": {
           "width": 0
          },
          "type": "rect",
          "x0": -0.5250464530142848,
          "x1": -0.45902177235545205,
          "y0": 0.018228439558757303,
          "y1": 0.07163086287502096
         },
         {
          "fillcolor": "#902031",
          "layer": "below",
          "line": {
           "width": 0
          },
          "type": "rect",
          "x0": -0.45902177235545205,
          "x1": -0.3929970916966193,
          "y0": 0.018228439558757303,
          "y1": 0.07163086287502096
         },
         {
          "fillcolor": "#8d2b3e",
          "layer": "below",
          "line": {
           "width": 0
          },
          "type": "rect",
          "x0": -0.3929970916966193,
          "x1": -0.3269724110377865,
          "y0": 0.018228439558757303,
          "y1": 0.07163086287502096
         },
         {
          "fillcolor": "#8a374a",
          "layer": "below",
          "line": {
           "width": 0
          },
          "type": "rect",
          "x0": -0.3269724110377865,
          "x1": -0.2609477303789538,
          "y0": 0.018228439558757303,
          "y1": 0.07163086287502096
         },
         {
          "fillcolor": "#874357",
          "layer": "below",
          "line": {
           "width": 0
          },
          "type": "rect",
          "x0": -0.2609477303789538,
          "x1": -0.19492304972012098,
          "y0": 0.018228439558757303,
          "y1": 0.07163086287502096
         },
         {
          "fillcolor": "#844f64",
          "layer": "below",
          "line": {
           "width": 0
          },
          "type": "rect",
          "x0": -0.19492304972012098,
          "x1": -0.12889836906128826,
          "y0": 0.018228439558757303,
          "y1": 0.07163086287502096
         },
         {
          "fillcolor": "#815a70",
          "layer": "below",
          "line": {
           "width": 0
          },
          "type": "rect",
          "x0": -0.12889836906128826,
          "x1": -0.06287368840245555,
          "y0": 0.018228439558757303,
          "y1": 0.07163086287502096
         },
         {
          "fillcolor": "#7e667d",
          "layer": "below",
          "line": {
           "width": 0
          },
          "type": "rect",
          "x0": -0.06287368840245555,
          "x1": 0.003150992256377272,
          "y0": 0.018228439558757303,
          "y1": 0.07163086287502096
         },
         {
          "fillcolor": "#7a7289",
          "layer": "below",
          "line": {
           "width": 0
          },
          "type": "rect",
          "x0": 0.003150992256377272,
          "x1": 0.06917567291520998,
          "y0": 0.018228439558757303,
          "y1": 0.07163086287502096
         },
         {
          "fillcolor": "#777e96",
          "layer": "below",
          "line": {
           "width": 0
          },
          "type": "rect",
          "x0": 0.06917567291520998,
          "x1": 0.1352003535740428,
          "y0": 0.018228439558757303,
          "y1": 0.07163086287502096
         },
         {
          "fillcolor": "#7489a3",
          "layer": "below",
          "line": {
           "width": 0
          },
          "type": "rect",
          "x0": 0.1352003535740428,
          "x1": 0.20122503423287552,
          "y0": 0.018228439558757303,
          "y1": 0.07163086287502096
         },
         {
          "fillcolor": "#7195af",
          "layer": "below",
          "line": {
           "width": 0
          },
          "type": "rect",
          "x0": 0.20122503423287552,
          "x1": 0.26724971489170823,
          "y0": 0.018228439558757303,
          "y1": 0.07163086287502096
         },
         {
          "fillcolor": "#6ea1bc",
          "layer": "below",
          "line": {
           "width": 0
          },
          "type": "rect",
          "x0": 0.26724971489170823,
          "x1": 0.33327439555054095,
          "y0": 0.018228439558757303,
          "y1": 0.07163086287502096
         },
         {
          "fillcolor": "#6badc9",
          "layer": "below",
          "line": {
           "width": 0
          },
          "type": "rect",
          "x0": 0.33327439555054095,
          "x1": 0.3992990762093739,
          "y0": 0.018228439558757303,
          "y1": 0.07163086287502096
         },
         {
          "fillcolor": "#67b8d5",
          "layer": "below",
          "line": {
           "width": 0
          },
          "type": "rect",
          "x0": 0.3992990762093739,
          "x1": 0.4653237568682066,
          "y0": 0.018228439558757303,
          "y1": 0.07163086287502096
         },
         {
          "fillcolor": "#64c4e2",
          "layer": "below",
          "line": {
           "width": 0
          },
          "type": "rect",
          "x0": 0.4653237568682066,
          "x1": 0.5313484375270393,
          "y0": 0.018228439558757303,
          "y1": 0.07163086287502096
         },
         {
          "fillcolor": "#61d0ef",
          "layer": "below",
          "line": {
           "width": 0
          },
          "type": "rect",
          "x0": 0.5313484375270393,
          "x1": 0.597373118185872,
          "y0": 0.018228439558757303,
          "y1": 0.07163086287502096
         },
         {
          "fillcolor": "#5edcfb",
          "layer": "below",
          "line": {
           "width": 0
          },
          "type": "rect",
          "x0": 0.597373118185872,
          "x1": 0.6633977988447047,
          "y0": 0.018228439558757303,
          "y1": 0.07163086287502096
         },
         {
          "fillcolor": "#5be7ff",
          "layer": "below",
          "line": {
           "width": 0
          },
          "type": "rect",
          "x0": 0.6633977988447047,
          "x1": 0.7294224795035374,
          "y0": 0.018228439558757303,
          "y1": 0.07163086287502096
         },
         {
          "fillcolor": "#58f3ff",
          "layer": "below",
          "line": {
           "width": 0
          },
          "type": "rect",
          "x0": 0.7294224795035374,
          "x1": 0.7954471601623704,
          "y0": 0.018228439558757303,
          "y1": 0.07163086287502096
         },
         {
          "fillcolor": "#b10000",
          "layer": "below",
          "line": {
           "width": 0
          },
          "type": "rect",
          "x0": -0.8551698563084486,
          "x1": -0.7891451756496158,
          "y0": 0.07163086287502096,
          "y1": 0.1250332861912845
         },
         {
          "fillcolor": "#ae0000",
          "layer": "below",
          "line": {
           "width": 0
          },
          "type": "rect",
          "x0": -0.7891451756496158,
          "x1": -0.723120494990783,
          "y0": 0.07163086287502096,
          "y1": 0.1250332861912845
         },
         {
          "fillcolor": "#ab0000",
          "layer": "below",
          "line": {
           "width": 0
          },
          "type": "rect",
          "x0": -0.723120494990783,
          "x1": -0.6570958143319503,
          "y0": 0.07163086287502096,
          "y1": 0.1250332861912845
         },
         {
          "fillcolor": "#a8000b",
          "layer": "below",
          "line": {
           "width": 0
          },
          "type": "rect",
          "x0": -0.6570958143319503,
          "x1": -0.5910711336731176,
          "y0": 0.07163086287502096,
          "y1": 0.1250332861912845
         },
         {
          "fillcolor": "#a40c18",
          "layer": "below",
          "line": {
           "width": 0
          },
          "type": "rect",
          "x0": -0.5910711336731176,
          "x1": -0.5250464530142848,
          "y0": 0.07163086287502096,
          "y1": 0.1250332861912845
         },
         {
          "fillcolor": "#a11824",
          "layer": "below",
          "line": {
           "width": 0
          },
          "type": "rect",
          "x0": -0.5250464530142848,
          "x1": -0.45902177235545205,
          "y0": 0.07163086287502096,
          "y1": 0.1250332861912845
         },
         {
          "fillcolor": "#9e2431",
          "layer": "below",
          "line": {
           "width": 0
          },
          "type": "rect",
          "x0": -0.45902177235545205,
          "x1": -0.3929970916966193,
          "y0": 0.07163086287502096,
          "y1": 0.1250332861912845
         },
         {
          "fillcolor": "#9b2f3e",
          "layer": "below",
          "line": {
           "width": 0
          },
          "type": "rect",
          "x0": -0.3929970916966193,
          "x1": -0.3269724110377865,
          "y0": 0.07163086287502096,
          "y1": 0.1250332861912845
         },
         {
          "fillcolor": "#983b4a",
          "layer": "below",
          "line": {
           "width": 0
          },
          "type": "rect",
          "x0": -0.3269724110377865,
          "x1": -0.2609477303789538,
          "y0": 0.07163086287502096,
          "y1": 0.1250332861912845
         },
         {
          "fillcolor": "#954757",
          "layer": "below",
          "line": {
           "width": 0
          },
          "type": "rect",
          "x0": -0.2609477303789538,
          "x1": -0.19492304972012098,
          "y0": 0.07163086287502096,
          "y1": 0.1250332861912845
         },
         {
          "fillcolor": "#915363",
          "layer": "below",
          "line": {
           "width": 0
          },
          "type": "rect",
          "x0": -0.19492304972012098,
          "x1": -0.12889836906128826,
          "y0": 0.07163086287502096,
          "y1": 0.1250332861912845
         },
         {
          "fillcolor": "#8e5e70",
          "layer": "below",
          "line": {
           "width": 0
          },
          "type": "rect",
          "x0": -0.12889836906128826,
          "x1": -0.06287368840245555,
          "y0": 0.07163086287502096,
          "y1": 0.1250332861912845
         },
         {
          "fillcolor": "#8b6a7d",
          "layer": "below",
          "line": {
           "width": 0
          },
          "type": "rect",
          "x0": -0.06287368840245555,
          "x1": 0.003150992256377272,
          "y0": 0.07163086287502096,
          "y1": 0.1250332861912845
         },
         {
          "fillcolor": "#887689",
          "layer": "below",
          "line": {
           "width": 0
          },
          "type": "rect",
          "x0": 0.003150992256377272,
          "x1": 0.06917567291520998,
          "y0": 0.07163086287502096,
          "y1": 0.1250332861912845
         },
         {
          "fillcolor": "#858296",
          "layer": "below",
          "line": {
           "width": 0
          },
          "type": "rect",
          "x0": 0.06917567291520998,
          "x1": 0.1352003535740428,
          "y0": 0.07163086287502096,
          "y1": 0.1250332861912845
         },
         {
          "fillcolor": "#828da3",
          "layer": "below",
          "line": {
           "width": 0
          },
          "type": "rect",
          "x0": 0.1352003535740428,
          "x1": 0.20122503423287552,
          "y0": 0.07163086287502096,
          "y1": 0.1250332861912845
         },
         {
          "fillcolor": "#7f99af",
          "layer": "below",
          "line": {
           "width": 0
          },
          "type": "rect",
          "x0": 0.20122503423287552,
          "x1": 0.26724971489170823,
          "y0": 0.07163086287502096,
          "y1": 0.1250332861912845
         },
         {
          "fillcolor": "#7ba5bc",
          "layer": "below",
          "line": {
           "width": 0
          },
          "type": "rect",
          "x0": 0.26724971489170823,
          "x1": 0.33327439555054095,
          "y0": 0.07163086287502096,
          "y1": 0.1250332861912845
         },
         {
          "fillcolor": "#78b0c9",
          "layer": "below",
          "line": {
           "width": 0
          },
          "type": "rect",
          "x0": 0.33327439555054095,
          "x1": 0.3992990762093739,
          "y0": 0.07163086287502096,
          "y1": 0.1250332861912845
         },
         {
          "fillcolor": "#75bcd5",
          "layer": "below",
          "line": {
           "width": 0
          },
          "type": "rect",
          "x0": 0.3992990762093739,
          "x1": 0.4653237568682066,
          "y0": 0.07163086287502096,
          "y1": 0.1250332861912845
         },
         {
          "fillcolor": "#72c8e2",
          "layer": "below",
          "line": {
           "width": 0
          },
          "type": "rect",
          "x0": 0.4653237568682066,
          "x1": 0.5313484375270393,
          "y0": 0.07163086287502096,
          "y1": 0.1250332861912845
         },
         {
          "fillcolor": "#6fd4ee",
          "layer": "below",
          "line": {
           "width": 0
          },
          "type": "rect",
          "x0": 0.5313484375270393,
          "x1": 0.597373118185872,
          "y0": 0.07163086287502096,
          "y1": 0.1250332861912845
         },
         {
          "fillcolor": "#6cdffb",
          "layer": "below",
          "line": {
           "width": 0
          },
          "type": "rect",
          "x0": 0.597373118185872,
          "x1": 0.6633977988447047,
          "y0": 0.07163086287502096,
          "y1": 0.1250332861912845
         },
         {
          "fillcolor": "#68ebff",
          "layer": "below",
          "line": {
           "width": 0
          },
          "type": "rect",
          "x0": 0.6633977988447047,
          "x1": 0.7294224795035374,
          "y0": 0.07163086287502096,
          "y1": 0.1250332861912845
         },
         {
          "fillcolor": "#65f7ff",
          "layer": "below",
          "line": {
           "width": 0
          },
          "type": "rect",
          "x0": 0.7294224795035374,
          "x1": 0.7954471601623704,
          "y0": 0.07163086287502096,
          "y1": 0.1250332861912845
         },
         {
          "fillcolor": "#bf0000",
          "layer": "below",
          "line": {
           "width": 0
          },
          "type": "rect",
          "x0": -0.8551698563084486,
          "x1": -0.7891451756496158,
          "y0": 0.1250332861912845,
          "y1": 0.17843570950754817
         },
         {
          "fillcolor": "#bc0000",
          "layer": "below",
          "line": {
           "width": 0
          },
          "type": "rect",
          "x0": -0.7891451756496158,
          "x1": -0.723120494990783,
          "y0": 0.1250332861912845,
          "y1": 0.17843570950754817
         },
         {
          "fillcolor": "#b80000",
          "layer": "below",
          "line": {
           "width": 0
          },
          "type": "rect",
          "x0": -0.723120494990783,
          "x1": -0.6570958143319503,
          "y0": 0.1250332861912845,
          "y1": 0.17843570950754817
         },
         {
          "fillcolor": "#b5040b",
          "layer": "below",
          "line": {
           "width": 0
          },
          "type": "rect",
          "x0": -0.6570958143319503,
          "x1": -0.5910711336731176,
          "y0": 0.1250332861912845,
          "y1": 0.17843570950754817
         },
         {
          "fillcolor": "#b21018",
          "layer": "below",
          "line": {
           "width": 0
          },
          "type": "rect",
          "x0": -0.5910711336731176,
          "x1": -0.5250464530142848,
          "y0": 0.1250332861912845,
          "y1": 0.17843570950754817
         },
         {
          "fillcolor": "#af1c24",
          "layer": "below",
          "line": {
           "width": 0
          },
          "type": "rect",
          "x0": -0.5250464530142848,
          "x1": -0.45902177235545205,
          "y0": 0.1250332861912845,
          "y1": 0.17843570950754817
         },
         {
          "fillcolor": "#ac2731",
          "layer": "below",
          "line": {
           "width": 0
          },
          "type": "rect",
          "x0": -0.45902177235545205,
          "x1": -0.3929970916966193,
          "y0": 0.1250332861912845,
          "y1": 0.17843570950754817
         },
         {
          "fillcolor": "#a9333d",
          "layer": "below",
          "line": {
           "width": 0
          },
          "type": "rect",
          "x0": -0.3929970916966193,
          "x1": -0.3269724110377865,
          "y0": 0.1250332861912845,
          "y1": 0.17843570950754817
         },
         {
          "fillcolor": "#a53f4a",
          "layer": "below",
          "line": {
           "width": 0
          },
          "type": "rect",
          "x0": -0.3269724110377865,
          "x1": -0.2609477303789538,
          "y0": 0.1250332861912845,
          "y1": 0.17843570950754817
         },
         {
          "fillcolor": "#a24b57",
          "layer": "below",
          "line": {
           "width": 0
          },
          "type": "rect",
          "x0": -0.2609477303789538,
          "x1": -0.19492304972012098,
          "y0": 0.1250332861912845,
          "y1": 0.17843570950754817
         },
         {
          "fillcolor": "#9f5663",
          "layer": "below",
          "line": {
           "width": 0
          },
          "type": "rect",
          "x0": -0.19492304972012098,
          "x1": -0.12889836906128826,
          "y0": 0.1250332861912845,
          "y1": 0.17843570950754817
         },
         {
          "fillcolor": "#9c6270",
          "layer": "below",
          "line": {
           "width": 0
          },
          "type": "rect",
          "x0": -0.12889836906128826,
          "x1": -0.06287368840245555,
          "y0": 0.1250332861912845,
          "y1": 0.17843570950754817
         },
         {
          "fillcolor": "#996e7d",
          "layer": "below",
          "line": {
           "width": 0
          },
          "type": "rect",
          "x0": -0.06287368840245555,
          "x1": 0.003150992256377272,
          "y0": 0.1250332861912845,
          "y1": 0.17843570950754817
         },
         {
          "fillcolor": "#967a89",
          "layer": "below",
          "line": {
           "width": 0
          },
          "type": "rect",
          "x0": 0.003150992256377272,
          "x1": 0.06917567291520998,
          "y0": 0.1250332861912845,
          "y1": 0.17843570950754817
         },
         {
          "fillcolor": "#928596",
          "layer": "below",
          "line": {
           "width": 0
          },
          "type": "rect",
          "x0": 0.06917567291520998,
          "x1": 0.1352003535740428,
          "y0": 0.1250332861912845,
          "y1": 0.17843570950754817
         },
         {
          "fillcolor": "#8f91a3",
          "layer": "below",
          "line": {
           "width": 0
          },
          "type": "rect",
          "x0": 0.1352003535740428,
          "x1": 0.20122503423287552,
          "y0": 0.1250332861912845,
          "y1": 0.17843570950754817
         },
         {
          "fillcolor": "#8c9daf",
          "layer": "below",
          "line": {
           "width": 0
          },
          "type": "rect",
          "x0": 0.20122503423287552,
          "x1": 0.26724971489170823,
          "y0": 0.1250332861912845,
          "y1": 0.17843570950754817
         },
         {
          "fillcolor": "#89a9bc",
          "layer": "below",
          "line": {
           "width": 0
          },
          "type": "rect",
          "x0": 0.26724971489170823,
          "x1": 0.33327439555054095,
          "y0": 0.1250332861912845,
          "y1": 0.17843570950754817
         },
         {
          "fillcolor": "#86b4c8",
          "layer": "below",
          "line": {
           "width": 0
          },
          "type": "rect",
          "x0": 0.33327439555054095,
          "x1": 0.3992990762093739,
          "y0": 0.1250332861912845,
          "y1": 0.17843570950754817
         },
         {
          "fillcolor": "#83c0d5",
          "layer": "below",
          "line": {
           "width": 0
          },
          "type": "rect",
          "x0": 0.3992990762093739,
          "x1": 0.4653237568682066,
          "y0": 0.1250332861912845,
          "y1": 0.17843570950754817
         },
         {
          "fillcolor": "#80cce2",
          "layer": "below",
          "line": {
           "width": 0
          },
          "type": "rect",
          "x0": 0.4653237568682066,
          "x1": 0.5313484375270393,
          "y0": 0.1250332861912845,
          "y1": 0.17843570950754817
         },
         {
          "fillcolor": "#7cd8ee",
          "layer": "below",
          "line": {
           "width": 0
          },
          "type": "rect",
          "x0": 0.5313484375270393,
          "x1": 0.597373118185872,
          "y0": 0.1250332861912845,
          "y1": 0.17843570950754817
         },
         {
          "fillcolor": "#79e3fb",
          "layer": "below",
          "line": {
           "width": 0
          },
          "type": "rect",
          "x0": 0.597373118185872,
          "x1": 0.6633977988447047,
          "y0": 0.1250332861912845,
          "y1": 0.17843570950754817
         },
         {
          "fillcolor": "#76efff",
          "layer": "below",
          "line": {
           "width": 0
          },
          "type": "rect",
          "x0": 0.6633977988447047,
          "x1": 0.7294224795035374,
          "y0": 0.1250332861912845,
          "y1": 0.17843570950754817
         },
         {
          "fillcolor": "#73fbff",
          "layer": "below",
          "line": {
           "width": 0
          },
          "type": "rect",
          "x0": 0.7294224795035374,
          "x1": 0.7954471601623704,
          "y0": 0.1250332861912845,
          "y1": 0.17843570950754817
         },
         {
          "fillcolor": "#cc0000",
          "layer": "below",
          "line": {
           "width": 0
          },
          "type": "rect",
          "x0": -0.8551698563084486,
          "x1": -0.7891451756496158,
          "y0": 0.17843570950754817,
          "y1": 0.23183813282381183
         },
         {
          "fillcolor": "#c90000",
          "layer": "below",
          "line": {
           "width": 0
          },
          "type": "rect",
          "x0": -0.7891451756496158,
          "x1": -0.723120494990783,
          "y0": 0.17843570950754817,
          "y1": 0.23183813282381183
         },
         {
          "fillcolor": "#c60000",
          "layer": "below",
          "line": {
           "width": 0
          },
          "type": "rect",
          "x0": -0.723120494990783,
          "x1": -0.6570958143319503,
          "y0": 0.17843570950754817,
          "y1": 0.23183813282381183
         },
         {
          "fillcolor": "#c3080b",
          "layer": "below",
          "line": {
           "width": 0
          },
          "type": "rect",
          "x0": -0.6570958143319503,
          "x1": -0.5910711336731176,
          "y0": 0.17843570950754817,
          "y1": 0.23183813282381183
         },
         {
          "fillcolor": "#c01417",
          "layer": "below",
          "line": {
           "width": 0
          },
          "type": "rect",
          "x0": -0.5910711336731176,
          "x1": -0.5250464530142848,
          "y0": 0.17843570950754817,
          "y1": 0.23183813282381183
         },
         {
          "fillcolor": "#bd1f24",
          "layer": "below",
          "line": {
           "width": 0
          },
          "type": "rect",
          "x0": -0.5250464530142848,
          "x1": -0.45902177235545205,
          "y0": 0.17843570950754817,
          "y1": 0.23183813282381183
         },
         {
          "fillcolor": "#b92b31",
          "layer": "below",
          "line": {
           "width": 0
          },
          "type": "rect",
          "x0": -0.45902177235545205,
          "x1": -0.3929970916966193,
          "y0": 0.17843570950754817,
          "y1": 0.23183813282381183
         },
         {
          "fillcolor": "#b6373d",
          "layer": "below",
          "line": {
           "width": 0
          },
          "type": "rect",
          "x0": -0.3929970916966193,
          "x1": -0.3269724110377865,
          "y0": 0.17843570950754817,
          "y1": 0.23183813282381183
         },
         {
          "fillcolor": "#b3434a",
          "layer": "below",
          "line": {
           "width": 0
          },
          "type": "rect",
          "x0": -0.3269724110377865,
          "x1": -0.2609477303789538,
          "y0": 0.17843570950754817,
          "y1": 0.23183813282381183
         },
         {
          "fillcolor": "#b04e57",
          "layer": "below",
          "line": {
           "width": 0
          },
          "type": "rect",
          "x0": -0.2609477303789538,
          "x1": -0.19492304972012098,
          "y0": 0.17843570950754817,
          "y1": 0.23183813282381183
         },
         {
          "fillcolor": "#ad5a63",
          "layer": "below",
          "line": {
           "width": 0
          },
          "type": "rect",
          "x0": -0.19492304972012098,
          "x1": -0.12889836906128826,
          "y0": 0.17843570950754817,
          "y1": 0.23183813282381183
         },
         {
          "fillcolor": "#aa6670",
          "layer": "below",
          "line": {
           "width": 0
          },
          "type": "rect",
          "x0": -0.12889836906128826,
          "x1": -0.06287368840245555,
          "y0": 0.17843570950754817,
          "y1": 0.23183813282381183
         },
         {
          "fillcolor": "#a6727c",
          "layer": "below",
          "line": {
           "width": 0
          },
          "type": "rect",
          "x0": -0.06287368840245555,
          "x1": 0.003150992256377272,
          "y0": 0.17843570950754817,
          "y1": 0.23183813282381183
         },
         {
          "fillcolor": "#a37d89",
          "layer": "below",
          "line": {
           "width": 0
          },
          "type": "rect",
          "x0": 0.003150992256377272,
          "x1": 0.06917567291520998,
          "y0": 0.17843570950754817,
          "y1": 0.23183813282381183
         },
         {
          "fillcolor": "#a08996",
          "layer": "below",
          "line": {
           "width": 0
          },
          "type": "rect",
          "x0": 0.06917567291520998,
          "x1": 0.1352003535740428,
          "y0": 0.17843570950754817,
          "y1": 0.23183813282381183
         },
         {
          "fillcolor": "#9d95a2",
          "layer": "below",
          "line": {
           "width": 0
          },
          "type": "rect",
          "x0": 0.1352003535740428,
          "x1": 0.20122503423287552,
          "y0": 0.17843570950754817,
          "y1": 0.23183813282381183
         },
         {
          "fillcolor": "#9aa1af",
          "layer": "below",
          "line": {
           "width": 0
          },
          "type": "rect",
          "x0": 0.20122503423287552,
          "x1": 0.26724971489170823,
          "y0": 0.17843570950754817,
          "y1": 0.23183813282381183
         },
         {
          "fillcolor": "#97acbc",
          "layer": "below",
          "line": {
           "width": 0
          },
          "type": "rect",
          "x0": 0.26724971489170823,
          "x1": 0.33327439555054095,
          "y0": 0.17843570950754817,
          "y1": 0.23183813282381183
         },
         {
          "fillcolor": "#93b8c8",
          "layer": "below",
          "line": {
           "width": 0
          },
          "type": "rect",
          "x0": 0.33327439555054095,
          "x1": 0.3992990762093739,
          "y0": 0.17843570950754817,
          "y1": 0.23183813282381183
         },
         {
          "fillcolor": "#90c4d5",
          "layer": "below",
          "line": {
           "width": 0
          },
          "type": "rect",
          "x0": 0.3992990762093739,
          "x1": 0.4653237568682066,
          "y0": 0.17843570950754817,
          "y1": 0.23183813282381183
         },
         {
          "fillcolor": "#8dd0e2",
          "layer": "below",
          "line": {
           "width": 0
          },
          "type": "rect",
          "x0": 0.4653237568682066,
          "x1": 0.5313484375270393,
          "y0": 0.17843570950754817,
          "y1": 0.23183813282381183
         },
         {
          "fillcolor": "#8adbee",
          "layer": "below",
          "line": {
           "width": 0
          },
          "type": "rect",
          "x0": 0.5313484375270393,
          "x1": 0.597373118185872,
          "y0": 0.17843570950754817,
          "y1": 0.23183813282381183
         },
         {
          "fillcolor": "#87e7fb",
          "layer": "below",
          "line": {
           "width": 0
          },
          "type": "rect",
          "x0": 0.597373118185872,
          "x1": 0.6633977988447047,
          "y0": 0.17843570950754817,
          "y1": 0.23183813282381183
         },
         {
          "fillcolor": "#84f3ff",
          "layer": "below",
          "line": {
           "width": 0
          },
          "type": "rect",
          "x0": 0.6633977988447047,
          "x1": 0.7294224795035374,
          "y0": 0.17843570950754817,
          "y1": 0.23183813282381183
         },
         {
          "fillcolor": "#81ffff",
          "layer": "below",
          "line": {
           "width": 0
          },
          "type": "rect",
          "x0": 0.7294224795035374,
          "x1": 0.7954471601623704,
          "y0": 0.17843570950754817,
          "y1": 0.23183813282381183
         },
         {
          "fillcolor": "#da0000",
          "layer": "below",
          "line": {
           "width": 0
          },
          "type": "rect",
          "x0": -0.8551698563084486,
          "x1": -0.7891451756496158,
          "y0": 0.23183813282381183,
          "y1": 0.2852405561400755
         },
         {
          "fillcolor": "#d70000",
          "layer": "below",
          "line": {
           "width": 0
          },
          "type": "rect",
          "x0": -0.7891451756496158,
          "x1": -0.723120494990783,
          "y0": 0.23183813282381183,
          "y1": 0.2852405561400755
         },
         {
          "fillcolor": "#d40000",
          "layer": "below",
          "line": {
           "width": 0
          },
          "type": "rect",
          "x0": -0.723120494990783,
          "x1": -0.6570958143319503,
          "y0": 0.23183813282381183,
          "y1": 0.2852405561400755
         },
         {
          "fillcolor": "#d10c0b",
          "layer": "below",
          "line": {
           "width": 0
          },
          "type": "rect",
          "x0": -0.6570958143319503,
          "x1": -0.5910711336731176,
          "y0": 0.23183813282381183,
          "y1": 0.2852405561400755
         },
         {
          "fillcolor": "#cd1817",
          "layer": "below",
          "line": {
           "width": 0
          },
          "type": "rect",
          "x0": -0.5910711336731176,
          "x1": -0.5250464530142848,
          "y0": 0.23183813282381183,
          "y1": 0.2852405561400755
         },
         {
          "fillcolor": "#ca2324",
          "layer": "below",
          "line": {
           "width": 0
          },
          "type": "rect",
          "x0": -0.5250464530142848,
          "x1": -0.45902177235545205,
          "y0": 0.23183813282381183,
          "y1": 0.2852405561400755
         },
         {
          "fillcolor": "#c72f31",
          "layer": "below",
          "line": {
           "width": 0
          },
          "type": "rect",
          "x0": -0.45902177235545205,
          "x1": -0.3929970916966193,
          "y0": 0.23183813282381183,
          "y1": 0.2852405561400755
         },
         {
          "fillcolor": "#c43b3d",
          "layer": "below",
          "line": {
           "width": 0
          },
          "type": "rect",
          "x0": -0.3929970916966193,
          "x1": -0.3269724110377865,
          "y0": 0.23183813282381183,
          "y1": 0.2852405561400755
         },
         {
          "fillcolor": "#c1464a",
          "layer": "below",
          "line": {
           "width": 0
          },
          "type": "rect",
          "x0": -0.3269724110377865,
          "x1": -0.2609477303789538,
          "y0": 0.23183813282381183,
          "y1": 0.2852405561400755
         },
         {
          "fillcolor": "#be5256",
          "layer": "below",
          "line": {
           "width": 0
          },
          "type": "rect",
          "x0": -0.2609477303789538,
          "x1": -0.19492304972012098,
          "y0": 0.23183813282381183,
          "y1": 0.2852405561400755
         },
         {
          "fillcolor": "#ba5e63",
          "layer": "below",
          "line": {
           "width": 0
          },
          "type": "rect",
          "x0": -0.19492304972012098,
          "x1": -0.12889836906128826,
          "y0": 0.23183813282381183,
          "y1": 0.2852405561400755
         },
         {
          "fillcolor": "#b76a70",
          "layer": "below",
          "line": {
           "width": 0
          },
          "type": "rect",
          "x0": -0.12889836906128826,
          "x1": -0.06287368840245555,
          "y0": 0.23183813282381183,
          "y1": 0.2852405561400755
         },
         {
          "fillcolor": "#b4757c",
          "layer": "below",
          "line": {
           "width": 0
          },
          "type": "rect",
          "x0": -0.06287368840245555,
          "x1": 0.003150992256377272,
          "y0": 0.23183813282381183,
          "y1": 0.2852405561400755
         },
         {
          "fillcolor": "#b18189",
          "layer": "below",
          "line": {
           "width": 0
          },
          "type": "rect",
          "x0": 0.003150992256377272,
          "x1": 0.06917567291520998,
          "y0": 0.23183813282381183,
          "y1": 0.2852405561400755
         },
         {
          "fillcolor": "#ae8d96",
          "layer": "below",
          "line": {
           "width": 0
          },
          "type": "rect",
          "x0": 0.06917567291520998,
          "x1": 0.1352003535740428,
          "y0": 0.23183813282381183,
          "y1": 0.2852405561400755
         },
         {
          "fillcolor": "#ab99a2",
          "layer": "below",
          "line": {
           "width": 0
          },
          "type": "rect",
          "x0": 0.1352003535740428,
          "x1": 0.20122503423287552,
          "y0": 0.23183813282381183,
          "y1": 0.2852405561400755
         },
         {
          "fillcolor": "#a7a4af",
          "layer": "below",
          "line": {
           "width": 0
          },
          "type": "rect",
          "x0": 0.20122503423287552,
          "x1": 0.26724971489170823,
          "y0": 0.23183813282381183,
          "y1": 0.2852405561400755
         },
         {
          "fillcolor": "#a4b0bc",
          "layer": "below",
          "line": {
           "width": 0
          },
          "type": "rect",
          "x0": 0.26724971489170823,
          "x1": 0.33327439555054095,
          "y0": 0.23183813282381183,
          "y1": 0.2852405561400755
         },
         {
          "fillcolor": "#a1bcc8",
          "layer": "below",
          "line": {
           "width": 0
          },
          "type": "rect",
          "x0": 0.33327439555054095,
          "x1": 0.3992990762093739,
          "y0": 0.23183813282381183,
          "y1": 0.2852405561400755
         },
         {
          "fillcolor": "#9ec8d5",
          "layer": "below",
          "line": {
           "width": 0
          },
          "type": "rect",
          "x0": 0.3992990762093739,
          "x1": 0.4653237568682066,
          "y0": 0.23183813282381183,
          "y1": 0.2852405561400755
         },
         {
          "fillcolor": "#9bd3e1",
          "layer": "below",
          "line": {
           "width": 0
          },
          "type": "rect",
          "x0": 0.4653237568682066,
          "x1": 0.5313484375270393,
          "y0": 0.23183813282381183,
          "y1": 0.2852405561400755
         },
         {
          "fillcolor": "#98dfee",
          "layer": "below",
          "line": {
           "width": 0
          },
          "type": "rect",
          "x0": 0.5313484375270393,
          "x1": 0.597373118185872,
          "y0": 0.23183813282381183,
          "y1": 0.2852405561400755
         },
         {
          "fillcolor": "#94ebfb",
          "layer": "below",
          "line": {
           "width": 0
          },
          "type": "rect",
          "x0": 0.597373118185872,
          "x1": 0.6633977988447047,
          "y0": 0.23183813282381183,
          "y1": 0.2852405561400755
         },
         {
          "fillcolor": "#91f7ff",
          "layer": "below",
          "line": {
           "width": 0
          },
          "type": "rect",
          "x0": 0.6633977988447047,
          "x1": 0.7294224795035374,
          "y0": 0.23183813282381183,
          "y1": 0.2852405561400755
         },
         {
          "fillcolor": "#8effff",
          "layer": "below",
          "line": {
           "width": 0
          },
          "type": "rect",
          "x0": 0.7294224795035374,
          "x1": 0.7954471601623704,
          "y0": 0.23183813282381183,
          "y1": 0.2852405561400755
         },
         {
          "fillcolor": "#e80000",
          "layer": "below",
          "line": {
           "width": 0
          },
          "type": "rect",
          "x0": -0.8551698563084486,
          "x1": -0.7891451756496158,
          "y0": 0.2852405561400755,
          "y1": 0.33864297945633914
         },
         {
          "fillcolor": "#e50000",
          "layer": "below",
          "line": {
           "width": 0
          },
          "type": "rect",
          "x0": -0.7891451756496158,
          "x1": -0.723120494990783,
          "y0": 0.2852405561400755,
          "y1": 0.33864297945633914
         },
         {
          "fillcolor": "#e10400",
          "layer": "below",
          "line": {
           "width": 0
          },
          "type": "rect",
          "x0": -0.723120494990783,
          "x1": -0.6570958143319503,
          "y0": 0.2852405561400755,
          "y1": 0.33864297945633914
         },
         {
          "fillcolor": "#de100b",
          "layer": "below",
          "line": {
           "width": 0
          },
          "type": "rect",
          "x0": -0.6570958143319503,
          "x1": -0.5910711336731176,
          "y0": 0.2852405561400755,
          "y1": 0.33864297945633914
         },
         {
          "fillcolor": "#db1b17",
          "layer": "below",
          "line": {
           "width": 0
          },
          "type": "rect",
          "x0": -0.5910711336731176,
          "x1": -0.5250464530142848,
          "y0": 0.2852405561400755,
          "y1": 0.33864297945633914
         },
         {
          "fillcolor": "#d82724",
          "layer": "below",
          "line": {
           "width": 0
          },
          "type": "rect",
          "x0": -0.5250464530142848,
          "x1": -0.45902177235545205,
          "y0": 0.2852405561400755,
          "y1": 0.33864297945633914
         },
         {
          "fillcolor": "#d53330",
          "layer": "below",
          "line": {
           "width": 0
          },
          "type": "rect",
          "x0": -0.45902177235545205,
          "x1": -0.3929970916966193,
          "y0": 0.2852405561400755,
          "y1": 0.33864297945633914
         },
         {
          "fillcolor": "#d23f3d",
          "layer": "below",
          "line": {
           "width": 0
          },
          "type": "rect",
          "x0": -0.3929970916966193,
          "x1": -0.3269724110377865,
          "y0": 0.2852405561400755,
          "y1": 0.33864297945633914
         },
         {
          "fillcolor": "#ce4a4a",
          "layer": "below",
          "line": {
           "width": 0
          },
          "type": "rect",
          "x0": -0.3269724110377865,
          "x1": -0.2609477303789538,
          "y0": 0.2852405561400755,
          "y1": 0.33864297945633914
         },
         {
          "fillcolor": "#cb5656",
          "layer": "below",
          "line": {
           "width": 0
          },
          "type": "rect",
          "x0": -0.2609477303789538,
          "x1": -0.19492304972012098,
          "y0": 0.2852405561400755,
          "y1": 0.33864297945633914
         },
         {
          "fillcolor": "#c86263",
          "layer": "below",
          "line": {
           "width": 0
          },
          "type": "rect",
          "x0": -0.19492304972012098,
          "x1": -0.12889836906128826,
          "y0": 0.2852405561400755,
          "y1": 0.33864297945633914
         },
         {
          "fillcolor": "#c56e70",
          "layer": "below",
          "line": {
           "width": 0
          },
          "type": "rect",
          "x0": -0.12889836906128826,
          "x1": -0.06287368840245555,
          "y0": 0.2852405561400755,
          "y1": 0.33864297945633914
         },
         {
          "fillcolor": "#c2797c",
          "layer": "below",
          "line": {
           "width": 0
          },
          "type": "rect",
          "x0": -0.06287368840245555,
          "x1": 0.003150992256377272,
          "y0": 0.2852405561400755,
          "y1": 0.33864297945633914
         },
         {
          "fillcolor": "#bf8589",
          "layer": "below",
          "line": {
           "width": 0
          },
          "type": "rect",
          "x0": 0.003150992256377272,
          "x1": 0.06917567291520998,
          "y0": 0.2852405561400755,
          "y1": 0.33864297945633914
         },
         {
          "fillcolor": "#bb9196",
          "layer": "below",
          "line": {
           "width": 0
          },
          "type": "rect",
          "x0": 0.06917567291520998,
          "x1": 0.1352003535740428,
          "y0": 0.2852405561400755,
          "y1": 0.33864297945633914
         },
         {
          "fillcolor": "#b89ca2",
          "layer": "below",
          "line": {
           "width": 0
          },
          "type": "rect",
          "x0": 0.1352003535740428,
          "x1": 0.20122503423287552,
          "y0": 0.2852405561400755,
          "y1": 0.33864297945633914
         },
         {
          "fillcolor": "#b5a8af",
          "layer": "below",
          "line": {
           "width": 0
          },
          "type": "rect",
          "x0": 0.20122503423287552,
          "x1": 0.26724971489170823,
          "y0": 0.2852405561400755,
          "y1": 0.33864297945633914
         },
         {
          "fillcolor": "#b2b4bb",
          "layer": "below",
          "line": {
           "width": 0
          },
          "type": "rect",
          "x0": 0.26724971489170823,
          "x1": 0.33327439555054095,
          "y0": 0.2852405561400755,
          "y1": 0.33864297945633914
         },
         {
          "fillcolor": "#afc0c8",
          "layer": "below",
          "line": {
           "width": 0
          },
          "type": "rect",
          "x0": 0.33327439555054095,
          "x1": 0.3992990762093739,
          "y0": 0.2852405561400755,
          "y1": 0.33864297945633914
         },
         {
          "fillcolor": "#accbd5",
          "layer": "below",
          "line": {
           "width": 0
          },
          "type": "rect",
          "x0": 0.3992990762093739,
          "x1": 0.4653237568682066,
          "y0": 0.2852405561400755,
          "y1": 0.33864297945633914
         },
         {
          "fillcolor": "#a8d7e1",
          "layer": "below",
          "line": {
           "width": 0
          },
          "type": "rect",
          "x0": 0.4653237568682066,
          "x1": 0.5313484375270393,
          "y0": 0.2852405561400755,
          "y1": 0.33864297945633914
         },
         {
          "fillcolor": "#a5e3ee",
          "layer": "below",
          "line": {
           "width": 0
          },
          "type": "rect",
          "x0": 0.5313484375270393,
          "x1": 0.597373118185872,
          "y0": 0.2852405561400755,
          "y1": 0.33864297945633914
         },
         {
          "fillcolor": "#a2effb",
          "layer": "below",
          "line": {
           "width": 0
          },
          "type": "rect",
          "x0": 0.597373118185872,
          "x1": 0.6633977988447047,
          "y0": 0.2852405561400755,
          "y1": 0.33864297945633914
         },
         {
          "fillcolor": "#9ffaff",
          "layer": "below",
          "line": {
           "width": 0
          },
          "type": "rect",
          "x0": 0.6633977988447047,
          "x1": 0.7294224795035374,
          "y0": 0.2852405561400755,
          "y1": 0.33864297945633914
         },
         {
          "fillcolor": "#9cffff",
          "layer": "below",
          "line": {
           "width": 0
          },
          "type": "rect",
          "x0": 0.7294224795035374,
          "x1": 0.7954471601623704,
          "y0": 0.2852405561400755,
          "y1": 0.33864297945633914
         },
         {
          "fillcolor": "#f50000",
          "layer": "below",
          "line": {
           "width": 0
          },
          "type": "rect",
          "x0": -0.8551698563084486,
          "x1": -0.7891451756496158,
          "y0": 0.33864297945633914,
          "y1": 0.3920454027726028
         },
         {
          "fillcolor": "#f20000",
          "layer": "below",
          "line": {
           "width": 0
          },
          "type": "rect",
          "x0": -0.7891451756496158,
          "x1": -0.723120494990783,
          "y0": 0.33864297945633914,
          "y1": 0.3920454027726028
         },
         {
          "fillcolor": "#ef0800",
          "layer": "below",
          "line": {
           "width": 0
          },
          "type": "rect",
          "x0": -0.723120494990783,
          "x1": -0.6570958143319503,
          "y0": 0.33864297945633914,
          "y1": 0.3920454027726028
         },
         {
          "fillcolor": "#ec130a",
          "layer": "below",
          "line": {
           "width": 0
          },
          "type": "rect",
          "x0": -0.6570958143319503,
          "x1": -0.5910711336731176,
          "y0": 0.33864297945633914,
          "y1": 0.3920454027726028
         },
         {
          "fillcolor": "#e91f17",
          "layer": "below",
          "line": {
           "width": 0
          },
          "type": "rect",
          "x0": -0.5910711336731176,
          "x1": -0.5250464530142848,
          "y0": 0.33864297945633914,
          "y1": 0.3920454027726028
         },
         {
          "fillcolor": "#e62b24",
          "layer": "below",
          "line": {
           "width": 0
          },
          "type": "rect",
          "x0": -0.5250464530142848,
          "x1": -0.45902177235545205,
          "y0": 0.33864297945633914,
          "y1": 0.3920454027726028
         },
         {
          "fillcolor": "#e23730",
          "layer": "below",
          "line": {
           "width": 0
          },
          "type": "rect",
          "x0": -0.45902177235545205,
          "x1": -0.3929970916966193,
          "y0": 0.33864297945633914,
          "y1": 0.3920454027726028
         },
         {
          "fillcolor": "#df423d",
          "layer": "below",
          "line": {
           "width": 0
          },
          "type": "rect",
          "x0": -0.3929970916966193,
          "x1": -0.3269724110377865,
          "y0": 0.33864297945633914,
          "y1": 0.3920454027726028
         },
         {
          "fillcolor": "#dc4e4a",
          "layer": "below",
          "line": {
           "width": 0
          },
          "type": "rect",
          "x0": -0.3269724110377865,
          "x1": -0.2609477303789538,
          "y0": 0.33864297945633914,
          "y1": 0.3920454027726028
         },
         {
          "fillcolor": "#d95a56",
          "layer": "below",
          "line": {
           "width": 0
          },
          "type": "rect",
          "x0": -0.2609477303789538,
          "x1": -0.19492304972012098,
          "y0": 0.33864297945633914,
          "y1": 0.3920454027726028
         },
         {
          "fillcolor": "#d66663",
          "layer": "below",
          "line": {
           "width": 0
          },
          "type": "rect",
          "x0": -0.19492304972012098,
          "x1": -0.12889836906128826,
          "y0": 0.33864297945633914,
          "y1": 0.3920454027726028
         },
         {
          "fillcolor": "#d3716f",
          "layer": "below",
          "line": {
           "width": 0
          },
          "type": "rect",
          "x0": -0.12889836906128826,
          "x1": -0.06287368840245555,
          "y0": 0.33864297945633914,
          "y1": 0.3920454027726028
         },
         {
          "fillcolor": "#cf7d7c",
          "layer": "below",
          "line": {
           "width": 0
          },
          "type": "rect",
          "x0": -0.06287368840245555,
          "x1": 0.003150992256377272,
          "y0": 0.33864297945633914,
          "y1": 0.3920454027726028
         },
         {
          "fillcolor": "#cc8989",
          "layer": "below",
          "line": {
           "width": 0
          },
          "type": "rect",
          "x0": 0.003150992256377272,
          "x1": 0.06917567291520998,
          "y0": 0.33864297945633914,
          "y1": 0.3920454027726028
         },
         {
          "fillcolor": "#c99595",
          "layer": "below",
          "line": {
           "width": 0
          },
          "type": "rect",
          "x0": 0.06917567291520998,
          "x1": 0.1352003535740428,
          "y0": 0.33864297945633914,
          "y1": 0.3920454027726028
         },
         {
          "fillcolor": "#c6a0a2",
          "layer": "below",
          "line": {
           "width": 0
          },
          "type": "rect",
          "x0": 0.1352003535740428,
          "x1": 0.20122503423287552,
          "y0": 0.33864297945633914,
          "y1": 0.3920454027726028
         },
         {
          "fillcolor": "#c3acaf",
          "layer": "below",
          "line": {
           "width": 0
          },
          "type": "rect",
          "x0": 0.20122503423287552,
          "x1": 0.26724971489170823,
          "y0": 0.33864297945633914,
          "y1": 0.3920454027726028
         },
         {
          "fillcolor": "#c0b8bb",
          "layer": "below",
          "line": {
           "width": 0
          },
          "type": "rect",
          "x0": 0.26724971489170823,
          "x1": 0.33327439555054095,
          "y0": 0.33864297945633914,
          "y1": 0.3920454027726028
         },
         {
          "fillcolor": "#bcc4c8",
          "layer": "below",
          "line": {
           "width": 0
          },
          "type": "rect",
          "x0": 0.33327439555054095,
          "x1": 0.3992990762093739,
          "y0": 0.33864297945633914,
          "y1": 0.3920454027726028
         },
         {
          "fillcolor": "#b9cfd5",
          "layer": "below",
          "line": {
           "width": 0
          },
          "type": "rect",
          "x0": 0.3992990762093739,
          "x1": 0.4653237568682066,
          "y0": 0.33864297945633914,
          "y1": 0.3920454027726028
         },
         {
          "fillcolor": "#b6dbe1",
          "layer": "below",
          "line": {
           "width": 0
          },
          "type": "rect",
          "x0": 0.4653237568682066,
          "x1": 0.5313484375270393,
          "y0": 0.33864297945633914,
          "y1": 0.3920454027726028
         },
         {
          "fillcolor": "#b3e7ee",
          "layer": "below",
          "line": {
           "width": 0
          },
          "type": "rect",
          "x0": 0.5313484375270393,
          "x1": 0.597373118185872,
          "y0": 0.33864297945633914,
          "y1": 0.3920454027726028
         },
         {
          "fillcolor": "#b0f3fa",
          "layer": "below",
          "line": {
           "width": 0
          },
          "type": "rect",
          "x0": 0.597373118185872,
          "x1": 0.6633977988447047,
          "y0": 0.33864297945633914,
          "y1": 0.3920454027726028
         },
         {
          "fillcolor": "#adfeff",
          "layer": "below",
          "line": {
           "width": 0
          },
          "type": "rect",
          "x0": 0.6633977988447047,
          "x1": 0.7294224795035374,
          "y0": 0.33864297945633914,
          "y1": 0.3920454027726028
         },
         {
          "fillcolor": "#a9ffff",
          "layer": "below",
          "line": {
           "width": 0
          },
          "type": "rect",
          "x0": 0.7294224795035374,
          "x1": 0.7954471601623704,
          "y0": 0.33864297945633914,
          "y1": 0.3920454027726028
         },
         {
          "fillcolor": "#ff0000",
          "layer": "below",
          "line": {
           "width": 0
          },
          "type": "rect",
          "x0": -0.8551698563084486,
          "x1": -0.7891451756496158,
          "y0": 0.3920454027726028,
          "y1": 0.44544782608886635
         },
         {
          "fillcolor": "#ff0000",
          "layer": "below",
          "line": {
           "width": 0
          },
          "type": "rect",
          "x0": -0.7891451756496158,
          "x1": -0.723120494990783,
          "y0": 0.3920454027726028,
          "y1": 0.44544782608886635
         },
         {
          "fillcolor": "#fd0b00",
          "layer": "below",
          "line": {
           "width": 0
          },
          "type": "rect",
          "x0": -0.723120494990783,
          "x1": -0.6570958143319503,
          "y0": 0.3920454027726028,
          "y1": 0.44544782608886635
         },
         {
          "fillcolor": "#fa170a",
          "layer": "below",
          "line": {
           "width": 0
          },
          "type": "rect",
          "x0": -0.6570958143319503,
          "x1": -0.5910711336731176,
          "y0": 0.3920454027726028,
          "y1": 0.44544782608886635
         },
         {
          "fillcolor": "#f62317",
          "layer": "below",
          "line": {
           "width": 0
          },
          "type": "rect",
          "x0": -0.5910711336731176,
          "x1": -0.5250464530142848,
          "y0": 0.3920454027726028,
          "y1": 0.44544782608886635
         },
         {
          "fillcolor": "#f32f24",
          "layer": "below",
          "line": {
           "width": 0
          },
          "type": "rect",
          "x0": -0.5250464530142848,
          "x1": -0.45902177235545205,
          "y0": 0.3920454027726028,
          "y1": 0.44544782608886635
         },
         {
          "fillcolor": "#f03a30",
          "layer": "below",
          "line": {
           "width": 0
          },
          "type": "rect",
          "x0": -0.45902177235545205,
          "x1": -0.3929970916966193,
          "y0": 0.3920454027726028,
          "y1": 0.44544782608886635
         },
         {
          "fillcolor": "#ed463d",
          "layer": "below",
          "line": {
           "width": 0
          },
          "type": "rect",
          "x0": -0.3929970916966193,
          "x1": -0.3269724110377865,
          "y0": 0.3920454027726028,
          "y1": 0.44544782608886635
         },
         {
          "fillcolor": "#ea5249",
          "layer": "below",
          "line": {
           "width": 0
          },
          "type": "rect",
          "x0": -0.3269724110377865,
          "x1": -0.2609477303789538,
          "y0": 0.3920454027726028,
          "y1": 0.44544782608886635
         },
         {
          "fillcolor": "#e75e56",
          "layer": "below",
          "line": {
           "width": 0
          },
          "type": "rect",
          "x0": -0.2609477303789538,
          "x1": -0.19492304972012098,
          "y0": 0.3920454027726028,
          "y1": 0.44544782608886635
         },
         {
          "fillcolor": "#e36963",
          "layer": "below",
          "line": {
           "width": 0
          },
          "type": "rect",
          "x0": -0.19492304972012098,
          "x1": -0.12889836906128826,
          "y0": 0.3920454027726028,
          "y1": 0.44544782608886635
         },
         {
          "fillcolor": "#e0756f",
          "layer": "below",
          "line": {
           "width": 0
          },
          "type": "rect",
          "x0": -0.12889836906128826,
          "x1": -0.06287368840245555,
          "y0": 0.3920454027726028,
          "y1": 0.44544782608886635
         },
         {
          "fillcolor": "#dd817c",
          "layer": "below",
          "line": {
           "width": 0
          },
          "type": "rect",
          "x0": -0.06287368840245555,
          "x1": 0.003150992256377272,
          "y0": 0.3920454027726028,
          "y1": 0.44544782608886635
         },
         {
          "fillcolor": "#da8d89",
          "layer": "below",
          "line": {
           "width": 0
          },
          "type": "rect",
          "x0": 0.003150992256377272,
          "x1": 0.06917567291520998,
          "y0": 0.3920454027726028,
          "y1": 0.44544782608886635
         },
         {
          "fillcolor": "#d79895",
          "layer": "below",
          "line": {
           "width": 0
          },
          "type": "rect",
          "x0": 0.06917567291520998,
          "x1": 0.1352003535740428,
          "y0": 0.3920454027726028,
          "y1": 0.44544782608886635
         },
         {
          "fillcolor": "#d4a4a2",
          "layer": "below",
          "line": {
           "width": 0
          },
          "type": "rect",
          "x0": 0.1352003535740428,
          "x1": 0.20122503423287552,
          "y0": 0.3920454027726028,
          "y1": 0.44544782608886635
         },
         {
          "fillcolor": "#d0b0af",
          "layer": "below",
          "line": {
           "width": 0
          },
          "type": "rect",
          "x0": 0.20122503423287552,
          "x1": 0.26724971489170823,
          "y0": 0.3920454027726028,
          "y1": 0.44544782608886635
         },
         {
          "fillcolor": "#cdbcbb",
          "layer": "below",
          "line": {
           "width": 0
          },
          "type": "rect",
          "x0": 0.26724971489170823,
          "x1": 0.33327439555054095,
          "y0": 0.3920454027726028,
          "y1": 0.44544782608886635
         },
         {
          "fillcolor": "#cac7c8",
          "layer": "below",
          "line": {
           "width": 0
          },
          "type": "rect",
          "x0": 0.33327439555054095,
          "x1": 0.3992990762093739,
          "y0": 0.3920454027726028,
          "y1": 0.44544782608886635
         },
         {
          "fillcolor": "#c7d3d4",
          "layer": "below",
          "line": {
           "width": 0
          },
          "type": "rect",
          "x0": 0.3992990762093739,
          "x1": 0.4653237568682066,
          "y0": 0.3920454027726028,
          "y1": 0.44544782608886635
         },
         {
          "fillcolor": "#c4dfe1",
          "layer": "below",
          "line": {
           "width": 0
          },
          "type": "rect",
          "x0": 0.4653237568682066,
          "x1": 0.5313484375270393,
          "y0": 0.3920454027726028,
          "y1": 0.44544782608886635
         },
         {
          "fillcolor": "#c1ebee",
          "layer": "below",
          "line": {
           "width": 0
          },
          "type": "rect",
          "x0": 0.5313484375270393,
          "x1": 0.597373118185872,
          "y0": 0.3920454027726028,
          "y1": 0.44544782608886635
         },
         {
          "fillcolor": "#bdf6fa",
          "layer": "below",
          "line": {
           "width": 0
          },
          "type": "rect",
          "x0": 0.597373118185872,
          "x1": 0.6633977988447047,
          "y0": 0.3920454027726028,
          "y1": 0.44544782608886635
         },
         {
          "fillcolor": "#baffff",
          "layer": "below",
          "line": {
           "width": 0
          },
          "type": "rect",
          "x0": 0.6633977988447047,
          "x1": 0.7294224795035374,
          "y0": 0.3920454027726028,
          "y1": 0.44544782608886635
         },
         {
          "fillcolor": "#b7ffff",
          "layer": "below",
          "line": {
           "width": 0
          },
          "type": "rect",
          "x0": 0.7294224795035374,
          "x1": 0.7954471601623704,
          "y0": 0.3920454027726028,
          "y1": 0.44544782608886635
         },
         {
          "fillcolor": "#ff0000",
          "layer": "below",
          "line": {
           "width": 0
          },
          "type": "rect",
          "x0": -0.8551698563084486,
          "x1": -0.7891451756496158,
          "y0": 0.44544782608886635,
          "y1": 0.4988502494051301
         },
         {
          "fillcolor": "#ff0400",
          "layer": "below",
          "line": {
           "width": 0
          },
          "type": "rect",
          "x0": -0.7891451756496158,
          "x1": -0.723120494990783,
          "y0": 0.44544782608886635,
          "y1": 0.4988502494051301
         },
         {
          "fillcolor": "#ff0f00",
          "layer": "below",
          "line": {
           "width": 0
          },
          "type": "rect",
          "x0": -0.723120494990783,
          "x1": -0.6570958143319503,
          "y0": 0.44544782608886635,
          "y1": 0.4988502494051301
         },
         {
          "fillcolor": "#ff1b0a",
          "layer": "below",
          "line": {
           "width": 0
          },
          "type": "rect",
          "x0": -0.6570958143319503,
          "x1": -0.5910711336731176,
          "y0": 0.44544782608886635,
          "y1": 0.4988502494051301
         },
         {
          "fillcolor": "#ff2717",
          "layer": "below",
          "line": {
           "width": 0
          },
          "type": "rect",
          "x0": -0.5910711336731176,
          "x1": -0.5250464530142848,
          "y0": 0.44544782608886635,
          "y1": 0.4988502494051301
         },
         {
          "fillcolor": "#ff3323",
          "layer": "below",
          "line": {
           "width": 0
          },
          "type": "rect",
          "x0": -0.5250464530142848,
          "x1": -0.45902177235545205,
          "y0": 0.44544782608886635,
          "y1": 0.4988502494051301
         },
         {
          "fillcolor": "#fe3e30",
          "layer": "below",
          "line": {
           "width": 0
          },
          "type": "rect",
          "x0": -0.45902177235545205,
          "x1": -0.3929970916966193,
          "y0": 0.44544782608886635,
          "y1": 0.4988502494051301
         },
         {
          "fillcolor": "#fb4a3d",
          "layer": "below",
          "line": {
           "width": 0
          },
          "type": "rect",
          "x0": -0.3929970916966193,
          "x1": -0.3269724110377865,
          "y0": 0.44544782608886635,
          "y1": 0.4988502494051301
         },
         {
          "fillcolor": "#f75649",
          "layer": "below",
          "line": {
           "width": 0
          },
          "type": "rect",
          "x0": -0.3269724110377865,
          "x1": -0.2609477303789538,
          "y0": 0.44544782608886635,
          "y1": 0.4988502494051301
         },
         {
          "fillcolor": "#f46156",
          "layer": "below",
          "line": {
           "width": 0
          },
          "type": "rect",
          "x0": -0.2609477303789538,
          "x1": -0.19492304972012098,
          "y0": 0.44544782608886635,
          "y1": 0.4988502494051301
         },
         {
          "fillcolor": "#f16d63",
          "layer": "below",
          "line": {
           "width": 0
          },
          "type": "rect",
          "x0": -0.19492304972012098,
          "x1": -0.12889836906128826,
          "y0": 0.44544782608886635,
          "y1": 0.4988502494051301
         },
         {
          "fillcolor": "#ee796f",
          "layer": "below",
          "line": {
           "width": 0
          },
          "type": "rect",
          "x0": -0.12889836906128826,
          "x1": -0.06287368840245555,
          "y0": 0.44544782608886635,
          "y1": 0.4988502494051301
         },
         {
          "fillcolor": "#eb857c",
          "layer": "below",
          "line": {
           "width": 0
          },
          "type": "rect",
          "x0": -0.06287368840245555,
          "x1": 0.003150992256377272,
          "y0": 0.44544782608886635,
          "y1": 0.4988502494051301
         },
         {
          "fillcolor": "#e89089",
          "layer": "below",
          "line": {
           "width": 0
          },
          "type": "rect",
          "x0": 0.003150992256377272,
          "x1": 0.06917567291520998,
          "y0": 0.44544782608886635,
          "y1": 0.4988502494051301
         },
         {
          "fillcolor": "#e49c95",
          "layer": "below",
          "line": {
           "width": 0
          },
          "type": "rect",
          "x0": 0.06917567291520998,
          "x1": 0.1352003535740428,
          "y0": 0.44544782608886635,
          "y1": 0.4988502494051301
         },
         {
          "fillcolor": "#e1a8a2",
          "layer": "below",
          "line": {
           "width": 0
          },
          "type": "rect",
          "x0": 0.1352003535740428,
          "x1": 0.20122503423287552,
          "y0": 0.44544782608886635,
          "y1": 0.4988502494051301
         },
         {
          "fillcolor": "#deb4ae",
          "layer": "below",
          "line": {
           "width": 0
          },
          "type": "rect",
          "x0": 0.20122503423287552,
          "x1": 0.26724971489170823,
          "y0": 0.44544782608886635,
          "y1": 0.4988502494051301
         },
         {
          "fillcolor": "#dbbfbb",
          "layer": "below",
          "line": {
           "width": 0
          },
          "type": "rect",
          "x0": 0.26724971489170823,
          "x1": 0.33327439555054095,
          "y0": 0.44544782608886635,
          "y1": 0.4988502494051301
         },
         {
          "fillcolor": "#d8cbc8",
          "layer": "below",
          "line": {
           "width": 0
          },
          "type": "rect",
          "x0": 0.33327439555054095,
          "x1": 0.3992990762093739,
          "y0": 0.44544782608886635,
          "y1": 0.4988502494051301
         },
         {
          "fillcolor": "#d5d7d4",
          "layer": "below",
          "line": {
           "width": 0
          },
          "type": "rect",
          "x0": 0.3992990762093739,
          "x1": 0.4653237568682066,
          "y0": 0.44544782608886635,
          "y1": 0.4988502494051301
         },
         {
          "fillcolor": "#d1e3e1",
          "layer": "below",
          "line": {
           "width": 0
          },
          "type": "rect",
          "x0": 0.4653237568682066,
          "x1": 0.5313484375270393,
          "y0": 0.44544782608886635,
          "y1": 0.4988502494051301
         },
         {
          "fillcolor": "#ceeeee",
          "layer": "below",
          "line": {
           "width": 0
          },
          "type": "rect",
          "x0": 0.5313484375270393,
          "x1": 0.597373118185872,
          "y0": 0.44544782608886635,
          "y1": 0.4988502494051301
         },
         {
          "fillcolor": "#cbfafa",
          "layer": "below",
          "line": {
           "width": 0
          },
          "type": "rect",
          "x0": 0.597373118185872,
          "x1": 0.6633977988447047,
          "y0": 0.44544782608886635,
          "y1": 0.4988502494051301
         },
         {
          "fillcolor": "#c8ffff",
          "layer": "below",
          "line": {
           "width": 0
          },
          "type": "rect",
          "x0": 0.6633977988447047,
          "x1": 0.7294224795035374,
          "y0": 0.44544782608886635,
          "y1": 0.4988502494051301
         },
         {
          "fillcolor": "#c5ffff",
          "layer": "below",
          "line": {
           "width": 0
          },
          "type": "rect",
          "x0": 0.7294224795035374,
          "x1": 0.7954471601623704,
          "y0": 0.44544782608886635,
          "y1": 0.4988502494051301
         },
         {
          "fillcolor": "#ff0000",
          "layer": "below",
          "line": {
           "width": 0
          },
          "type": "rect",
          "x0": -0.8551698563084486,
          "x1": -0.7891451756496158,
          "y0": 0.4988502494051301,
          "y1": 0.5522526727213937
         },
         {
          "fillcolor": "#ff0700",
          "layer": "below",
          "line": {
           "width": 0
          },
          "type": "rect",
          "x0": -0.7891451756496158,
          "x1": -0.723120494990783,
          "y0": 0.4988502494051301,
          "y1": 0.5522526727213937
         },
         {
          "fillcolor": "#ff1300",
          "layer": "below",
          "line": {
           "width": 0
          },
          "type": "rect",
          "x0": -0.723120494990783,
          "x1": -0.6570958143319503,
          "y0": 0.4988502494051301,
          "y1": 0.5522526727213937
         },
         {
          "fillcolor": "#ff1f0a",
          "layer": "below",
          "line": {
           "width": 0
          },
          "type": "rect",
          "x0": -0.6570958143319503,
          "x1": -0.5910711336731176,
          "y0": 0.4988502494051301,
          "y1": 0.5522526727213937
         },
         {
          "fillcolor": "#ff2b17",
          "layer": "below",
          "line": {
           "width": 0
          },
          "type": "rect",
          "x0": -0.5910711336731176,
          "x1": -0.5250464530142848,
          "y0": 0.4988502494051301,
          "y1": 0.5522526727213937
         },
         {
          "fillcolor": "#ff3623",
          "layer": "below",
          "line": {
           "width": 0
          },
          "type": "rect",
          "x0": -0.5250464530142848,
          "x1": -0.45902177235545205,
          "y0": 0.4988502494051301,
          "y1": 0.5522526727213937
         },
         {
          "fillcolor": "#ff4230",
          "layer": "below",
          "line": {
           "width": 0
          },
          "type": "rect",
          "x0": -0.45902177235545205,
          "x1": -0.3929970916966193,
          "y0": 0.4988502494051301,
          "y1": 0.5522526727213937
         },
         {
          "fillcolor": "#ff4e3d",
          "layer": "below",
          "line": {
           "width": 0
          },
          "type": "rect",
          "x0": -0.3929970916966193,
          "x1": -0.3269724110377865,
          "y0": 0.4988502494051301,
          "y1": 0.5522526727213937
         },
         {
          "fillcolor": "#ff5a49",
          "layer": "below",
          "line": {
           "width": 0
          },
          "type": "rect",
          "x0": -0.3269724110377865,
          "x1": -0.2609477303789538,
          "y0": 0.4988502494051301,
          "y1": 0.5522526727213937
         },
         {
          "fillcolor": "#ff6556",
          "layer": "below",
          "line": {
           "width": 0
          },
          "type": "rect",
          "x0": -0.2609477303789538,
          "x1": -0.19492304972012098,
          "y0": 0.4988502494051301,
          "y1": 0.5522526727213937
         },
         {
          "fillcolor": "#ff7162",
          "layer": "below",
          "line": {
           "width": 0
          },
          "type": "rect",
          "x0": -0.19492304972012098,
          "x1": -0.12889836906128826,
          "y0": 0.4988502494051301,
          "y1": 0.5522526727213937
         },
         {
          "fillcolor": "#fc7d6f",
          "layer": "below",
          "line": {
           "width": 0
          },
          "type": "rect",
          "x0": -0.12889836906128826,
          "x1": -0.06287368840245555,
          "y0": 0.4988502494051301,
          "y1": 0.5522526727213937
         },
         {
          "fillcolor": "#f8897c",
          "layer": "below",
          "line": {
           "width": 0
          },
          "type": "rect",
          "x0": -0.06287368840245555,
          "x1": 0.003150992256377272,
          "y0": 0.4988502494051301,
          "y1": 0.5522526727213937
         },
         {
          "fillcolor": "#f59488",
          "layer": "below",
          "line": {
           "width": 0
          },
          "type": "rect",
          "x0": 0.003150992256377272,
          "x1": 0.06917567291520998,
          "y0": 0.4988502494051301,
          "y1": 0.5522526727213937
         },
         {
          "fillcolor": "#f2a095",
          "layer": "below",
          "line": {
           "width": 0
          },
          "type": "rect",
          "x0": 0.06917567291520998,
          "x1": 0.1352003535740428,
          "y0": 0.4988502494051301,
          "y1": 0.5522526727213937
         },
         {
          "fillcolor": "#efaca2",
          "layer": "below",
          "line": {
           "width": 0
          },
          "type": "rect",
          "x0": 0.1352003535740428,
          "x1": 0.20122503423287552,
          "y0": 0.4988502494051301,
          "y1": 0.5522526727213937
         },
         {
          "fillcolor": "#ecb7ae",
          "layer": "below",
          "line": {
           "width": 0
          },
          "type": "rect",
          "x0": 0.20122503423287552,
          "x1": 0.26724971489170823,
          "y0": 0.4988502494051301,
          "y1": 0.5522526727213937
         },
         {
          "fillcolor": "#e9c3bb",
          "layer": "below",
          "line": {
           "width": 0
          },
          "type": "rect",
          "x0": 0.26724971489170823,
          "x1": 0.33327439555054095,
          "y0": 0.4988502494051301,
          "y1": 0.5522526727213937
         },
         {
          "fillcolor": "#e5cfc8",
          "layer": "below",
          "line": {
           "width": 0
          },
          "type": "rect",
          "x0": 0.33327439555054095,
          "x1": 0.3992990762093739,
          "y0": 0.4988502494051301,
          "y1": 0.5522526727213937
         },
         {
          "fillcolor": "#e2dbd4",
          "layer": "below",
          "line": {
           "width": 0
          },
          "type": "rect",
          "x0": 0.3992990762093739,
          "x1": 0.4653237568682066,
          "y0": 0.4988502494051301,
          "y1": 0.5522526727213937
         },
         {
          "fillcolor": "#dfe6e1",
          "layer": "below",
          "line": {
           "width": 0
          },
          "type": "rect",
          "x0": 0.4653237568682066,
          "x1": 0.5313484375270393,
          "y0": 0.4988502494051301,
          "y1": 0.5522526727213937
         },
         {
          "fillcolor": "#dcf2ed",
          "layer": "below",
          "line": {
           "width": 0
          },
          "type": "rect",
          "x0": 0.5313484375270393,
          "x1": 0.597373118185872,
          "y0": 0.4988502494051301,
          "y1": 0.5522526727213937
         },
         {
          "fillcolor": "#d9fefa",
          "layer": "below",
          "line": {
           "width": 0
          },
          "type": "rect",
          "x0": 0.597373118185872,
          "x1": 0.6633977988447047,
          "y0": 0.4988502494051301,
          "y1": 0.5522526727213937
         },
         {
          "fillcolor": "#d6ffff",
          "layer": "below",
          "line": {
           "width": 0
          },
          "type": "rect",
          "x0": 0.6633977988447047,
          "x1": 0.7294224795035374,
          "y0": 0.4988502494051301,
          "y1": 0.5522526727213937
         },
         {
          "fillcolor": "#d2ffff",
          "layer": "below",
          "line": {
           "width": 0
          },
          "type": "rect",
          "x0": 0.7294224795035374,
          "x1": 0.7954471601623704,
          "y0": 0.4988502494051301,
          "y1": 0.5522526727213937
         },
         {
          "fillcolor": "#ff0000",
          "layer": "below",
          "line": {
           "width": 0
          },
          "type": "rect",
          "x0": -0.8551698563084486,
          "x1": -0.7891451756496158,
          "y0": 0.5522526727213937,
          "y1": 0.6056550960376572
         },
         {
          "fillcolor": "#ff0b00",
          "layer": "below",
          "line": {
           "width": 0
          },
          "type": "rect",
          "x0": -0.7891451756496158,
          "x1": -0.723120494990783,
          "y0": 0.5522526727213937,
          "y1": 0.6056550960376572
         },
         {
          "fillcolor": "#ff1700",
          "layer": "below",
          "line": {
           "width": 0
          },
          "type": "rect",
          "x0": -0.723120494990783,
          "x1": -0.6570958143319503,
          "y0": 0.5522526727213937,
          "y1": 0.6056550960376572
         },
         {
          "fillcolor": "#ff230a",
          "layer": "below",
          "line": {
           "width": 0
          },
          "type": "rect",
          "x0": -0.6570958143319503,
          "x1": -0.5910711336731176,
          "y0": 0.5522526727213937,
          "y1": 0.6056550960376572
         },
         {
          "fillcolor": "#ff2e17",
          "layer": "below",
          "line": {
           "width": 0
          },
          "type": "rect",
          "x0": -0.5910711336731176,
          "x1": -0.5250464530142848,
          "y0": 0.5522526727213937,
          "y1": 0.6056550960376572
         },
         {
          "fillcolor": "#ff3a23",
          "layer": "below",
          "line": {
           "width": 0
          },
          "type": "rect",
          "x0": -0.5250464530142848,
          "x1": -0.45902177235545205,
          "y0": 0.5522526727213937,
          "y1": 0.6056550960376572
         },
         {
          "fillcolor": "#ff4630",
          "layer": "below",
          "line": {
           "width": 0
          },
          "type": "rect",
          "x0": -0.45902177235545205,
          "x1": -0.3929970916966193,
          "y0": 0.5522526727213937,
          "y1": 0.6056550960376572
         },
         {
          "fillcolor": "#ff523c",
          "layer": "below",
          "line": {
           "width": 0
          },
          "type": "rect",
          "x0": -0.3929970916966193,
          "x1": -0.3269724110377865,
          "y0": 0.5522526727213937,
          "y1": 0.6056550960376572
         },
         {
          "fillcolor": "#ff5d49",
          "layer": "below",
          "line": {
           "width": 0
          },
          "type": "rect",
          "x0": -0.3269724110377865,
          "x1": -0.2609477303789538,
          "y0": 0.5522526727213937,
          "y1": 0.6056550960376572
         },
         {
          "fillcolor": "#ff6956",
          "layer": "below",
          "line": {
           "width": 0
          },
          "type": "rect",
          "x0": -0.2609477303789538,
          "x1": -0.19492304972012098,
          "y0": 0.5522526727213937,
          "y1": 0.6056550960376572
         },
         {
          "fillcolor": "#ff7562",
          "layer": "below",
          "line": {
           "width": 0
          },
          "type": "rect",
          "x0": -0.19492304972012098,
          "x1": -0.12889836906128826,
          "y0": 0.5522526727213937,
          "y1": 0.6056550960376572
         },
         {
          "fillcolor": "#ff816f",
          "layer": "below",
          "line": {
           "width": 0
          },
          "type": "rect",
          "x0": -0.12889836906128826,
          "x1": -0.06287368840245555,
          "y0": 0.5522526727213937,
          "y1": 0.6056550960376572
         },
         {
          "fillcolor": "#ff8c7c",
          "layer": "below",
          "line": {
           "width": 0
          },
          "type": "rect",
          "x0": -0.06287368840245555,
          "x1": 0.003150992256377272,
          "y0": 0.5522526727213937,
          "y1": 0.6056550960376572
         },
         {
          "fillcolor": "#ff9888",
          "layer": "below",
          "line": {
           "width": 0
          },
          "type": "rect",
          "x0": 0.003150992256377272,
          "x1": 0.06917567291520998,
          "y0": 0.5522526727213937,
          "y1": 0.6056550960376572
         },
         {
          "fillcolor": "#ffa495",
          "layer": "below",
          "line": {
           "width": 0
          },
          "type": "rect",
          "x0": 0.06917567291520998,
          "x1": 0.1352003535740428,
          "y0": 0.5522526727213937,
          "y1": 0.6056550960376572
         },
         {
          "fillcolor": "#fdb0a2",
          "layer": "below",
          "line": {
           "width": 0
          },
          "type": "rect",
          "x0": 0.1352003535740428,
          "x1": 0.20122503423287552,
          "y0": 0.5522526727213937,
          "y1": 0.6056550960376572
         },
         {
          "fillcolor": "#f9bbae",
          "layer": "below",
          "line": {
           "width": 0
          },
          "type": "rect",
          "x0": 0.20122503423287552,
          "x1": 0.26724971489170823,
          "y0": 0.5522526727213937,
          "y1": 0.6056550960376572
         },
         {
          "fillcolor": "#f6c7bb",
          "layer": "below",
          "line": {
           "width": 0
          },
          "type": "rect",
          "x0": 0.26724971489170823,
          "x1": 0.33327439555054095,
          "y0": 0.5522526727213937,
          "y1": 0.6056550960376572
         },
         {
          "fillcolor": "#f3d3c7",
          "layer": "below",
          "line": {
           "width": 0
          },
          "type": "rect",
          "x0": 0.33327439555054095,
          "x1": 0.3992990762093739,
          "y0": 0.5522526727213937,
          "y1": 0.6056550960376572
         },
         {
          "fillcolor": "#f0dfd4",
          "layer": "below",
          "line": {
           "width": 0
          },
          "type": "rect",
          "x0": 0.3992990762093739,
          "x1": 0.4653237568682066,
          "y0": 0.5522526727213937,
          "y1": 0.6056550960376572
         },
         {
          "fillcolor": "#edeae1",
          "layer": "below",
          "line": {
           "width": 0
          },
          "type": "rect",
          "x0": 0.4653237568682066,
          "x1": 0.5313484375270393,
          "y0": 0.5522526727213937,
          "y1": 0.6056550960376572
         },
         {
          "fillcolor": "#eaf6ed",
          "layer": "below",
          "line": {
           "width": 0
          },
          "type": "rect",
          "x0": 0.5313484375270393,
          "x1": 0.597373118185872,
          "y0": 0.5522526727213937,
          "y1": 0.6056550960376572
         },
         {
          "fillcolor": "#e6fffa",
          "layer": "below",
          "line": {
           "width": 0
          },
          "type": "rect",
          "x0": 0.597373118185872,
          "x1": 0.6633977988447047,
          "y0": 0.5522526727213937,
          "y1": 0.6056550960376572
         },
         {
          "fillcolor": "#e3ffff",
          "layer": "below",
          "line": {
           "width": 0
          },
          "type": "rect",
          "x0": 0.6633977988447047,
          "x1": 0.7294224795035374,
          "y0": 0.5522526727213937,
          "y1": 0.6056550960376572
         },
         {
          "fillcolor": "#e0ffff",
          "layer": "below",
          "line": {
           "width": 0
          },
          "type": "rect",
          "x0": 0.7294224795035374,
          "x1": 0.7954471601623704,
          "y0": 0.5522526727213937,
          "y1": 0.6056550960376572
         },
         {
          "fillcolor": "#ff0300",
          "layer": "below",
          "line": {
           "width": 0
          },
          "type": "rect",
          "x0": -0.8551698563084486,
          "x1": -0.7891451756496158,
          "y0": 0.6056550960376572,
          "y1": 0.659057519353921
         },
         {
          "fillcolor": "#ff0f00",
          "layer": "below",
          "line": {
           "width": 0
          },
          "type": "rect",
          "x0": -0.7891451756496158,
          "x1": -0.723120494990783,
          "y0": 0.6056550960376572,
          "y1": 0.659057519353921
         },
         {
          "fillcolor": "#ff1b00",
          "layer": "below",
          "line": {
           "width": 0
          },
          "type": "rect",
          "x0": -0.723120494990783,
          "x1": -0.6570958143319503,
          "y0": 0.6056550960376572,
          "y1": 0.659057519353921
         },
         {
          "fillcolor": "#ff260a",
          "layer": "below",
          "line": {
           "width": 0
          },
          "type": "rect",
          "x0": -0.6570958143319503,
          "x1": -0.5910711336731176,
          "y0": 0.6056550960376572,
          "y1": 0.659057519353921
         },
         {
          "fillcolor": "#ff3216",
          "layer": "below",
          "line": {
           "width": 0
          },
          "type": "rect",
          "x0": -0.5910711336731176,
          "x1": -0.5250464530142848,
          "y0": 0.6056550960376572,
          "y1": 0.659057519353921
         },
         {
          "fillcolor": "#ff3e23",
          "layer": "below",
          "line": {
           "width": 0
          },
          "type": "rect",
          "x0": -0.5250464530142848,
          "x1": -0.45902177235545205,
          "y0": 0.6056550960376572,
          "y1": 0.659057519353921
         },
         {
          "fillcolor": "#ff4a30",
          "layer": "below",
          "line": {
           "width": 0
          },
          "type": "rect",
          "x0": -0.45902177235545205,
          "x1": -0.3929970916966193,
          "y0": 0.6056550960376572,
          "y1": 0.659057519353921
         },
         {
          "fillcolor": "#ff553c",
          "layer": "below",
          "line": {
           "width": 0
          },
          "type": "rect",
          "x0": -0.3929970916966193,
          "x1": -0.3269724110377865,
          "y0": 0.6056550960376572,
          "y1": 0.659057519353921
         },
         {
          "fillcolor": "#ff6149",
          "layer": "below",
          "line": {
           "width": 0
          },
          "type": "rect",
          "x0": -0.3269724110377865,
          "x1": -0.2609477303789538,
          "y0": 0.6056550960376572,
          "y1": 0.659057519353921
         },
         {
          "fillcolor": "#ff6d56",
          "layer": "below",
          "line": {
           "width": 0
          },
          "type": "rect",
          "x0": -0.2609477303789538,
          "x1": -0.19492304972012098,
          "y0": 0.6056550960376572,
          "y1": 0.659057519353921
         },
         {
          "fillcolor": "#ff7962",
          "layer": "below",
          "line": {
           "width": 0
          },
          "type": "rect",
          "x0": -0.19492304972012098,
          "x1": -0.12889836906128826,
          "y0": 0.6056550960376572,
          "y1": 0.659057519353921
         },
         {
          "fillcolor": "#ff846f",
          "layer": "below",
          "line": {
           "width": 0
          },
          "type": "rect",
          "x0": -0.12889836906128826,
          "x1": -0.06287368840245555,
          "y0": 0.6056550960376572,
          "y1": 0.659057519353921
         },
         {
          "fillcolor": "#ff907c",
          "layer": "below",
          "line": {
           "width": 0
          },
          "type": "rect",
          "x0": -0.06287368840245555,
          "x1": 0.003150992256377272,
          "y0": 0.6056550960376572,
          "y1": 0.659057519353921
         },
         {
          "fillcolor": "#ff9c88",
          "layer": "below",
          "line": {
           "width": 0
          },
          "type": "rect",
          "x0": 0.003150992256377272,
          "x1": 0.06917567291520998,
          "y0": 0.6056550960376572,
          "y1": 0.659057519353921
         },
         {
          "fillcolor": "#ffa895",
          "layer": "below",
          "line": {
           "width": 0
          },
          "type": "rect",
          "x0": 0.06917567291520998,
          "x1": 0.1352003535740428,
          "y0": 0.6056550960376572,
          "y1": 0.659057519353921
         },
         {
          "fillcolor": "#ffb3a1",
          "layer": "below",
          "line": {
           "width": 0
          },
          "type": "rect",
          "x0": 0.1352003535740428,
          "x1": 0.20122503423287552,
          "y0": 0.6056550960376572,
          "y1": 0.659057519353921
         },
         {
          "fillcolor": "#ffbfae",
          "layer": "below",
          "line": {
           "width": 0
          },
          "type": "rect",
          "x0": 0.20122503423287552,
          "x1": 0.26724971489170823,
          "y0": 0.6056550960376572,
          "y1": 0.659057519353921
         },
         {
          "fillcolor": "#ffcbbb",
          "layer": "below",
          "line": {
           "width": 0
          },
          "type": "rect",
          "x0": 0.26724971489170823,
          "x1": 0.33327439555054095,
          "y0": 0.6056550960376572,
          "y1": 0.659057519353921
         },
         {
          "fillcolor": "#ffd7c7",
          "layer": "below",
          "line": {
           "width": 0
          },
          "type": "rect",
          "x0": 0.33327439555054095,
          "x1": 0.3992990762093739,
          "y0": 0.6056550960376572,
          "y1": 0.659057519353921
         },
         {
          "fillcolor": "#fee2d4",
          "layer": "below",
          "line": {
           "width": 0
          },
          "type": "rect",
          "x0": 0.3992990762093739,
          "x1": 0.4653237568682066,
          "y0": 0.6056550960376572,
          "y1": 0.659057519353921
         },
         {
          "fillcolor": "#faeee1",
          "layer": "below",
          "line": {
           "width": 0
          },
          "type": "rect",
          "x0": 0.4653237568682066,
          "x1": 0.5313484375270393,
          "y0": 0.6056550960376572,
          "y1": 0.659057519353921
         },
         {
          "fillcolor": "#f7faed",
          "layer": "below",
          "line": {
           "width": 0
          },
          "type": "rect",
          "x0": 0.5313484375270393,
          "x1": 0.597373118185872,
          "y0": 0.6056550960376572,
          "y1": 0.659057519353921
         },
         {
          "fillcolor": "#f4fffa",
          "layer": "below",
          "line": {
           "width": 0
          },
          "type": "rect",
          "x0": 0.597373118185872,
          "x1": 0.6633977988447047,
          "y0": 0.6056550960376572,
          "y1": 0.659057519353921
         },
         {
          "fillcolor": "#f1ffff",
          "layer": "below",
          "line": {
           "width": 0
          },
          "type": "rect",
          "x0": 0.6633977988447047,
          "x1": 0.7294224795035374,
          "y0": 0.6056550960376572,
          "y1": 0.659057519353921
         },
         {
          "fillcolor": "#eeffff",
          "layer": "below",
          "line": {
           "width": 0
          },
          "type": "rect",
          "x0": 0.7294224795035374,
          "x1": 0.7954471601623704,
          "y0": 0.6056550960376572,
          "y1": 0.659057519353921
         },
         {
          "fillcolor": "#ff0700",
          "layer": "below",
          "line": {
           "width": 0
          },
          "type": "rect",
          "x0": -0.8551698563084486,
          "x1": -0.7891451756496158,
          "y0": 0.659057519353921,
          "y1": 0.7124599426701845
         },
         {
          "fillcolor": "#ff1300",
          "layer": "below",
          "line": {
           "width": 0
          },
          "type": "rect",
          "x0": -0.7891451756496158,
          "x1": -0.723120494990783,
          "y0": 0.659057519353921,
          "y1": 0.7124599426701845
         },
         {
          "fillcolor": "#ff1f00",
          "layer": "below",
          "line": {
           "width": 0
          },
          "type": "rect",
          "x0": -0.723120494990783,
          "x1": -0.6570958143319503,
          "y0": 0.659057519353921,
          "y1": 0.7124599426701845
         },
         {
          "fillcolor": "#ff2a0a",
          "layer": "below",
          "line": {
           "width": 0
          },
          "type": "rect",
          "x0": -0.6570958143319503,
          "x1": -0.5910711336731176,
          "y0": 0.659057519353921,
          "y1": 0.7124599426701845
         },
         {
          "fillcolor": "#ff3616",
          "layer": "below",
          "line": {
           "width": 0
          },
          "type": "rect",
          "x0": -0.5910711336731176,
          "x1": -0.5250464530142848,
          "y0": 0.659057519353921,
          "y1": 0.7124599426701845
         },
         {
          "fillcolor": "#ff4223",
          "layer": "below",
          "line": {
           "width": 0
          },
          "type": "rect",
          "x0": -0.5250464530142848,
          "x1": -0.45902177235545205,
          "y0": 0.659057519353921,
          "y1": 0.7124599426701845
         },
         {
          "fillcolor": "#ff4e30",
          "layer": "below",
          "line": {
           "width": 0
          },
          "type": "rect",
          "x0": -0.45902177235545205,
          "x1": -0.3929970916966193,
          "y0": 0.659057519353921,
          "y1": 0.7124599426701845
         },
         {
          "fillcolor": "#ff593c",
          "layer": "below",
          "line": {
           "width": 0
          },
          "type": "rect",
          "x0": -0.3929970916966193,
          "x1": -0.3269724110377865,
          "y0": 0.659057519353921,
          "y1": 0.7124599426701845
         },
         {
          "fillcolor": "#ff6549",
          "layer": "below",
          "line": {
           "width": 0
          },
          "type": "rect",
          "x0": -0.3269724110377865,
          "x1": -0.2609477303789538,
          "y0": 0.659057519353921,
          "y1": 0.7124599426701845
         },
         {
          "fillcolor": "#ff7155",
          "layer": "below",
          "line": {
           "width": 0
          },
          "type": "rect",
          "x0": -0.2609477303789538,
          "x1": -0.19492304972012098,
          "y0": 0.659057519353921,
          "y1": 0.7124599426701845
         },
         {
          "fillcolor": "#ff7c62",
          "layer": "below",
          "line": {
           "width": 0
          },
          "type": "rect",
          "x0": -0.19492304972012098,
          "x1": -0.12889836906128826,
          "y0": 0.659057519353921,
          "y1": 0.7124599426701845
         },
         {
          "fillcolor": "#ff886f",
          "layer": "below",
          "line": {
           "width": 0
          },
          "type": "rect",
          "x0": -0.12889836906128826,
          "x1": -0.06287368840245555,
          "y0": 0.659057519353921,
          "y1": 0.7124599426701845
         },
         {
          "fillcolor": "#ff947b",
          "layer": "below",
          "line": {
           "width": 0
          },
          "type": "rect",
          "x0": -0.06287368840245555,
          "x1": 0.003150992256377272,
          "y0": 0.659057519353921,
          "y1": 0.7124599426701845
         },
         {
          "fillcolor": "#ffa088",
          "layer": "below",
          "line": {
           "width": 0
          },
          "type": "rect",
          "x0": 0.003150992256377272,
          "x1": 0.06917567291520998,
          "y0": 0.659057519353921,
          "y1": 0.7124599426701845
         },
         {
          "fillcolor": "#ffab95",
          "layer": "below",
          "line": {
           "width": 0
          },
          "type": "rect",
          "x0": 0.06917567291520998,
          "x1": 0.1352003535740428,
          "y0": 0.659057519353921,
          "y1": 0.7124599426701845
         },
         {
          "fillcolor": "#ffb7a1",
          "layer": "below",
          "line": {
           "width": 0
          },
          "type": "rect",
          "x0": 0.1352003535740428,
          "x1": 0.20122503423287552,
          "y0": 0.659057519353921,
          "y1": 0.7124599426701845
         },
         {
          "fillcolor": "#ffc3ae",
          "layer": "below",
          "line": {
           "width": 0
          },
          "type": "rect",
          "x0": 0.20122503423287552,
          "x1": 0.26724971489170823,
          "y0": 0.659057519353921,
          "y1": 0.7124599426701845
         },
         {
          "fillcolor": "#ffcfbb",
          "layer": "below",
          "line": {
           "width": 0
          },
          "type": "rect",
          "x0": 0.26724971489170823,
          "x1": 0.33327439555054095,
          "y0": 0.659057519353921,
          "y1": 0.7124599426701845
         },
         {
          "fillcolor": "#ffdac7",
          "layer": "below",
          "line": {
           "width": 0
          },
          "type": "rect",
          "x0": 0.33327439555054095,
          "x1": 0.3992990762093739,
          "y0": 0.659057519353921,
          "y1": 0.7124599426701845
         },
         {
          "fillcolor": "#ffe6d4",
          "layer": "below",
          "line": {
           "width": 0
          },
          "type": "rect",
          "x0": 0.3992990762093739,
          "x1": 0.4653237568682066,
          "y0": 0.659057519353921,
          "y1": 0.7124599426701845
         },
         {
          "fillcolor": "#fff2e0",
          "layer": "below",
          "line": {
           "width": 0
          },
          "type": "rect",
          "x0": 0.4653237568682066,
          "x1": 0.5313484375270393,
          "y0": 0.659057519353921,
          "y1": 0.7124599426701845
         },
         {
          "fillcolor": "#fffeed",
          "layer": "below",
          "line": {
           "width": 0
          },
          "type": "rect",
          "x0": 0.5313484375270393,
          "x1": 0.597373118185872,
          "y0": 0.659057519353921,
          "y1": 0.7124599426701845
         },
         {
          "fillcolor": "#fffffa",
          "layer": "below",
          "line": {
           "width": 0
          },
          "type": "rect",
          "x0": 0.597373118185872,
          "x1": 0.6633977988447047,
          "y0": 0.659057519353921,
          "y1": 0.7124599426701845
         },
         {
          "fillcolor": "#ffffff",
          "layer": "below",
          "line": {
           "width": 0
          },
          "type": "rect",
          "x0": 0.6633977988447047,
          "x1": 0.7294224795035374,
          "y0": 0.659057519353921,
          "y1": 0.7124599426701845
         },
         {
          "fillcolor": "#fbffff",
          "layer": "below",
          "line": {
           "width": 0
          },
          "type": "rect",
          "x0": 0.7294224795035374,
          "x1": 0.7954471601623704,
          "y0": 0.659057519353921,
          "y1": 0.7124599426701845
         }
        ],
        "showlegend": false,
        "template": {
         "data": {
          "bar": [
           {
            "error_x": {
             "color": "#2a3f5f"
            },
            "error_y": {
             "color": "#2a3f5f"
            },
            "marker": {
             "line": {
              "color": "#E5ECF6",
              "width": 0.5
             },
             "pattern": {
              "fillmode": "overlay",
              "size": 10,
              "solidity": 0.2
             }
            },
            "type": "bar"
           }
          ],
          "barpolar": [
           {
            "marker": {
             "line": {
              "color": "#E5ECF6",
              "width": 0.5
             },
             "pattern": {
              "fillmode": "overlay",
              "size": 10,
              "solidity": 0.2
             }
            },
            "type": "barpolar"
           }
          ],
          "carpet": [
           {
            "aaxis": {
             "endlinecolor": "#2a3f5f",
             "gridcolor": "white",
             "linecolor": "white",
             "minorgridcolor": "white",
             "startlinecolor": "#2a3f5f"
            },
            "baxis": {
             "endlinecolor": "#2a3f5f",
             "gridcolor": "white",
             "linecolor": "white",
             "minorgridcolor": "white",
             "startlinecolor": "#2a3f5f"
            },
            "type": "carpet"
           }
          ],
          "choropleth": [
           {
            "colorbar": {
             "outlinewidth": 0,
             "ticks": ""
            },
            "type": "choropleth"
           }
          ],
          "contour": [
           {
            "colorbar": {
             "outlinewidth": 0,
             "ticks": ""
            },
            "colorscale": [
             [
              0,
              "#0d0887"
             ],
             [
              0.1111111111111111,
              "#46039f"
             ],
             [
              0.2222222222222222,
              "#7201a8"
             ],
             [
              0.3333333333333333,
              "#9c179e"
             ],
             [
              0.4444444444444444,
              "#bd3786"
             ],
             [
              0.5555555555555556,
              "#d8576b"
             ],
             [
              0.6666666666666666,
              "#ed7953"
             ],
             [
              0.7777777777777778,
              "#fb9f3a"
             ],
             [
              0.8888888888888888,
              "#fdca26"
             ],
             [
              1,
              "#f0f921"
             ]
            ],
            "type": "contour"
           }
          ],
          "contourcarpet": [
           {
            "colorbar": {
             "outlinewidth": 0,
             "ticks": ""
            },
            "type": "contourcarpet"
           }
          ],
          "heatmap": [
           {
            "colorbar": {
             "outlinewidth": 0,
             "ticks": ""
            },
            "colorscale": [
             [
              0,
              "#0d0887"
             ],
             [
              0.1111111111111111,
              "#46039f"
             ],
             [
              0.2222222222222222,
              "#7201a8"
             ],
             [
              0.3333333333333333,
              "#9c179e"
             ],
             [
              0.4444444444444444,
              "#bd3786"
             ],
             [
              0.5555555555555556,
              "#d8576b"
             ],
             [
              0.6666666666666666,
              "#ed7953"
             ],
             [
              0.7777777777777778,
              "#fb9f3a"
             ],
             [
              0.8888888888888888,
              "#fdca26"
             ],
             [
              1,
              "#f0f921"
             ]
            ],
            "type": "heatmap"
           }
          ],
          "histogram": [
           {
            "marker": {
             "pattern": {
              "fillmode": "overlay",
              "size": 10,
              "solidity": 0.2
             }
            },
            "type": "histogram"
           }
          ],
          "histogram2d": [
           {
            "colorbar": {
             "outlinewidth": 0,
             "ticks": ""
            },
            "colorscale": [
             [
              0,
              "#0d0887"
             ],
             [
              0.1111111111111111,
              "#46039f"
             ],
             [
              0.2222222222222222,
              "#7201a8"
             ],
             [
              0.3333333333333333,
              "#9c179e"
             ],
             [
              0.4444444444444444,
              "#bd3786"
             ],
             [
              0.5555555555555556,
              "#d8576b"
             ],
             [
              0.6666666666666666,
              "#ed7953"
             ],
             [
              0.7777777777777778,
              "#fb9f3a"
             ],
             [
              0.8888888888888888,
              "#fdca26"
             ],
             [
              1,
              "#f0f921"
             ]
            ],
            "type": "histogram2d"
           }
          ],
          "histogram2dcontour": [
           {
            "colorbar": {
             "outlinewidth": 0,
             "ticks": ""
            },
            "colorscale": [
             [
              0,
              "#0d0887"
             ],
             [
              0.1111111111111111,
              "#46039f"
             ],
             [
              0.2222222222222222,
              "#7201a8"
             ],
             [
              0.3333333333333333,
              "#9c179e"
             ],
             [
              0.4444444444444444,
              "#bd3786"
             ],
             [
              0.5555555555555556,
              "#d8576b"
             ],
             [
              0.6666666666666666,
              "#ed7953"
             ],
             [
              0.7777777777777778,
              "#fb9f3a"
             ],
             [
              0.8888888888888888,
              "#fdca26"
             ],
             [
              1,
              "#f0f921"
             ]
            ],
            "type": "histogram2dcontour"
           }
          ],
          "mesh3d": [
           {
            "colorbar": {
             "outlinewidth": 0,
             "ticks": ""
            },
            "type": "mesh3d"
           }
          ],
          "parcoords": [
           {
            "line": {
             "colorbar": {
              "outlinewidth": 0,
              "ticks": ""
             }
            },
            "type": "parcoords"
           }
          ],
          "pie": [
           {
            "automargin": true,
            "type": "pie"
           }
          ],
          "scatter": [
           {
            "fillpattern": {
             "fillmode": "overlay",
             "size": 10,
             "solidity": 0.2
            },
            "type": "scatter"
           }
          ],
          "scatter3d": [
           {
            "line": {
             "colorbar": {
              "outlinewidth": 0,
              "ticks": ""
             }
            },
            "marker": {
             "colorbar": {
              "outlinewidth": 0,
              "ticks": ""
             }
            },
            "type": "scatter3d"
           }
          ],
          "scattercarpet": [
           {
            "marker": {
             "colorbar": {
              "outlinewidth": 0,
              "ticks": ""
             }
            },
            "type": "scattercarpet"
           }
          ],
          "scattergeo": [
           {
            "marker": {
             "colorbar": {
              "outlinewidth": 0,
              "ticks": ""
             }
            },
            "type": "scattergeo"
           }
          ],
          "scattergl": [
           {
            "marker": {
             "colorbar": {
              "outlinewidth": 0,
              "ticks": ""
             }
            },
            "type": "scattergl"
           }
          ],
          "scattermap": [
           {
            "marker": {
             "colorbar": {
              "outlinewidth": 0,
              "ticks": ""
             }
            },
            "type": "scattermap"
           }
          ],
          "scattermapbox": [
           {
            "marker": {
             "colorbar": {
              "outlinewidth": 0,
              "ticks": ""
             }
            },
            "type": "scattermapbox"
           }
          ],
          "scatterpolar": [
           {
            "marker": {
             "colorbar": {
              "outlinewidth": 0,
              "ticks": ""
             }
            },
            "type": "scatterpolar"
           }
          ],
          "scatterpolargl": [
           {
            "marker": {
             "colorbar": {
              "outlinewidth": 0,
              "ticks": ""
             }
            },
            "type": "scatterpolargl"
           }
          ],
          "scatterternary": [
           {
            "marker": {
             "colorbar": {
              "outlinewidth": 0,
              "ticks": ""
             }
            },
            "type": "scatterternary"
           }
          ],
          "surface": [
           {
            "colorbar": {
             "outlinewidth": 0,
             "ticks": ""
            },
            "colorscale": [
             [
              0,
              "#0d0887"
             ],
             [
              0.1111111111111111,
              "#46039f"
             ],
             [
              0.2222222222222222,
              "#7201a8"
             ],
             [
              0.3333333333333333,
              "#9c179e"
             ],
             [
              0.4444444444444444,
              "#bd3786"
             ],
             [
              0.5555555555555556,
              "#d8576b"
             ],
             [
              0.6666666666666666,
              "#ed7953"
             ],
             [
              0.7777777777777778,
              "#fb9f3a"
             ],
             [
              0.8888888888888888,
              "#fdca26"
             ],
             [
              1,
              "#f0f921"
             ]
            ],
            "type": "surface"
           }
          ],
          "table": [
           {
            "cells": {
             "fill": {
              "color": "#EBF0F8"
             },
             "line": {
              "color": "white"
             }
            },
            "header": {
             "fill": {
              "color": "#C8D4E3"
             },
             "line": {
              "color": "white"
             }
            },
            "type": "table"
           }
          ]
         },
         "layout": {
          "annotationdefaults": {
           "arrowcolor": "#2a3f5f",
           "arrowhead": 0,
           "arrowwidth": 1
          },
          "autotypenumbers": "strict",
          "coloraxis": {
           "colorbar": {
            "outlinewidth": 0,
            "ticks": ""
           }
          },
          "colorscale": {
           "diverging": [
            [
             0,
             "#8e0152"
            ],
            [
             0.1,
             "#c51b7d"
            ],
            [
             0.2,
             "#de77ae"
            ],
            [
             0.3,
             "#f1b6da"
            ],
            [
             0.4,
             "#fde0ef"
            ],
            [
             0.5,
             "#f7f7f7"
            ],
            [
             0.6,
             "#e6f5d0"
            ],
            [
             0.7,
             "#b8e186"
            ],
            [
             0.8,
             "#7fbc41"
            ],
            [
             0.9,
             "#4d9221"
            ],
            [
             1,
             "#276419"
            ]
           ],
           "sequential": [
            [
             0,
             "#0d0887"
            ],
            [
             0.1111111111111111,
             "#46039f"
            ],
            [
             0.2222222222222222,
             "#7201a8"
            ],
            [
             0.3333333333333333,
             "#9c179e"
            ],
            [
             0.4444444444444444,
             "#bd3786"
            ],
            [
             0.5555555555555556,
             "#d8576b"
            ],
            [
             0.6666666666666666,
             "#ed7953"
            ],
            [
             0.7777777777777778,
             "#fb9f3a"
            ],
            [
             0.8888888888888888,
             "#fdca26"
            ],
            [
             1,
             "#f0f921"
            ]
           ],
           "sequentialminus": [
            [
             0,
             "#0d0887"
            ],
            [
             0.1111111111111111,
             "#46039f"
            ],
            [
             0.2222222222222222,
             "#7201a8"
            ],
            [
             0.3333333333333333,
             "#9c179e"
            ],
            [
             0.4444444444444444,
             "#bd3786"
            ],
            [
             0.5555555555555556,
             "#d8576b"
            ],
            [
             0.6666666666666666,
             "#ed7953"
            ],
            [
             0.7777777777777778,
             "#fb9f3a"
            ],
            [
             0.8888888888888888,
             "#fdca26"
            ],
            [
             1,
             "#f0f921"
            ]
           ]
          },
          "colorway": [
           "#636efa",
           "#EF553B",
           "#00cc96",
           "#ab63fa",
           "#FFA15A",
           "#19d3f3",
           "#FF6692",
           "#B6E880",
           "#FF97FF",
           "#FECB52"
          ],
          "font": {
           "color": "#2a3f5f"
          },
          "geo": {
           "bgcolor": "white",
           "lakecolor": "white",
           "landcolor": "#E5ECF6",
           "showlakes": true,
           "showland": true,
           "subunitcolor": "white"
          },
          "hoverlabel": {
           "align": "left"
          },
          "hovermode": "closest",
          "mapbox": {
           "style": "light"
          },
          "paper_bgcolor": "white",
          "plot_bgcolor": "#E5ECF6",
          "polar": {
           "angularaxis": {
            "gridcolor": "white",
            "linecolor": "white",
            "ticks": ""
           },
           "bgcolor": "#E5ECF6",
           "radialaxis": {
            "gridcolor": "white",
            "linecolor": "white",
            "ticks": ""
           }
          },
          "scene": {
           "xaxis": {
            "backgroundcolor": "#E5ECF6",
            "gridcolor": "white",
            "gridwidth": 2,
            "linecolor": "white",
            "showbackground": true,
            "ticks": "",
            "zerolinecolor": "white"
           },
           "yaxis": {
            "backgroundcolor": "#E5ECF6",
            "gridcolor": "white",
            "gridwidth": 2,
            "linecolor": "white",
            "showbackground": true,
            "ticks": "",
            "zerolinecolor": "white"
           },
           "zaxis": {
            "backgroundcolor": "#E5ECF6",
            "gridcolor": "white",
            "gridwidth": 2,
            "linecolor": "white",
            "showbackground": true,
            "ticks": "",
            "zerolinecolor": "white"
           }
          },
          "shapedefaults": {
           "line": {
            "color": "#2a3f5f"
           }
          },
          "ternary": {
           "aaxis": {
            "gridcolor": "white",
            "linecolor": "white",
            "ticks": ""
           },
           "baxis": {
            "gridcolor": "white",
            "linecolor": "white",
            "ticks": ""
           },
           "bgcolor": "#E5ECF6",
           "caxis": {
            "gridcolor": "white",
            "linecolor": "white",
            "ticks": ""
           }
          },
          "title": {
           "x": 0.05
          },
          "xaxis": {
           "automargin": true,
           "gridcolor": "white",
           "linecolor": "white",
           "ticks": "",
           "title": {
            "standoff": 15
           },
           "zerolinecolor": "white",
           "zerolinewidth": 2
          },
          "yaxis": {
           "automargin": true,
           "gridcolor": "white",
           "linecolor": "white",
           "ticks": "",
           "title": {
            "standoff": 15
           },
           "zerolinecolor": "white",
           "zerolinewidth": 2
          }
         }
        },
        "title": {
         "text": "PCA milk bottle colors - total explained variance ratio = 0.96"
        },
        "width": 900,
        "xaxis": {
         "range": [
          -0.8551698563084486,
          0.7954471601623703
         ],
         "title": {
          "text": "PC 1"
         }
        },
        "yaxis": {
         "range": [
          -0.6226006402364064,
          0.7124599426701846
         ],
         "title": {
          "text": "PC 2"
         }
        }
       }
      },
      "image/png": "[encoded data removed]"
     },
     "metadata": {},
     "output_type": "display_data"
    }
   ],
   "source": [
    "import plotly.express as px\n",
    "import plotly.graph_objects as go\n",
    "import io\n",
    "import base64\n",
    "from sklearn.decomposition import PCA\n",
    "\n",
    "PLOT_WIDTH = 900\n",
    "PLOT_HEIGHT = 900\n",
    "\n",
    "def create_color_background(pca_model, x_range, y_range, resolution):\n",
    "    x_grid = np.linspace(x_range[0], x_range[1], resolution)\n",
    "    y_grid = np.linspace(y_range[0], y_range[1], resolution)\n",
    "    \n",
    "    X, Y = np.meshgrid(x_grid, y_grid)\n",
    "    points_2d = np.column_stack([X.ravel(), Y.ravel()])\n",
    "    \n",
    "    points_3d = pca_model.inverse_transform(points_2d)\n",
    "    points_3d *= 255.0\n",
    "    \n",
    "    points_3d_clipped = np.clip(points_3d, 0, 255).astype(int)\n",
    "    hex_colors_bg = ['#%02x%02x%02x' % (r, g, b) for r, g, b in points_3d_clipped]\n",
    "    \n",
    "    return X, Y, np.array(hex_colors_bg).reshape(X.shape)\n",
    "\n",
    "\n",
    "def plot_pca(data, color_type):\n",
    "    pca = PCA(n_components=2)\n",
    "    color_label = f\"{color_type}_color\"\n",
    "    X = [hex_to_rgb(datum[color_label]) for datum in data]\n",
    "    X = np.array(X)\n",
    "\n",
    "    pca_results = pca.fit_transform(X)\n",
    "    hex_colors = [f\"#{datum[color_label]}\" for datum in data]\n",
    "    names = [datum[\"name\"] for datum in data]\n",
    "    symbols = [\"diamond\" if datum[\"fat_content\"] == \"intero\" else \"circle\" for datum in data]\n",
    "\n",
    "    min_x = min(pca_results[:, 0])\n",
    "    max_x = max(pca_results[:, 0])\n",
    "    min_y = min(pca_results[:, 1])\n",
    "    max_y = max(pca_results[:, 1])\n",
    "\n",
    "    x_padding = (max_x - min_x) * .1\n",
    "    y_padding = (max_y - min_y) * .1\n",
    "\n",
    "    x_range = [min_x - x_padding, max_x + x_padding]\n",
    "    y_range = [min_y - y_padding, max_y + y_padding]\n",
    "\n",
    "    X_bg, Y_bg, colors_bg = create_color_background(pca, x_range, y_range, 25)\n",
    "    \n",
    "    fig = go.Figure()\n",
    "\n",
    "    fig.update_layout(\n",
    "        xaxis=dict(range=x_range),\n",
    "        yaxis=dict(range=y_range)\n",
    "    )\n",
    "\n",
    "    dx = (x_range[1] - x_range[0]) / colors_bg.shape[1]\n",
    "    dy = (y_range[1] - y_range[0]) / colors_bg.shape[0]\n",
    "    \n",
    "    for i in range(colors_bg.shape[0]):\n",
    "        for j in range(colors_bg.shape[1]):\n",
    "            fig.add_shape(\n",
    "                type=\"rect\",\n",
    "                x0=x_range[0] + j * dx,\n",
    "                y0=y_range[0] + i * dy,\n",
    "                x1=x_range[0] + (j + 1) * dx,\n",
    "                y1=y_range[0] + (i + 1) * dy,\n",
    "                fillcolor=colors_bg[i, j],\n",
    "                line=dict(width=0),\n",
    "                layer=\"below\"\n",
    "            )\n",
    "    \n",
    "    fig.add_trace(go.Scatter(\n",
    "        x=pca_results[:, 0],\n",
    "        y=pca_results[:, 1],\n",
    "        mode='markers',\n",
    "        marker=dict(\n",
    "            size=30,\n",
    "            color=hex_colors,\n",
    "            line=dict(width=1, color='black'),\n",
    "            symbol=symbols,\n",
    "        ),\n",
    "    ))\n",
    "\n",
    "    tot_explained_variance = sum(pca.explained_variance_ratio_)\n",
    "    fig.update_layout(\n",
    "        title='PCA milk bottle colors - total explained variance ratio = %.2f' % tot_explained_variance,\n",
    "        xaxis_title='PC 1',\n",
    "        yaxis_title='PC 2',\n",
    "        showlegend=False,\n",
    "        width=PLOT_WIDTH,\n",
    "        height=PLOT_HEIGHT\n",
    "    )\n",
    "    fig.show()\n",
    "    \n",
    "\n",
    "plot_pca(data, \"manual\")"
   ]
  },
  {
   "cell_type": "code",
   "execution_count": null,
   "id": "6a57e93d-a37a-4daa-9f6a-1082a278af93",
   "metadata": {},
   "outputs": [],
   "source": []
  }
 ],
 "metadata": {
  "kernelspec": {
   "display_name": "Python 3 (ipykernel)",
   "language": "python",
   "name": "python3"
  },
  "language_info": {
   "codemirror_mode": {
    "name": "ipython",
    "version": 3
   },
   "file_extension": ".py",
   "mimetype": "text/x-python",
   "name": "python",
   "nbconvert_exporter": "python",
   "pygments_lexer": "ipython3",
   "version": "3.12.10"
  }
 },
 "nbformat": 4,
 "nbformat_minor": 5
}
